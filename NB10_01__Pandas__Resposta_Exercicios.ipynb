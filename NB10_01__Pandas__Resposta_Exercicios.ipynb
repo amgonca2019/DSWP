{
  "nbformat": 4,
  "nbformat_minor": 0,
  "metadata": {
    "colab": {
      "name": "NB10_01__Pandas.ipynb",
      "private_outputs": true,
      "provenance": []
    },
    "kernelspec": {
      "name": "python3",
      "display_name": "Python 3"
    }
  },
  "cells": [
    {
      "cell_type": "code",
      "metadata": {
        "id": "8NFtr6fFIfFd"
      },
      "source": [
        ""
      ],
      "execution_count": null,
      "outputs": []
    },
    {
      "cell_type": "markdown",
      "metadata": {
        "id": "xRfu8e8HJPE_"
      },
      "source": [
        "[![Open In Colab](https://colab.research.google.com/assets/colab-badge.svg)](https://colab.research.google.com/github/amgonca2019/DSWP/blob/master/NB10_01__Pandas__Resposta_Exercicios.ipynb)\r\n",
        "\r\n"
      ]
    },
    {
      "cell_type": "markdown",
      "metadata": {
        "id": "8fpUiw8PwC7_"
      },
      "source": [
        "<center><h1><b><i>PANDAS PARA DATA ANALYSIS</i></b></h1></center>\n",
        "\n",
        "\n",
        "\n",
        "# **Resposta dos Exercícios**\n"
      ]
    },
    {
      "cell_type": "markdown",
      "metadata": {
        "id": "wkxQFPPmeKLl"
      },
      "source": [
        "![Pandas](https://github.com/MathMachado/Materials/blob/master/Pandas.jpeg?raw=true)"
      ]
    },
    {
      "cell_type": "markdown",
      "metadata": {
        "id": "eKawOG-neqaD"
      },
      "source": [
        "![Pandas](https://github.com/MathMachado/Materials/blob/master/Pandas2.jpeg?raw=true)"
      ]
    },
    {
      "cell_type": "code",
      "metadata": {
        "id": "GKiEO6Mt5DVO"
      },
      "source": [
        "# Carrega a library Pandas e outras\r\n",
        "import pandas as pd\r\n",
        "import numpy as np\r\n",
        "import matplotlib.pyplot as plt\r\n",
        "%matplotlib inline\r\n",
        "\r\n",
        "print(f'Versão do Pandas: {pd.__version__}')\r\n",
        "print(f'Versão do NumPy.: {np.__version__}')"
      ],
      "execution_count": null,
      "outputs": []
    },
    {
      "cell_type": "code",
      "metadata": {
        "id": "-tTA6hHp5RTz"
      },
      "source": [
        "# Criando um dicionário, com parâmetros da função set option\r\n",
        "\r\n",
        "d_configuracao = {\r\n",
        "    'display.max_columns': 1000,\r\n",
        "    'display.expand_frame_repr': True,\r\n",
        "    'display.max_rows': 1000,\r\n",
        "    'display.precision': 2,\r\n",
        "    'display.show_dimensions': True\r\n",
        "                  }\r\n",
        "\r\n",
        "for op, value in d_configuracao.items():\r\n",
        "    pd.set_option(op, value)\r\n",
        "    print(op, value)"
      ],
      "execution_count": null,
      "outputs": []
    },
    {
      "cell_type": "markdown",
      "metadata": {
        "id": "iwd1lhq9mrD3"
      },
      "source": [
        "___\n",
        "# **Exercícios**"
      ]
    },
    {
      "cell_type": "markdown",
      "metadata": {
        "id": "o_cl0kFgQfFh"
      },
      "source": [
        "## Exercício 1\n",
        "* A partir dos dataframes USA_Abbrev, USA_Area e USA_Population, construa o Dataframe USA contendo as COLUNAS state, abbreviation, area, ages, year, population.\n"
      ]
    },
    {
      "cell_type": "markdown",
      "metadata": {
        "id": "KJ-XJ7uzSgb8"
      },
      "source": [
        "### **Concatenação** - Concat\r\n",
        "\r\n",
        "Concatenação basicamente ***cola DataFrames***. Tenha em mente que ***as dimensões devem corresponder ao longo do eixo que você está concatenando***. Você pode usar ** pd.concat ** e passar uma lista de DataFrames para concatenar juntos:\r\n",
        "\r\n",
        "### **Mesclar** - Merge\r\n",
        "\r\n",
        "A Ideia de mesclar é que estejamos **unindo** data frames, dado que eles ***compartilhem algum elemento em comum***, não sendo replicada esta  esta coluna no nova data frame!\r\n",
        "\r\n",
        "\r\n",
        "### **Juntar** - Join\r\n",
        "\r\n",
        "Juntar é um método conveniente para ***combinar as colunas*** de dois DataFrames ***indexados potencialmente diferentes em um único resultado*** DataFrame.\r\n"
      ]
    },
    {
      "cell_type": "code",
      "metadata": {
        "id": "BBu0bRW_5esE"
      },
      "source": [
        ""
      ],
      "execution_count": null,
      "outputs": []
    },
    {
      "cell_type": "code",
      "metadata": {
        "id": "jLgHgM015fPM"
      },
      "source": [
        "url = 'https://raw.githubusercontent.com/amgonca2019/DSWP/master/Dataframes/USA_Abbrev.csv'\r\n",
        "url2 = 'https://raw.githubusercontent.com/amgonca2019/DSWP/master/Dataframes/USA_Area.csv'\r\n",
        "url3 = 'https://raw.githubusercontent.com/amgonca2019/DSWP/master/Dataframes/USA_Population.csv'\r\n",
        "df_USA_Abbrev = pd.read_csv(url)\r\n",
        "df_USA_Area = pd.read_csv(url2)\r\n",
        "df_USA_Population = pd.read_csv(url3)"
      ],
      "execution_count": null,
      "outputs": []
    },
    {
      "cell_type": "code",
      "metadata": {
        "id": "1creEwvo78r9"
      },
      "source": [
        "df_USA_Abbrev.head(10)"
      ],
      "execution_count": null,
      "outputs": []
    },
    {
      "cell_type": "code",
      "metadata": {
        "id": "DYLSPnEH8CWV"
      },
      "source": [
        "df_USA_Abbrev.info()"
      ],
      "execution_count": null,
      "outputs": []
    },
    {
      "cell_type": "code",
      "metadata": {
        "id": "AZpAMFZY7s4u"
      },
      "source": [
        "df_USA_Area.head(10)"
      ],
      "execution_count": null,
      "outputs": []
    },
    {
      "cell_type": "code",
      "metadata": {
        "id": "jzLT48nl-NgS"
      },
      "source": [
        "df_USA_Area.info()"
      ],
      "execution_count": null,
      "outputs": []
    },
    {
      "cell_type": "code",
      "metadata": {
        "id": "7Y4GRfax7t1U"
      },
      "source": [
        "pd.set_option('display.float_format', lambda x: '%8.2f' % x)\r\n",
        "# pd.set_option(\"display.precision\", 2 )\r\n",
        "\r\n",
        "df_USA_Population.head(20)"
      ],
      "execution_count": null,
      "outputs": []
    },
    {
      "cell_type": "code",
      "metadata": {
        "id": "16oxEyLXIJfT"
      },
      "source": [
        "df_USA_Population.info()"
      ],
      "execution_count": null,
      "outputs": []
    },
    {
      "cell_type": "code",
      "metadata": {
        "id": "yTHLFNQ9eptv"
      },
      "source": [
        "df_USA_Population.state_region.value_counts()"
      ],
      "execution_count": null,
      "outputs": []
    },
    {
      "cell_type": "code",
      "metadata": {
        "id": "BvsfmlJ2VobP"
      },
      "source": [
        "# # Juntando os data frames df_USA_Abbrev e df_USA_Area, usando concat - \r\n",
        "\r\n",
        "pd.concat([df_USA_Abbrev, df_USA_Area],axis=1, join = 'outer') # axis = 1 => concatena por colunas - junta todas as colunas\r\n"
      ],
      "execution_count": null,
      "outputs": []
    },
    {
      "cell_type": "code",
      "metadata": {
        "id": "R0WCCDvlIkwS"
      },
      "source": [
        "# Juntando os data frames df_USA_Abbrev e df_USA_Area, usando merge() -  não repete as colunas\r\n",
        "\r\n",
        "df_USA_merged = pd.merge(df_USA_Abbrev, df_USA_Area, how = 'inner') # neste caso, todas as opções de how(right, outer, left) produz o mesmo resultado"
      ],
      "execution_count": null,
      "outputs": []
    },
    {
      "cell_type": "code",
      "metadata": {
        "id": "IQkvbX0nK_rt"
      },
      "source": [
        "df_USA_merged.head(10)"
      ],
      "execution_count": null,
      "outputs": []
    },
    {
      "cell_type": "code",
      "metadata": {
        "id": "rkPqz68PL9Cc"
      },
      "source": [
        "# Concatenar ou Meclar ou juntar df_USA_merged, df_USA_Population\r\n",
        "\r\n",
        "pd.concat([df_USA_merged, df_USA_Population], axis = 1, join = 'inner') # melhorar resultado"
      ],
      "execution_count": null,
      "outputs": []
    },
    {
      "cell_type": "code",
      "metadata": {
        "id": "O-M_2MKzauXO"
      },
      "source": [
        "pd.merge(df_USA_merged, df_USA_Population, on = ['abbreviation', 'state_region'])"
      ],
      "execution_count": null,
      "outputs": []
    },
    {
      "cell_type": "code",
      "metadata": {
        "id": "NIc1okWpetFD"
      },
      "source": [
        " # df_USA_Population_sample = df_USA_Population.sample(100)"
      ],
      "execution_count": null,
      "outputs": []
    },
    {
      "cell_type": "code",
      "metadata": {
        "id": "DWg_ljXLe2pa"
      },
      "source": [
        " # df_USA_Population_sample"
      ],
      "execution_count": null,
      "outputs": []
    },
    {
      "cell_type": "code",
      "metadata": {
        "id": "Hz5HRuz6dJMZ"
      },
      "source": [
        "# pd.set_option('display.max_rows', 200)\r\n",
        "df_USA_merged.join(df_USA_Population, how='outer') # Melhorar oresultado"
      ],
      "execution_count": null,
      "outputs": []
    },
    {
      "cell_type": "code",
      "metadata": {
        "id": "OrI0nBmOgTBU"
      },
      "source": [
        "# df_USA_merged.join(df_USA_Population_sample, how='outer')\r\n",
        "#df_USA_merged.join(df_USA_Population_sample.set_index('state_region\t'), on='abbreviation')\r\n",
        "pd.set_option('display.max_rows', 3000)\r\n",
        "df_USA_merged.join(df_USA_Population.set_index('state_region'), on = 'abbreviation' )  # tentar melhorar os indices\r\n"
      ],
      "execution_count": null,
      "outputs": []
    },
    {
      "cell_type": "code",
      "metadata": {
        "id": "3Urz6Du5mrA8"
      },
      "source": [
        "pd.set_option('display.max_rows', 3000)\r\n",
        "df = df_USA_Population.join(df_USA_merged.set_index('abbreviation'), on = 'state_region')\r\n"
      ],
      "execution_count": null,
      "outputs": []
    },
    {
      "cell_type": "code",
      "metadata": {
        "id": "0ESO7uXHncil"
      },
      "source": [
        "df.head(50) # Acho que seria isto  !!"
      ],
      "execution_count": null,
      "outputs": []
    },
    {
      "cell_type": "markdown",
      "metadata": {
        "id": "s8rQUo7yHKJ1"
      },
      "source": [
        "* Observação: A forma mais fácil de ler um arquivo CSV (a partir do Excell por exemplo) a partir do GitHub é clicar no arquivo csv no seu repositório do GitHub e em seguida clicar em 'raw'. Depois, copie o endereço apresentado no browser e cole na variável 'url'. Qualquer dúvida, leia o documento a seguir: https://towardsdatascience.com/3-ways-to-load-csv-files-into-colab-7c14fcbdcb92."
      ]
    },
    {
      "cell_type": "markdown",
      "metadata": {
        "id": "KTun1uSLuJ-A"
      },
      "source": [
        "## Exercício 2\n",
        "Source: https://github.com/aakankshaws/Pandas-exercises\n",
        "\n",
        "* Considere os dataframes a seguir e faça o merge do dataframe df_esquerdo com o dataframe df_direito:"
      ]
    },
    {
      "cell_type": "code",
      "metadata": {
        "id": "Soq7GVZnuREq"
      },
      "source": [
        "df_esquerdo = pd.DataFrame({'key': ['K0', 'K1', 'K2', 'K3'],\n",
        "                     'A': ['A0', 'A1', 'A2', 'A3'],\n",
        "                     'B': ['B0', 'B1', 'B2', 'B3']})\n",
        "   \n",
        "df_direito = pd.DataFrame({'key': ['K0', 'K1', 'K2', 'K3'],\n",
        "                          'C': ['C0', 'C1', 'C2', 'C3'],\n",
        "                          'D': ['D0', 'D1', 'D2', 'D3']})"
      ],
      "execution_count": null,
      "outputs": []
    },
    {
      "cell_type": "code",
      "metadata": {
        "id": "12BjTRUQHi48"
      },
      "source": [
        "df_esquerdo"
      ],
      "execution_count": null,
      "outputs": []
    },
    {
      "cell_type": "code",
      "metadata": {
        "id": "TDWkCiBiHosr"
      },
      "source": [
        "df_direito"
      ],
      "execution_count": null,
      "outputs": []
    },
    {
      "cell_type": "code",
      "metadata": {
        "id": "5iRdTczsRasf"
      },
      "source": [
        "pd.merge(df_esquerdo, df_direito,on = 'key', how = 'inner' )"
      ],
      "execution_count": null,
      "outputs": []
    },
    {
      "cell_type": "markdown",
      "metadata": {
        "id": "6KEsTARfvM1C"
      },
      "source": [
        "## Exercício 3\n",
        "Source: https://github.com/aakankshaws/Pandas-exercises\n",
        "\n",
        "* Considere os dataframes a seguir: ( Analisar depois)"
      ]
    },
    {
      "cell_type": "code",
      "metadata": {
        "id": "hgxE5gZ9vMEg"
      },
      "source": [
        "df_esquerdo = pd.DataFrame({'key1': ['K0', 'K0', 'K1', 'K2'],\n",
        "                     'key2': ['K0', 'K1', 'K0', 'K1'],\n",
        "                        'A': ['A0', 'A1', 'A2', 'A3'],\n",
        "                        'B': ['B0', 'B1', 'B2', 'B3']})\n",
        "    \n",
        "df_direito = pd.DataFrame({'key1': ['K0', 'K1', 'K1', 'K2'],\n",
        "                               'key2': ['K0', 'K0', 'K0', 'K0'],\n",
        "                                  'C': ['C0', 'C1', 'C2', 'C3'],\n",
        "                                  'D': ['D0', 'D1', 'D2', 'D3']})"
      ],
      "execution_count": null,
      "outputs": []
    },
    {
      "cell_type": "code",
      "metadata": {
        "id": "IRJn_31tTFVP"
      },
      "source": [
        "df_esquerdo"
      ],
      "execution_count": null,
      "outputs": []
    },
    {
      "cell_type": "code",
      "metadata": {
        "id": "uYgwLHFZTH3_"
      },
      "source": [
        "df_direito"
      ],
      "execution_count": null,
      "outputs": []
    },
    {
      "cell_type": "markdown",
      "metadata": {
        "id": "iv7AmZ1ivm8R"
      },
      "source": [
        "### Perguntas\n",
        "* Qual o output e a interpretação dos comandos a seguir:"
      ]
    },
    {
      "cell_type": "code",
      "metadata": {
        "id": "TWAW_1tuvvSO"
      },
      "source": [
        "pd.merge(df_esquerdo, df_direito, on = ['key1', 'key2'])"
      ],
      "execution_count": null,
      "outputs": []
    },
    {
      "cell_type": "code",
      "metadata": {
        "id": "QjM7pBONvzCJ"
      },
      "source": [
        "pd.merge(df_esquerdo, df_direito, how = 'outer', on = ['key1', 'key2'])"
      ],
      "execution_count": null,
      "outputs": []
    },
    {
      "cell_type": "code",
      "metadata": {
        "id": "D1Rr3Ghsv2iS"
      },
      "source": [
        "pd.merge(df_esquerdo, df_direito, how = 'right', on = ['key1', 'key2'])"
      ],
      "execution_count": null,
      "outputs": []
    },
    {
      "cell_type": "code",
      "metadata": {
        "id": "vXQwLjT-v3Iu"
      },
      "source": [
        "pd.merge(df_esquerdo, df_direito, how = 'left', on = ['key1', 'key2'])"
      ],
      "execution_count": null,
      "outputs": []
    },
    {
      "cell_type": "markdown",
      "metadata": {
        "id": "EIdltTC-t_lF"
      },
      "source": [
        "## Exercício 5\n",
        "5.1. Identifique e delete os atributos do dataframe df_Titanic que podem ser excluídos inicialmente no início da análise de dados."
      ]
    },
    {
      "cell_type": "code",
      "metadata": {
        "id": "xCp71Ou3W-wA"
      },
      "source": [
        "import seaborn as sns"
      ],
      "execution_count": null,
      "outputs": []
    },
    {
      "cell_type": "code",
      "metadata": {
        "id": "ce-cQNrfX2kv"
      },
      "source": [
        "df_titanic = sns.load_dataset('titanic')\r\n",
        "df_titanic.head(20)"
      ],
      "execution_count": null,
      "outputs": []
    },
    {
      "cell_type": "code",
      "metadata": {
        "id": "9S5z17xgZDiK"
      },
      "source": [
        "df_titanic.drop(columns = ['alive', 'alone']).head(10)"
      ],
      "execution_count": null,
      "outputs": []
    },
    {
      "cell_type": "markdown",
      "metadata": {
        "id": "bMwPLgWclWBq"
      },
      "source": [
        "___\n",
        "## Exercício 6 - Resolvido\n",
        "* Carregue o dataframe Titanic_With_MV.csv e analise o dataframe em busca de inconsistências e Missing Values (NaN)."
      ]
    },
    {
      "cell_type": "code",
      "metadata": {
        "id": "gFhQhN0UaXiJ"
      },
      "source": [
        "url ='https://raw.githubusercontent.com/amgonca2019/DSWP/master/Dataframes/Titanic_With_MV.csv'\r\n",
        "df_Titanic_MV = pd.read_csv(url, index_col = 'PassengerId')"
      ],
      "execution_count": null,
      "outputs": []
    },
    {
      "cell_type": "code",
      "metadata": {
        "id": "NgmHla8cbBbQ"
      },
      "source": [
        "df_Titanic_MV.head(20)"
      ],
      "execution_count": null,
      "outputs": []
    },
    {
      "cell_type": "code",
      "metadata": {
        "id": "rzdwiO4Miqn8"
      },
      "source": [
        "df_Titanic_MV.info()"
      ],
      "execution_count": null,
      "outputs": []
    },
    {
      "cell_type": "markdown",
      "metadata": {
        "id": "GM99kVXfi7PU"
      },
      "source": [
        "### Verificar Missing Values"
      ]
    },
    {
      "cell_type": "code",
      "metadata": {
        "id": "4BK8HFFHbVT_"
      },
      "source": [
        "df_Titanic_MV.isna().any()"
      ],
      "execution_count": null,
      "outputs": []
    },
    {
      "cell_type": "code",
      "metadata": {
        "id": "QvfmkJhqiijt"
      },
      "source": [
        "df_Titanic_MV.isna().sum()"
      ],
      "execution_count": null,
      "outputs": []
    },
    {
      "cell_type": "code",
      "metadata": {
        "id": "cUcAIpDgjSO0"
      },
      "source": [
        ""
      ],
      "execution_count": null,
      "outputs": []
    },
    {
      "cell_type": "markdown",
      "metadata": {
        "id": "Ej6WjQX90n1E"
      },
      "source": [
        "### Identificação e tratamento dos Missing Values\n",
        "* Em geral, **deletamos** variáveis com **mais de 50%** de **Missing Values**."
      ]
    },
    {
      "cell_type": "code",
      "metadata": {
        "id": "nuaM4JKNLeSI"
      },
      "source": [
        "df_Titanic_MV.shape"
      ],
      "execution_count": null,
      "outputs": []
    },
    {
      "cell_type": "code",
      "metadata": {
        "id": "GaYc-HXNJ1TQ"
      },
      "source": [
        "pd.set_option('display.max_rows', 500)"
      ],
      "execution_count": null,
      "outputs": []
    },
    {
      "cell_type": "code",
      "metadata": {
        "id": "v5s71jcHIGch"
      },
      "source": [
        "df_missing_values = pd.DataFrame(df_Titanic_MV.isnull().sum())\n",
        "df_missing_values['mv_percent'] = 100*df_missing_values[0]/df_Titanic_MV.shape[0]\n",
        "# df_missing_values[0].sort_values(ascending= False)\n",
        "df_missing_values.sort_values(by ='mv_percent', ascending= False)"
      ],
      "execution_count": null,
      "outputs": []
    },
    {
      "cell_type": "code",
      "metadata": {
        "id": "PYzbrWrL1yyd"
      },
      "source": [
        "df_missing_values = pd.DataFrame(df_Titanic.isnull().sum())\r\n",
        "df_missing_values['mv_percent'] = 100*df_missing_values[0]/df_Titanic.shape[0]"
      ],
      "execution_count": null,
      "outputs": []
    },
    {
      "cell_type": "code",
      "metadata": {
        "id": "0nBFfo192W2k"
      },
      "source": [
        "df_missing_values[0]"
      ],
      "execution_count": null,
      "outputs": []
    },
    {
      "cell_type": "code",
      "metadata": {
        "id": "kKcKds4B2cOl"
      },
      "source": [
        "df_Titanic.shape[0]"
      ],
      "execution_count": null,
      "outputs": []
    },
    {
      "cell_type": "code",
      "metadata": {
        "id": "x_q19fC31-rT"
      },
      "source": [
        "df_missing_values"
      ],
      "execution_count": null,
      "outputs": []
    },
    {
      "cell_type": "code",
      "metadata": {
        "id": "PUZua-felGw2"
      },
      "source": [
        "# Criando uma função para ver o percentual de missing values( Pode ser adaptada e usada como template)\r\n",
        "\r\n",
        "def mostra_missing_value(df_Titanic_MV):\r\n",
        "    total = df_Titanic_MV.isnull().sum().sort_values(ascending = False)\r\n",
        "    percent = 100*round((df_Titanic_MV.isnull().sum()/df_Titanic_MV.isnull().count()).sort_values(ascending = False), 2)\r\n",
        "    missing_data = pd.concat([total, percent], axis = 1, keys=['Total', 'Percentual'])\r\n",
        "    print(missing_data.head(10))"
      ],
      "execution_count": null,
      "outputs": []
    },
    {
      "cell_type": "code",
      "metadata": {
        "id": "S5OSZtGQnWhh"
      },
      "source": [
        "mostra_missing_value(df_Titanic_MV)"
      ],
      "execution_count": null,
      "outputs": []
    },
    {
      "cell_type": "code",
      "metadata": {
        "id": "mumFwKJ9nxc5"
      },
      "source": [
        "type(mostra_missing_value(df_Titanic_MV))"
      ],
      "execution_count": null,
      "outputs": []
    },
    {
      "cell_type": "code",
      "metadata": {
        "id": "MeM7ddxK68Do"
      },
      "source": [
        "# Apagando o atributo Embarked, pois tem mais de 50 % de missing values. Apagando também o atributo Ticket, pois a principio não nos interessa\r\n",
        "\r\n",
        "df_Titanic_MV.drop(['Cabin', 'Ticket'], axis = 1).head(10)"
      ],
      "execution_count": null,
      "outputs": []
    },
    {
      "cell_type": "code",
      "metadata": {
        "id": "qc8nLEytosK0"
      },
      "source": [
        "df_Titanic_MV.head(10)"
      ],
      "execution_count": null,
      "outputs": []
    },
    {
      "cell_type": "code",
      "metadata": {
        "id": "V7KUGAX6lilP"
      },
      "source": [
        "# import pandas as pd\n",
        "# df_Titanic = pd.read_csv('https://raw.githubusercontent.com/MathMachado/Python4DS/DS_Python/Dataframes/Titanic_With_MV.csv?token =AGDJQ63MNPPPROFNSO2BZW25XSR72', index_col= 'PassengerId')\n",
        "url ='https://raw.githubusercontent.com/amgonca2019/DSWP/master/Dataframes/Titanic_With_MV.csv'\n",
        "df_Titanic= pd.read_csv(url, index_col = 'PassengerId')\n",
        "df_Titanic.head(10)"
      ],
      "execution_count": null,
      "outputs": []
    },
    {
      "cell_type": "markdown",
      "metadata": {
        "id": "m3UnAPJakCLR"
      },
      "source": [
        "* Segue o dicionário de dados do dataframe Titanic:\n",
        "    * PassengerID: ID do passageiro;\n",
        "    * survived: Indicador, sendo 1= Passageiro sobreviveu e 0= Passageiro morreu;\n",
        "    * Pclass: Classe;\n",
        "    * Age: Idade do Passageiro;\n",
        "    * SibSp: Número de parentes a bordo (esposa, irmãos, pais e etc);\n",
        "    * Parch: Número de pais/crianças a bordo;\n",
        "    * Fare: Valor pago pelo Passageiro;\n",
        "    * Cabin: Cabine do Passageiro;\n",
        "    * Embarked: A porta pelo qual o Passageiro embarcou.\n",
        "    * Name: Nome do Passageiro;\n",
        "    * sex: sexo do Passageiro\n",
        "    "
      ]
    },
    {
      "cell_type": "code",
      "metadata": {
        "id": "TR76TrKX0GNU"
      },
      "source": [
        "df_Titanic.Parch.unique()\r\n",
        "# df_Titanic.Parch.nunique()"
      ],
      "execution_count": null,
      "outputs": []
    },
    {
      "cell_type": "markdown",
      "metadata": {
        "id": "_6RvRCXgwomw"
      },
      "source": [
        "### Avaliando inconsistências nas COLUNAS"
      ]
    },
    {
      "cell_type": "code",
      "metadata": {
        "id": "PToomnfRxxI5"
      },
      "source": [
        "import seaborn as sns\n",
        "import pandas as pd\n",
        "import numpy as np"
      ],
      "execution_count": null,
      "outputs": []
    },
    {
      "cell_type": "code",
      "metadata": {
        "id": "3nc_iuRR1Tju"
      },
      "source": [
        "# Uniformizando o nome das COLUNAS\n",
        "\n",
        "df_Titanic.columns= [cols.lower() for cols in df_Titanic.columns]\n",
        "df_Titanic.head()"
      ],
      "execution_count": null,
      "outputs": []
    },
    {
      "cell_type": "markdown",
      "metadata": {
        "id": "G9jteCnAxdnK"
      },
      "source": [
        "### **Coluna 'pclass'**"
      ]
    },
    {
      "cell_type": "code",
      "metadata": {
        "id": "Hq9LQvY42dTc"
      },
      "source": [
        "sns."
      ],
      "execution_count": null,
      "outputs": []
    },
    {
      "cell_type": "code",
      "metadata": {
        "id": "wUk0YNlxsgvf"
      },
      "source": [
        "# Numero de passageiros por classe\r\n",
        "\r\n",
        "df_Titanic['pclass'].value_counts()"
      ],
      "execution_count": null,
      "outputs": []
    },
    {
      "cell_type": "code",
      "metadata": {
        "id": "9vPrB3AAx0Ym"
      },
      "source": [
        "# Seaborn - Visualizando o numero de sobreviventes por classe\r\n",
        "\r\n",
        "sns.countplot(x = 'survived', hue ='pclass', data = df_Titanic)"
      ],
      "execution_count": null,
      "outputs": []
    },
    {
      "cell_type": "markdown",
      "metadata": {
        "id": "2n8s9Ad1m7od"
      },
      "source": [
        "Não me parece nada estranho com a variável 'pclass'. Ou você identifica alguma coisa estranho?\r\n",
        "\r\n",
        "* Observa-se que na classe 3,  teve um numero maior de não sobreviventes !!!"
      ]
    },
    {
      "cell_type": "markdown",
      "metadata": {
        "id": "m8EGM6gSxrzS"
      },
      "source": [
        "### Coluna 'sex'"
      ]
    },
    {
      "cell_type": "code",
      "metadata": {
        "id": "8SQ8v2Wnspfb"
      },
      "source": [
        "df_Titanic['sex'].value_counts()"
      ],
      "execution_count": null,
      "outputs": []
    },
    {
      "cell_type": "code",
      "metadata": {
        "id": "BRRgcLtinIRz"
      },
      "source": [
        "# Seaborn - Visualizando o numero de sobreviventes por sexo\r\n",
        "\r\n",
        "sns.countplot(x = 'survived', hue ='sex', data = df_Titanic)"
      ],
      "execution_count": null,
      "outputs": []
    },
    {
      "cell_type": "code",
      "metadata": {
        "id": "Wxeb4QHa12s8"
      },
      "source": [
        ""
      ],
      "execution_count": null,
      "outputs": []
    },
    {
      "cell_type": "markdown",
      "metadata": {
        "id": "wpp0iL0kyGTl"
      },
      "source": [
        "Qual sua opinião sobre esse preenchimento?\n",
        "\n",
        "Algum problema?"
      ]
    },
    {
      "cell_type": "markdown",
      "metadata": {
        "id": "jxx06kJFnNrP"
      },
      "source": [
        "Oops... Aqui temos vários problemas... Olhando para estes resultados, você concorda que 'male', 'm', 'MALE', M', 'mALE' e 'Men' se trata da mesma informação?\n",
        "\n",
        "Da mesma forma, 'female', 'f', 'F', 'Female', 'fEMALE', 'Woman', 'w' e 'W' também se trata da mesma informação?\n",
        "\n",
        "Então, vamos fazer o seguinte:\n",
        "\n",
        "* Toda vez que eu encontrar um desses valores: ['m', 'MALE', 'M', 'mALE', 'Men'], vou substituir por 'male';\n",
        "* Toda vez que eu encontrar um desses valores: ['f', 'F', 'Female', 'fEMALE', 'Woman', 'w', 'W'], vou substituit por 'female'."
      ]
    },
    {
      "cell_type": "code",
      "metadata": {
        "id": "oQbEVi1t2tfR"
      },
      "source": [
        "# Fazendo uma cópia, para preservarmos o DF original\r\n",
        "df_Titanic2= df_Titanic.copy()\r\n",
        "df_Titanic2"
      ],
      "execution_count": null,
      "outputs": []
    },
    {
      "cell_type": "markdown",
      "metadata": {
        "id": "apc-ccODyZ-d"
      },
      "source": [
        "#### Corrigir com **df.replace()**"
      ]
    },
    {
      "cell_type": "code",
      "metadata": {
        "id": "CwoyLBK9oME5"
      },
      "source": [
        "df_Titanic['sex2'] = df_Titanic['sex'].replace(['m', 'MALE', 'M', 'mALE', 'Men'], 'male')\n",
        "df_Titanic['sex3'] = df_Titanic['sex2'].replace(['f', 'F', 'Female', 'fEMALE', 'Woman', 'w', 'W'], 'female')  "
      ],
      "execution_count": null,
      "outputs": []
    },
    {
      "cell_type": "code",
      "metadata": {
        "id": "MCS_g4Ej4M72"
      },
      "source": [
        "df_Titanic"
      ],
      "execution_count": null,
      "outputs": []
    },
    {
      "cell_type": "code",
      "metadata": {
        "id": "pLY1740H34_f"
      },
      "source": [
        "df_Titanic.sex3.unique()"
      ],
      "execution_count": null,
      "outputs": []
    },
    {
      "cell_type": "markdown",
      "metadata": {
        "id": "RC35I-Njp4vh"
      },
      "source": [
        "Vamos ver a distribuição dos dados novamente no gráfico:"
      ]
    },
    {
      "cell_type": "code",
      "metadata": {
        "id": "1eGvEhA9qAN6"
      },
      "source": [
        "# Seaborn - Visualizando o numero de sobreviventes por sexo\r\n",
        "\r\n",
        "sns.countplot(x = 'survived', hue ='sex3', data = df_Titanic)"
      ],
      "execution_count": null,
      "outputs": []
    },
    {
      "cell_type": "code",
      "metadata": {
        "id": "IY3TaKUcszTQ"
      },
      "source": [
        "df_Titanic['sex3'].value_counts()"
      ],
      "execution_count": null,
      "outputs": []
    },
    {
      "cell_type": "markdown",
      "metadata": {
        "id": "2nOAcv3iqEaK"
      },
      "source": [
        "Ok, de fato corrigimos os problemas de preenchimento da variável 'sex'."
      ]
    },
    {
      "cell_type": "markdown",
      "metadata": {
        "id": "dqLqmrTWylY3"
      },
      "source": [
        "#### Corrigir com **df.map()**"
      ]
    },
    {
      "cell_type": "code",
      "metadata": {
        "id": "dRvuNo4E3Ewx"
      },
      "source": [
        "# Voltanmdo ao DF original\r\n",
        "\r\n",
        "df_Titanic= df_Titanic2.copy()\r\n",
        "df_Titanic"
      ],
      "execution_count": null,
      "outputs": []
    },
    {
      "cell_type": "code",
      "metadata": {
        "id": "3X0_ZdwCyquk"
      },
      "source": [
        "# Primeiro criamos um dicionário - lista de chaves para um valor\n",
        "\n",
        "d_sexo= {}\n",
        "d_sexo.update(dict.fromkeys(['m', 'MALE', 'M', 'mALE', 'Men', 'male'], 'male'))\n",
        "d_sexo.update(dict.fromkeys(['f', 'F', 'Female', 'fEMALE', 'Woman', 'w', 'W', 'female'], 'female'))\n",
        "print(d_sexo)"
      ],
      "execution_count": null,
      "outputs": []
    },
    {
      "cell_type": "markdown",
      "metadata": {
        "id": "YQ3lwKRKbsx0"
      },
      "source": [
        "Aplica a transformação:"
      ]
    },
    {
      "cell_type": "code",
      "metadata": {
        "id": "idBwRNI7bvCC"
      },
      "source": [
        "df_Titanic['sex2'] = df_Titanic['sex'].map(d_sexo)\n",
        "df_Titanic"
      ],
      "execution_count": null,
      "outputs": []
    },
    {
      "cell_type": "code",
      "metadata": {
        "id": "ftHtXWtt7Mpw"
      },
      "source": [
        "df_Titanic['sex2'].value_counts()\r\n",
        "# df_Titanic['sex2'].unique()\r\n",
        "#df_Titanic['sex2'].nunique()"
      ],
      "execution_count": null,
      "outputs": []
    },
    {
      "cell_type": "markdown",
      "metadata": {
        "id": "FzDl78rfb3p5"
      },
      "source": [
        "Qual a conclusão? Este preenchimento faz mais sentido que o anterior?\r\n",
        "* Embarcaram mais pessoas do sexo masculino, do que do sexo feminino"
      ]
    },
    {
      "cell_type": "code",
      "metadata": {
        "id": "SvrZtKRpzIDc"
      },
      "source": [
        "# Deleta as variáveis 'sex':\n",
        "\n",
        "df_Titanic = df_Titanic.drop(columns = ['sex'], axis = 1).rename(columns= {'sex2': 'sex'})\n",
        "\n",
        "# Mostra os dados:\n",
        "df_Titanic.head()"
      ],
      "execution_count": null,
      "outputs": []
    },
    {
      "cell_type": "code",
      "metadata": {
        "id": "6URC6h8xzfc5"
      },
      "source": [
        "# Seaborn - Plotando valores categoricos\r\n",
        "\r\n",
        "sns.catplot(x=\"sex\", kind=\"count\", data = df_Titanic)"
      ],
      "execution_count": null,
      "outputs": []
    },
    {
      "cell_type": "code",
      "metadata": {
        "id": "x36hL47s-Ym4"
      },
      "source": [
        ""
      ],
      "execution_count": null,
      "outputs": []
    },
    {
      "cell_type": "code",
      "metadata": {
        "id": "k_spkJbmqdRW"
      },
      "source": [
        "# Seaborn - Visualizando o numero de sobreviventes por sexo\r\n",
        "\r\n",
        "sns.countplot(x = 'survived', hue ='sex', data = df_Titanic)"
      ],
      "execution_count": null,
      "outputs": []
    },
    {
      "cell_type": "code",
      "metadata": {
        "id": "PknnzE6c-wtF"
      },
      "source": [
        ""
      ],
      "execution_count": null,
      "outputs": []
    },
    {
      "cell_type": "markdown",
      "metadata": {
        "id": "bgBNoXUNzoWZ"
      },
      "source": [
        "### Feature Engineering\n",
        "#### Coluna 'cabin'\n",
        "* Construir as COLUNAS:\n",
        "    * deck - Letra de Cabin;\n",
        "    * seat - Número de Cabin"
      ]
    },
    {
      "cell_type": "markdown",
      "metadata": {
        "id": "8fHsLrnut6mk"
      },
      "source": [
        "Sugestões:\n",
        "1) Não descartar nenhuma informação (Fábio);\n",
        "\n",
        "2) Coluna com número de cabines reservadas (Thomaz)."
      ]
    },
    {
      "cell_type": "code",
      "metadata": {
        "id": "J3P4SaUj-6EO"
      },
      "source": [
        "# Verificando os códigos das cabines\r\n",
        "\r\n",
        "df_Titanic['cabin'].head(20)"
      ],
      "execution_count": null,
      "outputs": []
    },
    {
      "cell_type": "code",
      "metadata": {
        "id": "WCNvYPmo_JlV"
      },
      "source": [
        "# Verificando os códigos das cabines\r\n",
        "\r\n",
        "df_Titanic['cabin'].value_counts()"
      ],
      "execution_count": null,
      "outputs": []
    },
    {
      "cell_type": "code",
      "metadata": {
        "id": "p0NFFxx8z-vq"
      },
      "source": [
        "# Verificando os códigos das cabines\r\n",
        "\r\n",
        "set(df_Titanic['cabin'])"
      ],
      "execution_count": null,
      "outputs": []
    },
    {
      "cell_type": "markdown",
      "metadata": {
        "id": "7E6yje89u7KF"
      },
      "source": [
        "Como podemos ver, trata-se de uma variável categórica com vários níveis. Portanto, vamos capturar somente a primeira letra da variável 'cabin'. Para tal, vamos utilizar a função slice().\n",
        "\n",
        ">***str.slice()*** - Captura (slice) partes de s_Str."
      ]
    },
    {
      "cell_type": "markdown",
      "metadata": {
        "id": "wmZLlSaArR6F"
      },
      "source": [
        "A seguir, capturamos a primeira letra da variável 'cabin':"
      ]
    },
    {
      "cell_type": "code",
      "metadata": {
        "id": "hUZTJU0MvVxP"
      },
      "source": [
        "# definindo a variável 'deck' que representará a primeira letra da variável 'cabin'\n",
        "\n",
        "df_Titanic[\"deck\"] = df_Titanic[\"cabin\"].str.slice(0, 1) # slice(inicio, tamanho_da_string)\n",
        "# df_Titanic['cabin'].str.slice()"
      ],
      "execution_count": null,
      "outputs": []
    },
    {
      "cell_type": "code",
      "metadata": {
        "id": "MBNoObaEBp0E"
      },
      "source": [
        "df_Titanic.head(20)"
      ],
      "execution_count": null,
      "outputs": []
    },
    {
      "cell_type": "code",
      "metadata": {
        "id": "bQGqVl00BhOV"
      },
      "source": [
        "df_Titanic['deck'].value_counts()"
      ],
      "execution_count": null,
      "outputs": []
    },
    {
      "cell_type": "markdown",
      "metadata": {
        "id": "6myhrth0rZ6t"
      },
      "source": [
        "**A seguir, vamos extrair a parte numérica da variável 'cabin' usando Expressões Regulares:**\n",
        "\n"
      ]
    },
    {
      "cell_type": "code",
      "metadata": {
        "id": "jZWi1i7cxz8h"
      },
      "source": [
        "df_Titanic.head(10)"
      ],
      "execution_count": null,
      "outputs": []
    },
    {
      "cell_type": "code",
      "metadata": {
        "id": "J_7L2F7P0-B6"
      },
      "source": [
        "df_Titanic.cabin.unique()"
      ],
      "execution_count": null,
      "outputs": []
    },
    {
      "cell_type": "code",
      "metadata": {
        "id": "8UXkACPmsfwN"
      },
      "source": [
        "# Importar a biblioiteca para Expressões Regulares\n",
        "\n",
        "import re"
      ],
      "execution_count": null,
      "outputs": []
    },
    {
      "cell_type": "code",
      "metadata": {
        "id": "SUxP7AFdyvyM"
      },
      "source": [
        "# help(re)"
      ],
      "execution_count": null,
      "outputs": []
    },
    {
      "cell_type": "code",
      "metadata": {
        "id": "QKk-fnW4rf4o"
      },
      "source": [
        "# Primeiramente, usamos a função split() para separar o conteúdo da variável em COLUNAS: \n",
        "\n",
        "new = df_Titanic[\"cabin\"].str.split(\" \", n = 3, expand = True) "
      ],
      "execution_count": null,
      "outputs": []
    },
    {
      "cell_type": "code",
      "metadata": {
        "id": "1OJLz1_8z-uB"
      },
      "source": [
        "new.head(10)"
      ],
      "execution_count": null,
      "outputs": []
    },
    {
      "cell_type": "markdown",
      "metadata": {
        "id": "dFqoR-Xew9gX"
      },
      "source": [
        "Observe acima que o comando gera quantos splits da variável eu quiser. No entanto, por simplicidade, me interessa somente o primeiro split."
      ]
    },
    {
      "cell_type": "markdown",
      "metadata": {
        "id": "_M7vA6WoVG05"
      },
      "source": [
        "Agora, vou extrair o número do assento do passageiro usando Expressões Regulares:"
      ]
    },
    {
      "cell_type": "code",
      "metadata": {
        "id": "rVH5o9KT_IH3"
      },
      "source": [
        "# Aqui está o conteúdo de new[0]:\n",
        "new[0].head(10)"
      ],
      "execution_count": null,
      "outputs": []
    },
    {
      "cell_type": "code",
      "metadata": {
        "id": "P7NTcsGOxxSX"
      },
      "source": [
        "new2= new[0].str.extract('(\\d+)')\n",
        "new2.head(10)"
      ],
      "execution_count": null,
      "outputs": []
    },
    {
      "cell_type": "markdown",
      "metadata": {
        "id": "bf8vw2Mc18bQ"
      },
      "source": [
        "Por fim, vou carregar esta informação ao dataframe df:"
      ]
    },
    {
      "cell_type": "code",
      "metadata": {
        "id": "6l6EoRvsxRXn"
      },
      "source": [
        "df_Titanic[\"seat\"] = new2\n",
        "df_Titanic.head(10)"
      ],
      "execution_count": null,
      "outputs": []
    },
    {
      "cell_type": "markdown",
      "metadata": {
        "id": "LK4V61uy3N9s"
      },
      "source": [
        "Por fim, excluir a variável 'cabin':"
      ]
    },
    {
      "cell_type": "code",
      "metadata": {
        "id": "4uAr55J43NY7"
      },
      "source": [
        "df_Titanic= df_Titanic.drop(columns= [\"cabin\"], axis =1, errors=\"ignore\")"
      ],
      "execution_count": null,
      "outputs": []
    },
    {
      "cell_type": "code",
      "metadata": {
        "id": "yH1jbXAO4oZH"
      },
      "source": [
        "df_Titanic.head(20)"
      ],
      "execution_count": null,
      "outputs": []
    },
    {
      "cell_type": "markdown",
      "metadata": {
        "id": "qZuH7YJXZCgY"
      },
      "source": [
        "### Coluna 'embarked'"
      ]
    },
    {
      "cell_type": "code",
      "metadata": {
        "id": "nTPikhrIZGya"
      },
      "source": [
        "df_Titanic['embarked'].value_counts()"
      ],
      "execution_count": null,
      "outputs": []
    },
    {
      "cell_type": "code",
      "metadata": {
        "id": "ixbZsuqOZsOc"
      },
      "source": [
        "# Visualizando  a quantidade da variável categórica embarked\r\n",
        "import seaborn as sns"
      ],
      "execution_count": null,
      "outputs": []
    },
    {
      "cell_type": "code",
      "metadata": {
        "id": "nPz6Y9tQ61II"
      },
      "source": [
        "sns.catplot(x=\"embarked\", kind=\"count\", data = df_Titanic)"
      ],
      "execution_count": null,
      "outputs": []
    },
    {
      "cell_type": "markdown",
      "metadata": {
        "id": "VvdU8aAwZNvG"
      },
      "source": [
        "Não vejo problemas com esta variável. Vamos em frente..."
      ]
    },
    {
      "cell_type": "markdown",
      "metadata": {
        "id": "_s7ccZRG9059"
      },
      "source": [
        ""
      ]
    },
    {
      "cell_type": "code",
      "metadata": {
        "id": "k2SLRAhrub_B"
      },
      "source": [
        "sns.countplot(x = 'survived', hue ='embarked', data = df_Titanic)"
      ],
      "execution_count": null,
      "outputs": []
    },
    {
      "cell_type": "code",
      "metadata": {
        "id": "YRJcWaYkuxK4"
      },
      "source": [
        "sns.countplot(x = 'pclass', hue ='embarked', data = df_Titanic)"
      ],
      "execution_count": null,
      "outputs": []
    },
    {
      "cell_type": "code",
      "metadata": {
        "id": "rzrOUULUu6-P"
      },
      "source": [
        "sns.countplot(x = 'sex', hue ='embarked', data = df_Titanic)"
      ],
      "execution_count": null,
      "outputs": []
    },
    {
      "cell_type": "markdown",
      "metadata": {
        "id": "DfSMcYYZ5yLV"
      },
      "source": [
        "### Variável 'pclass'"
      ]
    },
    {
      "cell_type": "code",
      "metadata": {
        "id": "Q2uU0k-G5yLN"
      },
      "source": [
        "df_Titanic['pclass'].value_counts()"
      ],
      "execution_count": null,
      "outputs": []
    },
    {
      "cell_type": "markdown",
      "metadata": {
        "id": "Gue26Y3A5yLL"
      },
      "source": [
        "Algum problema com esta variável?"
      ]
    },
    {
      "cell_type": "code",
      "metadata": {
        "id": "q3P82wPp5yK8"
      },
      "source": [
        "sns.catplot(x=\"pclass\", kind=\"count\", data = df_Titanic)"
      ],
      "execution_count": null,
      "outputs": []
    },
    {
      "cell_type": "markdown",
      "metadata": {
        "id": "Qrnc6VUKSTNp"
      },
      "source": [
        "### Coluna 'parch'"
      ]
    },
    {
      "cell_type": "code",
      "metadata": {
        "id": "2i4ed-0zSvJc"
      },
      "source": [
        "df_Titanic['parch'].value_counts()"
      ],
      "execution_count": null,
      "outputs": []
    },
    {
      "cell_type": "code",
      "metadata": {
        "id": "qd7u__6KZ6DM"
      },
      "source": [
        "sns.catplot(x=\"parch\", kind=\"count\", data = df_Titanic)"
      ],
      "execution_count": null,
      "outputs": []
    },
    {
      "cell_type": "markdown",
      "metadata": {
        "id": "Z9vM3vktC7BG"
      },
      "source": [
        "### Feature Engineering\n",
        "* Criar a coluna 'sozinho_parch', onde sozinho_parch= 1 significa que o passageiro viaja sozinho e 0, caso contrário."
      ]
    },
    {
      "cell_type": "code",
      "metadata": {
        "id": "Nd4TyOYjs-HW"
      },
      "source": [
        "# Função para retornar 0 ou 1 em função dos valores de variavel\n",
        "def sozinho(variavel):\n",
        "    if (variavel == 0):\n",
        "        return 1\n",
        "    else:\n",
        "        return 0"
      ],
      "execution_count": null,
      "outputs": []
    },
    {
      "cell_type": "code",
      "metadata": {
        "id": "5oByiBuos_B3"
      },
      "source": [
        "df_Titanic['sozinho_parch'] = df_Titanic['parch'].map(sozinho)\n",
        "df_Titanic.head()"
      ],
      "execution_count": null,
      "outputs": []
    },
    {
      "cell_type": "markdown",
      "metadata": {
        "id": "C1ICby1oSd41"
      },
      "source": [
        "### Coluna 'sibsp'"
      ]
    },
    {
      "cell_type": "code",
      "metadata": {
        "id": "5n7JNEQqTNjz"
      },
      "source": [
        "df_Titanic['sibsp'].value_counts()"
      ],
      "execution_count": null,
      "outputs": []
    },
    {
      "cell_type": "markdown",
      "metadata": {
        "id": "NLfMhiy0x4u5"
      },
      "source": [
        "* Algum problema?"
      ]
    },
    {
      "cell_type": "code",
      "metadata": {
        "id": "nayYFRK9g8iV"
      },
      "source": [
        "sns.catplot(x=\"sibsp\", kind=\"count\", data = df_Titanic)"
      ],
      "execution_count": null,
      "outputs": []
    },
    {
      "cell_type": "code",
      "metadata": {
        "id": "KzCX2MTmE9Tw"
      },
      "source": [
        "sns.countplot(x = 'survived', hue ='sibsp', data = df_Titanic)"
      ],
      "execution_count": null,
      "outputs": []
    },
    {
      "cell_type": "markdown",
      "metadata": {
        "id": "_58rZqMaDzf-"
      },
      "source": [
        "### Feature Engineering:\n",
        "* Criar o atributo 'sozinho_sibsp', onde sozinho= 1 significa que o passageiro viaja sozinho e 0, caso contrário."
      ]
    },
    {
      "cell_type": "code",
      "metadata": {
        "id": "HUrJ4IywrEoA"
      },
      "source": [
        "df_Titanic['sozinho_sibsp'] = df_Titanic['sibsp'].map(sozinho)\n",
        "df_Titanic.head()"
      ],
      "execution_count": null,
      "outputs": []
    },
    {
      "cell_type": "markdown",
      "metadata": {
        "id": "0MO9jj2NvGp_"
      },
      "source": [
        "### Coluna 'fare'\n",
        "> Discretizar a coluna 'fare' em 10 buckets."
      ]
    },
    {
      "cell_type": "code",
      "metadata": {
        "id": "Q48iVBHY_Qsf"
      },
      "source": [
        "df_Titanic.fare.describe()"
      ],
      "execution_count": null,
      "outputs": []
    },
    {
      "cell_type": "code",
      "metadata": {
        "id": "-CB9IMZlDM41"
      },
      "source": [
        "print(df_Titanic.fare.unique())\r\n",
        "df_Titanic.fare.nunique()\r\n"
      ],
      "execution_count": null,
      "outputs": []
    },
    {
      "cell_type": "code",
      "metadata": {
        "id": "a4XRON3zBsbZ"
      },
      "source": [
        "sns.catplot(x=\"fare\", kind=\"count\", data = df_Titanic)"
      ],
      "execution_count": null,
      "outputs": []
    },
    {
      "cell_type": "code",
      "metadata": {
        "id": "mriAYdEmCOuS"
      },
      "source": [
        "sns.histplot(df_Titanic['fare'])"
      ],
      "execution_count": null,
      "outputs": []
    },
    {
      "cell_type": "code",
      "metadata": {
        "id": "4-qO2Xk76Buz"
      },
      "source": [
        "# Utilizando qcut\n",
        "fareQcut = pd.qcut(df_Titanic['fare'], 10)"
      ],
      "execution_count": null,
      "outputs": []
    },
    {
      "cell_type": "code",
      "metadata": {
        "id": "_nL-uBaTFz-7"
      },
      "source": [
        "fareQcut.head(20)"
      ],
      "execution_count": null,
      "outputs": []
    },
    {
      "cell_type": "code",
      "metadata": {
        "id": "K36soBxsFxRs"
      },
      "source": [
        "df_Titanic['fare_class'] = pd.qcut(df_Titanic['fare'], 10, labels=False)"
      ],
      "execution_count": null,
      "outputs": []
    },
    {
      "cell_type": "code",
      "metadata": {
        "id": "yaaPyp1LEJQQ"
      },
      "source": [
        "df_Titanic['fare_class'].head(10)"
      ],
      "execution_count": null,
      "outputs": []
    },
    {
      "cell_type": "code",
      "metadata": {
        "id": "WIs0ytPx-uOp"
      },
      "source": [
        "df_Titanic.head(20)"
      ],
      "execution_count": null,
      "outputs": []
    },
    {
      "cell_type": "code",
      "metadata": {
        "id": "ns8Jpbhi-w6G"
      },
      "source": [
        "df_Titanic['fare_class'].value_counts()"
      ],
      "execution_count": null,
      "outputs": []
    },
    {
      "cell_type": "code",
      "metadata": {
        "id": "boAj64RHvQHu"
      },
      "source": [
        "import seaborn as sns\r\n",
        "sns.catplot(x=\"fare_class\", kind=\"count\", data = df_Titanic)"
      ],
      "execution_count": null,
      "outputs": []
    },
    {
      "cell_type": "markdown",
      "metadata": {
        "id": "Fq6lE6GPGZ-c"
      },
      "source": [
        "### Verificar resultados  utilizando cut"
      ]
    },
    {
      "cell_type": "code",
      "metadata": {
        "id": "FA8APw0oGibz"
      },
      "source": [
        "fareCut = pd.cut(df_Titanic['fare'], bins = 15, precision = 2, include_lowest=True)"
      ],
      "execution_count": null,
      "outputs": []
    },
    {
      "cell_type": "code",
      "metadata": {
        "id": "Rqc2-kr5Gi2r"
      },
      "source": [
        "fareCut.head(20)"
      ],
      "execution_count": null,
      "outputs": []
    },
    {
      "cell_type": "code",
      "metadata": {
        "id": "1j5g5ynKC-kc"
      },
      "source": [
        "df_Titanic['fare_class'] = pd.cut(df_Titanic['fare'], bins = 15, precision = 2) #  include_lowest=True)"
      ],
      "execution_count": null,
      "outputs": []
    },
    {
      "cell_type": "code",
      "metadata": {
        "id": "fxiTLkI6HhL9"
      },
      "source": [
        "df_Titanic['fare_class'].head(50)"
      ],
      "execution_count": null,
      "outputs": []
    },
    {
      "cell_type": "code",
      "metadata": {
        "id": "kPY113RFH0JE"
      },
      "source": [
        "df_Titanic.head(20)"
      ],
      "execution_count": null,
      "outputs": []
    },
    {
      "cell_type": "code",
      "metadata": {
        "id": "U2-GVwUsHsfE"
      },
      "source": [
        "df_Titanic['fare_class'].value_counts()"
      ],
      "execution_count": null,
      "outputs": []
    },
    {
      "cell_type": "code",
      "metadata": {
        "id": "IVZIPax8JCPd"
      },
      "source": [
        "sns.histplot(df_Titanic['fare_class'])"
      ],
      "execution_count": null,
      "outputs": []
    },
    {
      "cell_type": "code",
      "metadata": {
        "id": "wBy53A4aI0XV"
      },
      "source": [
        "sns.catplot(x=\"fare_class\", kind=\"count\", data = df_Titanic, aspect= 4)"
      ],
      "execution_count": null,
      "outputs": []
    },
    {
      "cell_type": "code",
      "metadata": {
        "id": "hUiu1ZcTQYq7"
      },
      "source": [
        " f, ax = plt.subplots(figsize=(10, 5))\r\n",
        "sns.countplot(y=\"fare_class\", data=df_Titanic, color=\"c\")"
      ],
      "execution_count": null,
      "outputs": []
    },
    {
      "cell_type": "code",
      "metadata": {
        "id": "UGeVBrP-Yi0B"
      },
      "source": [
        "df_Titanic.head()"
      ],
      "execution_count": null,
      "outputs": []
    },
    {
      "cell_type": "code",
      "metadata": {
        "id": "V_bDm_fbNNJ2"
      },
      "source": [
        "fareQcut.head(20)"
      ],
      "execution_count": null,
      "outputs": []
    },
    {
      "cell_type": "code",
      "metadata": {
        "id": "e_H-Otf4aSh4"
      },
      "source": [
        "df_Titanic['fare'].min()"
      ],
      "execution_count": null,
      "outputs": []
    },
    {
      "cell_type": "code",
      "metadata": {
        "id": "75OImLTWaaS4"
      },
      "source": [
        "df_Titanic['fare'].max()"
      ],
      "execution_count": null,
      "outputs": []
    },
    {
      "cell_type": "code",
      "metadata": {
        "id": "P-JkcaLqb8cy"
      },
      "source": [
        "df_Titanic.loc[df_Titanic['fare'] <= 1]"
      ],
      "execution_count": null,
      "outputs": []
    },
    {
      "cell_type": "code",
      "metadata": {
        "id": "FEphmEYlMe_t"
      },
      "source": [
        "# Criando a função fare_Category\r\n",
        "\r\n",
        "def fare_Category(fare):\r\n",
        "    if (-1 < fare <= 0):\r\n",
        "        return 'inf_0'\r\n",
        "    elif (0 < fare <= 7):\r\n",
        "        return '0_7'\r\n",
        "    elif (7 < fare <= 8):\r\n",
        "        return '7_8'\r\n",
        "    elif(8 < fare <= 10):\r\n",
        "        return '8_10'\r\n",
        "    elif (10 < fare <= 15):\r\n",
        "        return '10_15'\r\n",
        "    elif (15 < fare <= 22):\r\n",
        "        return '15_22'\r\n",
        "    elif (22 < fare <= 27):\r\n",
        "        return '22_27'\r\n",
        "    elif(27 < fare <= 40):\r\n",
        "        return '27_40'\r\n",
        "    elif(40 < fare <= 78):\r\n",
        "        return '40_78'\r\n",
        "    elif(78 < fare <= 515):\r\n",
        "        return '78_515'\r\n",
        "    else:\r\n",
        "      return \"Outros\""
      ],
      "execution_count": null,
      "outputs": []
    },
    {
      "cell_type": "code",
      "metadata": {
        "id": "bBK0Y6M8M5FV"
      },
      "source": [
        ""
      ],
      "execution_count": null,
      "outputs": []
    },
    {
      "cell_type": "code",
      "metadata": {
        "id": "2BiinkA1X6GC"
      },
      "source": [
        "df_Titanic['fare_class'] = df_Titanic['fare'].map(fare_Category)  # map aplica a função no atributo fare  - (map - serve para quebrar variáveis, criar classes, etc.)"
      ],
      "execution_count": null,
      "outputs": []
    },
    {
      "cell_type": "code",
      "metadata": {
        "id": "yRI5QNrjZ0s4"
      },
      "source": [
        " df_Titanic.loc[df_Titanic['fare_class'] == 'Outros']"
      ],
      "execution_count": null,
      "outputs": []
    },
    {
      "cell_type": "code",
      "metadata": {
        "id": "Axb1mm_OeNQr"
      },
      "source": [
        "df_Titanic.loc[df_Titanic['fare'] == 0]"
      ],
      "execution_count": null,
      "outputs": []
    },
    {
      "cell_type": "code",
      "metadata": {
        "id": "OW4IF3svdHca"
      },
      "source": [
        "df_Titanic.head(20)"
      ],
      "execution_count": null,
      "outputs": []
    },
    {
      "cell_type": "code",
      "metadata": {
        "id": "EXFjPDxKee2I"
      },
      "source": [
        "df_Titanic.info()"
      ],
      "execution_count": null,
      "outputs": []
    },
    {
      "cell_type": "code",
      "metadata": {
        "id": "7hpgLqBbZIfY"
      },
      "source": [
        "df_Titanic['fare_class'].value_counts()"
      ],
      "execution_count": null,
      "outputs": []
    },
    {
      "cell_type": "code",
      "metadata": {
        "id": "mLSWDJUBZJFI"
      },
      "source": [
        "sns.catplot(x=\"fare_class\", kind=\"count\", data = df_Titanic, aspect = 2)"
      ],
      "execution_count": null,
      "outputs": []
    },
    {
      "cell_type": "code",
      "metadata": {
        "id": "HI1hWZUVSzkj"
      },
      "source": [
        "# f, ax = plt.subplots(figsize=(10, 5))\r\n",
        "sns.countplot(y=\"fare_class\", data=df_Titanic)"
      ],
      "execution_count": null,
      "outputs": []
    },
    {
      "cell_type": "code",
      "metadata": {
        "id": "FrD76UPLgDws"
      },
      "source": [
        "df_Titanic.loc[df_Titanic['fare'] <= 8]"
      ],
      "execution_count": null,
      "outputs": []
    },
    {
      "cell_type": "code",
      "metadata": {
        "id": "VcFISPG3g7eF"
      },
      "source": [
        "df_Titanic.loc[(df_Titanic['fare'] <= 15) ]"
      ],
      "execution_count": null,
      "outputs": []
    },
    {
      "cell_type": "code",
      "metadata": {
        "id": "IFbluKkLNWyI"
      },
      "source": [
        "# Definindo uma função com relação ao describe( dados ficam muito concentrados na primeira e segunda classe)\r\n",
        "df_Titanic.fare.describe()"
      ],
      "execution_count": null,
      "outputs": []
    },
    {
      "cell_type": "markdown",
      "metadata": {
        "id": "3CIqHUJpvcPa"
      },
      "source": [
        "### **Coluna 'age'**\n",
        "> ***Discretizar a coluna 'age' em 10 buckets.***"
      ]
    },
    {
      "cell_type": "code",
      "metadata": {
        "id": "ArmG6Ps0uXxU"
      },
      "source": [
        "df_Titanic.head(10)"
      ],
      "execution_count": null,
      "outputs": []
    },
    {
      "cell_type": "code",
      "metadata": {
        "id": "SDXoWSRlyuaT"
      },
      "source": [
        "df_Titanic.info()"
      ],
      "execution_count": null,
      "outputs": []
    },
    {
      "cell_type": "code",
      "metadata": {
        "id": "sOUPOkS42u8M"
      },
      "source": [
        "df_Titanic.shape"
      ],
      "execution_count": null,
      "outputs": []
    },
    {
      "cell_type": "code",
      "metadata": {
        "id": "UdaLz8k6udJq"
      },
      "source": [
        "df_Titanic['age'].describe()"
      ],
      "execution_count": null,
      "outputs": []
    },
    {
      "cell_type": "code",
      "metadata": {
        "id": "ve6A40Q7u3ma"
      },
      "source": [
        "df_Titanic['age'].isnull().sum()"
      ],
      "execution_count": null,
      "outputs": []
    },
    {
      "cell_type": "code",
      "metadata": {
        "id": "casOhwxL4cpm"
      },
      "source": [
        "df_missing_values = pd.DataFrame(df_Titanic.isnull().sum())\r\n",
        "df_missing_values['mv_percent'] = 100*df_missing_values[0]/df_Titanic.shape[0]\r\n",
        "df_missing_values.sort_values(by ='mv_percent', ascending= False)\r\n",
        "\r\n",
        "# Para atributo especifico, não tem sintaxe !!??"
      ],
      "execution_count": null,
      "outputs": []
    },
    {
      "cell_type": "code",
      "metadata": {
        "id": "6X3AH_ZBLNze"
      },
      "source": [
        " # Utilizando qcut()\r\n",
        " \r\n",
        " ageQcut = pd.qcut(df_Titanic['age'], 10)  # Irá gerar 10 bins; decil1, deci2, decil3, ....decil10!!??"
      ],
      "execution_count": null,
      "outputs": []
    },
    {
      "cell_type": "code",
      "metadata": {
        "id": "suwfFW0rLVhV"
      },
      "source": [
        "ageQcut.head(20)"
      ],
      "execution_count": null,
      "outputs": []
    },
    {
      "cell_type": "code",
      "metadata": {
        "id": "Rf7Kvh6txuhl"
      },
      "source": [
        "ageQcut.values_counts()"
      ],
      "execution_count": null,
      "outputs": []
    },
    {
      "cell_type": "code",
      "metadata": {
        "id": "GHq94BkByMD8"
      },
      "source": [
        "# Aqui teriamos intervalos semelhantes ao describe de age\r\n",
        "\r\n",
        "pd.qcut(df_Titanic['age'], 4).value_counts() "
      ],
      "execution_count": null,
      "outputs": []
    },
    {
      "cell_type": "code",
      "metadata": {
        "id": "rCRnbKX57VN-"
      },
      "source": [
        "df_Titanic['age_class'] = pd.qcut(df_Titanic['age'], 10, labels=False)"
      ],
      "execution_count": null,
      "outputs": []
    },
    {
      "cell_type": "code",
      "metadata": {
        "id": "wLewBoP8K8M-"
      },
      "source": [
        "df_Titanic.head(20)"
      ],
      "execution_count": null,
      "outputs": []
    },
    {
      "cell_type": "code",
      "metadata": {
        "id": "ZdXBqU_xK5L3"
      },
      "source": [
        "df_Titanic['age_class'].value_counts()"
      ],
      "execution_count": null,
      "outputs": []
    },
    {
      "cell_type": "code",
      "metadata": {
        "id": "uFsZLYDi7VOH"
      },
      "source": [
        "sns.catplot(x=\"age_class\", kind=\"count\", data = df_Titanic)"
      ],
      "execution_count": null,
      "outputs": []
    },
    {
      "cell_type": "markdown",
      "metadata": {
        "id": "DIY-sL337uje"
      },
      "source": [
        "#### Alternativa para discretizar 'age'"
      ]
    },
    {
      "cell_type": "code",
      "metadata": {
        "id": "W66GkyuKkhFe"
      },
      "source": [
        "def Age_Category(age):\n",
        "    if (age <= 1):\n",
        "        return 1\n",
        "    elif (age <= 5):\n",
        "        return 2\n",
        "    elif(age <= 10):\n",
        "        return 3\n",
        "    elif (age <= 15):\n",
        "        return 4\n",
        "    elif (age <= 20):\n",
        "        return 5\n",
        "    elif (age <= 25):\n",
        "        return 6\n",
        "    elif(age < 30):\n",
        "        return 7\n",
        "    elif(age < 35):\n",
        "        return 8\n",
        "    elif(age < 40):\n",
        "        return 9\n",
        "    elif(age < 45):\n",
        "        return 10\n",
        "    elif(age < 50):\n",
        "        return 11\n",
        "    elif(age < 60):\n",
        "        return 12\n",
        "    elif(age < 70):\n",
        "        return 13\n",
        "    elif(age < 80):\n",
        "        return 14\n",
        "    else:\n",
        "        return 15"
      ],
      "execution_count": null,
      "outputs": []
    },
    {
      "cell_type": "code",
      "metadata": {
        "id": "TnLzC6hCkuBL"
      },
      "source": [
        "df_Titanic['age_class2'] = df_Titanic['age'].map(Age_Category)"
      ],
      "execution_count": null,
      "outputs": []
    },
    {
      "cell_type": "code",
      "metadata": {
        "id": "eCzl_TYmL-C2"
      },
      "source": [
        "df_Titanic.head(20)"
      ],
      "execution_count": null,
      "outputs": []
    },
    {
      "cell_type": "code",
      "metadata": {
        "id": "kG8td6HPsNlP"
      },
      "source": [
        "set(df_Titanic['age_class2']) # Esse comando mostra os NaN's da coluna, se houver."
      ],
      "execution_count": null,
      "outputs": []
    },
    {
      "cell_type": "markdown",
      "metadata": {
        "id": "B_3s5cgxfNKQ"
      },
      "source": [
        "### Coluna 'title'\n",
        "\n",
        "* Para fins de Data Manipulation, vamos capturar o tratamento dos passageiros contido na variável 'nome'. Ou seja, 'Mr.', 'Mrs.', 'Miss' e etc...\n",
        "\n",
        "> Fonte: As funções get_title e title_map foram extraídas de https://www.kaggle.com/tjsauer/titanic-survival-python-solution"
      ]
    },
    {
      "cell_type": "code",
      "metadata": {
        "id": "gslSjRdDoJFY"
      },
      "source": [
        "df_Titanic.head(20)"
      ],
      "execution_count": null,
      "outputs": []
    },
    {
      "cell_type": "markdown",
      "metadata": {
        "id": "XjqEVVnr8R4d"
      },
      "source": [
        "Primeiramente, vamos entender como funciona, step by step..."
      ]
    },
    {
      "cell_type": "code",
      "metadata": {
        "id": "D6gjWc3XozK7"
      },
      "source": [
        "'Allen, Mr. William Henry'.split(',')[1].split('.')[0].strip()\r\n"
      ],
      "execution_count": null,
      "outputs": []
    },
    {
      "cell_type": "code",
      "metadata": {
        "id": "mKN7RQMhFt2m"
      },
      "source": [
        "'Braund, Mr. Owen Harris'.split(',')"
      ],
      "execution_count": null,
      "outputs": []
    },
    {
      "cell_type": "code",
      "metadata": {
        "id": "TZ8_t-S-GgW9"
      },
      "source": [
        "'Braund, Mr. Owen Harris'.split(',')[1]"
      ],
      "execution_count": null,
      "outputs": []
    },
    {
      "cell_type": "code",
      "metadata": {
        "id": "jyGerjVQGQQk"
      },
      "source": [
        "'Braund, Mr. Owen Harris'.split(',')[1].split('.')"
      ],
      "execution_count": null,
      "outputs": []
    },
    {
      "cell_type": "code",
      "metadata": {
        "id": "RZFeQyTsGwG8"
      },
      "source": [
        "'Braund, Mr. Owen Harris'.split(',')[1].split('.')[0]"
      ],
      "execution_count": null,
      "outputs": []
    },
    {
      "cell_type": "code",
      "metadata": {
        "id": "pn5gNoF1HZZX"
      },
      "source": [
        "str.strip('   A')"
      ],
      "execution_count": null,
      "outputs": []
    },
    {
      "cell_type": "code",
      "metadata": {
        "id": "fhm5RRKIIHBe"
      },
      "source": [
        "'Braund, Mr. Owen Harris'.split(',')[1].split('.')[0].strip()"
      ],
      "execution_count": null,
      "outputs": []
    },
    {
      "cell_type": "code",
      "metadata": {
        "id": "nfIG6toGfhd5"
      },
      "source": [
        "## Definindo a função get_title\n",
        "\n",
        "def get_title(nome):\n",
        "    if '.' in nome:\n",
        "        return nome.split(',')[1].split('.')[0].strip()\n",
        "    else:\n",
        "        return 'Unknown'\n"
      ],
      "execution_count": null,
      "outputs": []
    },
    {
      "cell_type": "code",
      "metadata": {
        "id": "AzGBxb17Ie7W"
      },
      "source": [
        "## Definindo a função tilte_map\r\n",
        "\r\n",
        "def title_map(title):\r\n",
        "    if title in ['Mr', 'Ms']:\r\n",
        "        return 1\r\n",
        "    elif title in ['Master']:\r\n",
        "        return 2\r\n",
        "    elif title in ['Ms','Mlle','Miss']:\r\n",
        "        return 3\r\n",
        "    elif title in [\"Mme\", \"Ms\", \"Mrs\"]:\r\n",
        "        return 4\r\n",
        "    elif title in [\"Jonkheer\", \"Don\", \"Sir\", \"the Countess\", \"Dona\", \"Lady\"]:\r\n",
        "        return 5\r\n",
        "    elif title in [\"Capt\", \"Col\", \"Major\", \"Dr\", \"Rev\"]:\r\n",
        "        return 6\r\n",
        "    else:\r\n",
        "        return 7"
      ],
      "execution_count": null,
      "outputs": []
    },
    {
      "cell_type": "markdown",
      "metadata": {
        "id": "HLQoJwf0rjrf"
      },
      "source": [
        "Exercícios\n",
        "* Melhorar a função title_map."
      ]
    },
    {
      "cell_type": "markdown",
      "metadata": {
        "id": "7qNUwnCepe_x"
      },
      "source": [
        "##**Captura o tratamento dos passageiros:**"
      ]
    },
    {
      "cell_type": "code",
      "metadata": {
        "id": "r-Ltf33vgJ6Q"
      },
      "source": [
        " ## df_Titanic['title'] = df_Titanic['name'].apply(get_title).apply(title_map)  "
      ],
      "execution_count": null,
      "outputs": []
    },
    {
      "cell_type": "code",
      "metadata": {
        "id": "n61h_YrBKA8M"
      },
      "source": [
        "df_Titanic['name'].apply(get_title).head(20)"
      ],
      "execution_count": null,
      "outputs": []
    },
    {
      "cell_type": "code",
      "metadata": {
        "id": "7DU0WYMyKiqP"
      },
      "source": [
        "df_Titanic['name'].apply(get_title).apply(title_map).head(20)"
      ],
      "execution_count": null,
      "outputs": []
    },
    {
      "cell_type": "code",
      "metadata": {
        "id": "oL0tnHvnLBFh"
      },
      "source": [
        " df_Titanic['title'] = df_Titanic['name'].apply(get_title).apply(title_map)  "
      ],
      "execution_count": null,
      "outputs": []
    },
    {
      "cell_type": "code",
      "metadata": {
        "id": "DMwIYQ9WJLw5"
      },
      "source": [
        "set(df_Titanic['title']) # Esse comando mostra os NaN's da variável"
      ],
      "execution_count": null,
      "outputs": []
    },
    {
      "cell_type": "code",
      "metadata": {
        "id": "P7mhbWNKLG96"
      },
      "source": [
        "df_Titanic.head(20)"
      ],
      "execution_count": null,
      "outputs": []
    },
    {
      "cell_type": "markdown",
      "metadata": {
        "id": "D3hY0WVhpRYK"
      },
      "source": [
        "Drop a coluna 'nome', pois não vamos mais precisar dela em nossas análises:"
      ]
    },
    {
      "cell_type": "code",
      "metadata": {
        "id": "Y8i3xKCes5WF"
      },
      "source": [
        "df_Titanic= df_Titanic.drop(columns= [\"name\"], axis =1)"
      ],
      "execution_count": null,
      "outputs": []
    },
    {
      "cell_type": "markdown",
      "metadata": {
        "id": "7Sl1uFdwpW3y"
      },
      "source": [
        "Apresenta o conteúdo do dataframe:"
      ]
    },
    {
      "cell_type": "code",
      "metadata": {
        "id": "2uFnw-pZpan-"
      },
      "source": [
        "df_Titanic.head(20)"
      ],
      "execution_count": null,
      "outputs": []
    },
    {
      "cell_type": "markdown",
      "metadata": {
        "id": "B0fZMKKpdHIl"
      },
      "source": [
        "## **Missing Value**\n",
        "> Faça o devido tratamento de NaN's das COLUNAS do dataframe df_Titanic.\n",
        "\n",
        "**Pergunta**: Na coluna 'value', os valores 0 (zero) são considerados Missing Values?"
      ]
    },
    {
      "cell_type": "code",
      "metadata": {
        "id": "UHzKFytXsNkh"
      },
      "source": [
        "df_Titanic['age'].isna().sum()"
      ],
      "execution_count": null,
      "outputs": []
    },
    {
      "cell_type": "code",
      "metadata": {
        "id": "iex-Qoj8OlRG"
      },
      "source": [
        "df_Titanic[df_Titanic['age'].isna()]"
      ],
      "execution_count": null,
      "outputs": []
    },
    {
      "cell_type": "code",
      "metadata": {
        "id": "P5GCPSITOZf3"
      },
      "source": [
        "df_Titanic['age'].median()\r\n"
      ],
      "execution_count": null,
      "outputs": []
    },
    {
      "cell_type": "code",
      "metadata": {
        "id": "EqQlnUUONzOG"
      },
      "source": [
        "## Substituindo os missing values em age, pela mediana\r\n",
        "\r\n",
        "df_Titanic['age'].fillna(df_Titanic['age'].median(), inplace = True)"
      ],
      "execution_count": null,
      "outputs": []
    },
    {
      "cell_type": "code",
      "metadata": {
        "id": "S5gbOmSOOI08"
      },
      "source": [
        "df_Titanic.head(20)"
      ],
      "execution_count": null,
      "outputs": []
    },
    {
      "cell_type": "markdown",
      "metadata": {
        "id": "ZC1ULWd883t2"
      },
      "source": [
        "## **Relação causa --> efeito**"
      ]
    },
    {
      "cell_type": "markdown",
      "metadata": {
        "id": "_WCbklv0bDlp"
      },
      "source": [
        "A função a seguir nos ajudará com o Data Visualization, cruzando a variável-resposta 'survived' com qualquer outra passada à função:"
      ]
    },
    {
      "cell_type": "code",
      "metadata": {
        "id": "epxI-F2UbGGS"
      },
      "source": [
        "def taxa_sobrevivencia(df, column):\n",
        "    title_xt = pd.crosstab(df[column], df['survived'])\n",
        "    print(pd.crosstab(df[column], df['survived'], margins=True))\n",
        "    title_xt_pct = title_xt.div(title_xt.sum(1).astype(float), axis =0)\n",
        "    \n",
        "    title_xt_pct.plot(kind='bar', stacked=True, title='Taxa de Sobrevivência dos Passageiros', \n",
        "                      color= ['r', 'g'])\n",
        "    plt.xlabel(column)\n",
        "    plt.ylabel('Taxa de Sobrevivência')\n",
        "    plt.legend(loc='lower center', bbox_to_anchor=(0.5, -0.05),shadow=True, ncol=2)\n",
        "    plt.show()\n",
        "\n",
        "def grafico_catplot(x, y, hue = 'survived', col= None):\n",
        "    plt.rcdefaults()\n",
        "    g= sns.catplot(x= x, y= y, hue = hue, palette={'Died':'red','Survived':'blue'}, col= col, data = df, kind= 'bar', height=4, aspect=.7)\n",
        "    plt.show()"
      ],
      "execution_count": null,
      "outputs": []
    },
    {
      "cell_type": "markdown",
      "metadata": {
        "id": "34-Qbd_QrC8W"
      },
      "source": [
        "Qual a relação entre a variável 'sex' e a variável-resposta?"
      ]
    },
    {
      "cell_type": "code",
      "metadata": {
        "id": "bhY8-UjyrC8Z"
      },
      "source": [
        "taxa_sobrevivencia(df_Titanic, 'pclass')"
      ],
      "execution_count": null,
      "outputs": []
    },
    {
      "cell_type": "markdown",
      "metadata": {
        "id": "UbexhGtayV4X"
      },
      "source": [
        "## Exercício 7\n",
        "Consulte a página [Pandas Exercises, Practice, Solution](https://www.w3resource.com/python-exercises/pandas/index.php) para mais exercícios relacionados á este tópico."
      ]
    },
    {
      "cell_type": "markdown",
      "metadata": {
        "id": "P62MXm3tK8Ty"
      },
      "source": [
        "## Exercício 8\n",
        "Crie a coluna 'aleatorio' no dataframe df_Titanic em que cada linha recebe um valor aleatório usando o método np.random.random()"
      ]
    },
    {
      "cell_type": "code",
      "metadata": {
        "id": "vpGH2al0Wpsr"
      },
      "source": [
        "df_Titanic.shape"
      ],
      "execution_count": null,
      "outputs": []
    },
    {
      "cell_type": "code",
      "metadata": {
        "id": "Du7Y8E4uFmiu"
      },
      "source": [
        "# i_linhas_Titanic = df_Titanic.shape[0]"
      ],
      "execution_count": null,
      "outputs": []
    },
    {
      "cell_type": "code",
      "metadata": {
        "id": "rfi_k_kXWnaT"
      },
      "source": [
        "df_Titanic.shape[0]"
      ],
      "execution_count": null,
      "outputs": []
    },
    {
      "cell_type": "code",
      "metadata": {
        "id": "nN-R1ICNW3Ib"
      },
      "source": [
        "i_linhas_Titanic = df_Titanic.shape[0]\r\n",
        "i_linhas_Titanic"
      ],
      "execution_count": null,
      "outputs": []
    },
    {
      "cell_type": "code",
      "metadata": {
        "id": "LfN4Wf5OWfwk"
      },
      "source": [
        "df_Titanic['aleatorio'] = np.random.random(i_linhas_Titanic)\r\n",
        "df_Titanic.head(10)"
      ],
      "execution_count": null,
      "outputs": []
    },
    {
      "cell_type": "markdown",
      "metadata": {
        "id": "LMD3HksDL0PQ"
      },
      "source": [
        "## Exercício 9\n",
        "\n",
        "1. Carregue o arquivo FIFA.csv (está na área de Dataframes do curso);\n",
        "2. Que colunas podem previamente ser eliminadas da análise? Porque identificar o que pode ser eliminado é importante?\n",
        "3. Qual o dtype de cada variável/atributo do dataframe?\n",
        "4. Se alguma variável/atributo é do tipo string (object) e supostamente deveria ser numérica, como alteramos o tipo?\n",
        "5. Normalize os nomes das colunas, ou seja, renomeie o nome das colunas para minúsculo;\n",
        "6. Há Missing values nos dados? Se sim, o qual sua proposta (proposta do grupo) para tratar estes Missing values?\n",
        "7. Qual a distribuição do número de jogadores por países? Apresente uma tabela com a distribuição.\n",
        "8. Qual a média de idade dos jogadores por países (variável/atributo 'Nacionality');\n",
        "9. Qual a número de jogadores por idade?\n",
        "10. Quantos jogadores possuem cada clube?\n",
        "11. Qual a média de idade por clube?\n",
        "12. Qual a média de salário por país?\n",
        "13. Qual a média de salário por clube?\n",
        "14. Qual a média de salário por idade?\n",
        "15. Quanto cada clube gasta com pagamento de salários?\n",
        "16. Quais são os insight (o que você consegue descobrir) em relação à variável 'Potential' (mede o potencial dos jogadores)?\n",
        "17. Quais os insights em relação à variável overall (nota média do atleta) por idade, clube e país?\n",
        "18. Quais são os melhores clubes se levarmos em consideração as variáveis Potential e Overall?\n",
        "19. Apresente o ranking dos goleiros (use a variável/atributo 'Preferred Positions') por Potencial, Overall. Estamos à procura de 'GK'.\n",
        "20. Quem são os jogadores mais rápidos (variável/atributo 'Sprint speed'=?\n",
        "21. Quem são os 5 melhores jogadores em termos de chute (força para chutar) (use a variável/atributo 'Shot power')?\n",
        "22. Quem são os outliers em termos de salário?\n",
        "23. Quem são os outliers em termos de potência no chute?\n",
        "24. Qual a correlação e a interpretação entre as variáveis 'value' e as demais variáveis numéricas do dataframe?\n",
        "25. Construa variáveis dummy para as colunas preferred_foot e work_rate. preferred_foot_left;\n"
      ]
    },
    {
      "cell_type": "markdown",
      "metadata": {
        "id": "70Ml5KyZ04mk"
      },
      "source": [
        "A seguir, significado da variável \"Position\":\n",
        "* GK = Goalkeeper – Goleiro.\n",
        "* RB = Right Back – Zagueiro Direito.\n",
        "* CB = Central Back – Zagueiro Central.\n",
        "* LB = Left Back – Zagueiro Esquerdo.\n",
        "* SW = Sweeper – Líbero.\n",
        "* RWB = Right Wing Back – Lateral Direito.\n",
        "* LWB = Left Wing back – Lateral Esquerdo.\n",
        "* CDM = Central Defensive Midfielder – Meio Campo Defensivo / Volante.\n",
        "* CM = Central Midfielder – Meia Central.\n",
        "* CAM = Center Attacking Middlefielder – Meio Campo Ofensivo / Armador.\n",
        "* OM = Offensive Midfielder – Meia Ofensivo.\n",
        "* LOM = Left Offensive Midfielder – Meia Esquerda Ofensivo.\n",
        "* ROM = Right Offensive Midfielder – Meia Direita Ofensivo.\n",
        "* LM = Left Midfielder – Meia Esquerda.\n",
        "* RM = Right Midfielder – Meia Direita.\n",
        "* LWM = Left Wing Midfielder – Meio Ala Esquerdo.\n",
        "* RWM = Right Wing Midfielder – Meio Ala Direito.\n",
        "* RW = Right Winger – Ala Direito.\n",
        "* LW = Left Winger – Ala Esquerto.\n",
        "* LF = Left Forward – Atacante Esquerdo.\n",
        "* RF = Right Forward – Atacante Direito.\n",
        "* ST = Striker – Atacante.\n",
        "* CF = Center Forward – Centro Avante.\n",
        "* RS = Right Striker – Atacante Direito.\n",
        "* LS = Left Striker – Atacante Esquerdo."
      ]
    },
    {
      "cell_type": "markdown",
      "metadata": {
        "id": "1oWNzDavTHgw"
      },
      "source": [
        "### **Solução dos Exercicios propostos**"
      ]
    },
    {
      "cell_type": "markdown",
      "metadata": {
        "id": "tjHDjj68zawa"
      },
      "source": [
        "## ***1. Carregue o arquivo FIFA.csv (está na área de Dataframes do curso)***"
      ]
    },
    {
      "cell_type": "markdown",
      "metadata": {
        "id": "Wzosi4Ue1vDs"
      },
      "source": [
        "### Carregar as libraries necessárias"
      ]
    },
    {
      "cell_type": "code",
      "metadata": {
        "id": "B0fqR6rzMAa3"
      },
      "source": [
        "import pandas as pd\n",
        "import numpy as np"
      ],
      "execution_count": null,
      "outputs": []
    },
    {
      "cell_type": "markdown",
      "metadata": {
        "id": "vgoLTamaOC50"
      },
      "source": [
        "#### Configurar ambiente"
      ]
    },
    {
      "cell_type": "code",
      "metadata": {
        "id": "RRwi_z8JOFrD"
      },
      "source": [
        "d_configuracao = {\n",
        "    'display.max_columns': 1000,\n",
        "    'display.expand_frame_repr': True,\n",
        "    'display.max_rows': 10,\n",
        "    'display.precision': 2,\n",
        "    'display.show_dimensions': True\n",
        "                  }\n",
        "\n",
        "for op, value in d_configuracao.items():\n",
        "    pd.set_option(op, value)\n",
        "    print(op, value)"
      ],
      "execution_count": null,
      "outputs": []
    },
    {
      "cell_type": "markdown",
      "metadata": {
        "id": "MdVljEbcMGU9"
      },
      "source": [
        "#### Carregar os dados"
      ]
    },
    {
      "cell_type": "code",
      "metadata": {
        "id": "GMivDUHEMFKp"
      },
      "source": [
        "# df = pd.read_csv('https://raw.githubusercontent.com/MathMachado/DSWP/master/Dataframes/FIFA.csv') #, index_col= 'PassengerId')\n",
        "# df.head()"
      ],
      "execution_count": null,
      "outputs": []
    },
    {
      "cell_type": "code",
      "metadata": {
        "id": "2Pwp0Mz-Xb5F"
      },
      "source": [
        "df = pd.read_csv('https://raw.githubusercontent.com/amgonca2019/DSWP/master/Dataframes/FIFA.csv')"
      ],
      "execution_count": null,
      "outputs": []
    },
    {
      "cell_type": "code",
      "metadata": {
        "id": "94-huRW3YKjv"
      },
      "source": [
        "df.head(10)"
      ],
      "execution_count": null,
      "outputs": []
    },
    {
      "cell_type": "code",
      "metadata": {
        "id": "dMoStpcYVt-h"
      },
      "source": [
        "df.shape"
      ],
      "execution_count": null,
      "outputs": []
    },
    {
      "cell_type": "code",
      "metadata": {
        "id": "__VabF5cZDo_"
      },
      "source": [
        "df.info()"
      ],
      "execution_count": null,
      "outputs": []
    },
    {
      "cell_type": "code",
      "metadata": {
        "id": "Zcv0HGnsYmFf"
      },
      "source": [
        "# df = df.drop('Unnamed: 0', axis = 1)"
      ],
      "execution_count": null,
      "outputs": []
    },
    {
      "cell_type": "markdown",
      "metadata": {
        "id": "7pDUpFVLTOfl"
      },
      "source": [
        "####**Definir a coluna 'ID' como index do dataframe**"
      ]
    },
    {
      "cell_type": "code",
      "metadata": {
        "id": "TEue20CbMp9U"
      },
      "source": [
        " df.set_index('ID', inplace = True)\n",
        " df.head(20)"
      ],
      "execution_count": null,
      "outputs": []
    },
    {
      "cell_type": "markdown",
      "metadata": {
        "id": "G8CDrpI1_wMd"
      },
      "source": [
        "### ***Função para retirar os sinais de \"+\" ou \"-\" em algumas colunas/variáveis: - Por exemplo, converter de strings para valores numéricos***\n",
        "* Percebeste algumas colunas com o sinal de \"+\" nos campos?"
      ]
    },
    {
      "cell_type": "markdown",
      "metadata": {
        "id": "7zqHkNCsEDpJ"
      },
      "source": [
        "A seguir, exemplo de algumas colunas com este problema:"
      ]
    },
    {
      "cell_type": "code",
      "metadata": {
        "id": "_hUvJbCqCBBl"
      },
      "source": [
        "df[['RS', 'LS', 'ST']].head(10)"
      ],
      "execution_count": null,
      "outputs": []
    },
    {
      "cell_type": "code",
      "metadata": {
        "id": "c2pEUboqJrc0"
      },
      "source": [
        "df[['RS', 'LS', 'ST']].dtypes"
      ],
      "execution_count": null,
      "outputs": []
    },
    {
      "cell_type": "markdown",
      "metadata": {
        "id": "78QhptWdEIB0"
      },
      "source": [
        "A seguir, definimos um dataframe chamado df_string contendo a quantidade de colunas separadas pelo sinal \"+\". Observe que o máximo de colunas que obtemos são 2. Porque?"
      ]
    },
    {
      "cell_type": "code",
      "metadata": {
        "id": "DzeSvQMGF4G7"
      },
      "source": [
        "# df_string = df['RS'].str.split(r'\\+', n = 4, expand = True) # n representa o número de splits no output.\n",
        "# df_string.head()"
      ],
      "execution_count": null,
      "outputs": []
    },
    {
      "cell_type": "code",
      "metadata": {
        "id": "N_h5z6r0WA-5"
      },
      "source": [
        "# Minha sintaxe \r\n",
        "\r\n",
        "df_string = df['RS'].str.split('+', n = 1, expand = True) # n representa o número de splits no output.\r\n",
        "df_string.head()"
      ],
      "execution_count": null,
      "outputs": []
    },
    {
      "cell_type": "code",
      "metadata": {
        "id": "PEzqRR5CEUru"
      },
      "source": [
        "df_string[0] = pd.to_numeric(df_string[0])\n",
        "df_string[0]\n",
        "df_string[1] = pd.to_numeric(df_string[1])\n",
        "df_string[1]\n",
        "df_string['RS2'] = df_string[0]+df_string[1]\n",
        "df_string['RS2']"
      ],
      "execution_count": null,
      "outputs": []
    },
    {
      "cell_type": "code",
      "metadata": {
        "id": "JNQgu0PCWsga"
      },
      "source": [
        "df_string['RS2'] = df_string[0]+df_string[1]\r\n",
        "df_string['RS2'].head(10)"
      ],
      "execution_count": null,
      "outputs": []
    },
    {
      "cell_type": "code",
      "metadata": {
        "id": "2t4rnjRWFPON"
      },
      "source": [
        "df_string.dtypes"
      ],
      "execution_count": null,
      "outputs": []
    },
    {
      "cell_type": "code",
      "metadata": {
        "id": "IPGeNUnoYm5g"
      },
      "source": [
        "df_string.head(10)"
      ],
      "execution_count": null,
      "outputs": []
    },
    {
      "cell_type": "code",
      "metadata": {
        "id": "MAYju4f6GFzw"
      },
      "source": [
        "# Apagando as colunas 0 e 1 e meslcando com o data frame df\n",
        "\n",
        "df_string.drop(columns= [0, 1], axis = 1, inplace = True)\n",
        "df = pd.merge(df, df_string, how = 'left', on = 'ID')\n",
        "df.head()"
      ],
      "execution_count": null,
      "outputs": []
    },
    {
      "cell_type": "markdown",
      "metadata": {
        "id": "sm5lOGrrHoDp"
      },
      "source": [
        " **Desafio**: Próximo passo: transformar isso numa função para tratar as demais variáveis!"
      ]
    },
    {
      "cell_type": "markdown",
      "metadata": {
        "id": "QtmOlKNpzbOz"
      },
      "source": [
        "### ***2. Que colunas podem previamente ser eliminadas da análise? Porque identificar o que pode ser eliminado é importante?***"
      ]
    },
    {
      "cell_type": "markdown",
      "metadata": {
        "id": "7TzcuD2GxfBP"
      },
      "source": [
        "### Colunas que poderiam previamente ser eliminadas:\n",
        "* Photo\n",
        "* Flag\n",
        "* Club Logo\n",
        "* Unnamed: 0"
      ]
    },
    {
      "cell_type": "code",
      "metadata": {
        "id": "kXDe_AdEx3DD"
      },
      "source": [
        "df2 = df.copy()\n",
        "\n",
        "l_cols_drop = ['Unnamed: 0', 'Photo', 'Flag', 'Club Logo']\n",
        "df2.drop(columns = l_cols_drop, axis = 1, inplace = True)\n",
        "df2"
      ],
      "execution_count": null,
      "outputs": []
    },
    {
      "cell_type": "markdown",
      "metadata": {
        "id": "m97dcDy9zbSO"
      },
      "source": [
        "## 3. Qual o dtype de cada variável/atributo do dataframe?"
      ]
    },
    {
      "cell_type": "code",
      "metadata": {
        "id": "PIKsln3saXUc"
      },
      "source": [
        "df2.info()"
      ],
      "execution_count": null,
      "outputs": []
    },
    {
      "cell_type": "code",
      "metadata": {
        "id": "4fSorfNnaBKr"
      },
      "source": [
        "df2.dtypes"
      ],
      "execution_count": null,
      "outputs": []
    },
    {
      "cell_type": "code",
      "metadata": {
        "id": "GEbvITXR2U17"
      },
      "source": [
        "# Função para nos mostrar o tipo das colunas:\n",
        "def mostra_tipo(df):\n",
        "    d_tipos = dict(zip(df.columns, df.dtypes))\n",
        "    for item in d_tipos.items():\n",
        "        print(item)"
      ],
      "execution_count": null,
      "outputs": []
    },
    {
      "cell_type": "code",
      "metadata": {
        "id": "3B9vxmbl9HNP"
      },
      "source": [
        "mostra_tipo(df2)"
      ],
      "execution_count": null,
      "outputs": []
    },
    {
      "cell_type": "markdown",
      "metadata": {
        "id": "6AdW5D-RcfCJ"
      },
      "source": [
        "### Python zip() Function\r\n",
        "Definition and Usage:\r\n",
        "The zip() function returns a zip object, which is an iterator of tuples where the first item in each passed iterator is paired together, and then the second item in each passed iterator are paired together etc.\r\n",
        "\r\n",
        "If the passed iterators have different lengths, the iterator with the least items decides the length of the new iterator.\r\n",
        "\r\n",
        "### Syntax\r\n",
        "* zip(iterator1, iterator2, iterator3 ...)\r\n",
        "* Parameter Values:\r\n",
        "** Parameter\t\r\n",
        "iterator1, iterator2, iterator3 ...\r\n",
        "** Description  \r\n",
        "iterator objects that will be joined together"
      ]
    },
    {
      "cell_type": "code",
      "metadata": {
        "id": "mBzpdnpfcTw6"
      },
      "source": [
        "\r\n",
        "\r\n",
        "a = (\"John\", \"Charles\", \"Mike\")\r\n",
        "b = (\"Jenny\", \"Christy\", \"Monica\")\r\n",
        "\r\n",
        "x = zip(a, b)\r\n",
        "\r\n",
        "# use the tuple() function to display a readable version of the result:\r\n",
        "# print(tuple(x))\r\n",
        "print(dict(x))\r\n",
        "#print(list(x))"
      ],
      "execution_count": null,
      "outputs": []
    },
    {
      "cell_type": "markdown",
      "metadata": {
        "id": "5XKcxC0Pzshm"
      },
      "source": [
        "## ***4. Se alguma variável/atributo é do tipo string (object) e supostamente deveria ser numérica, como alteramos o tipo?***"
      ]
    },
    {
      "cell_type": "markdown",
      "metadata": {
        "id": "A7T31nFiPdDu"
      },
      "source": [
        "### Mudar o tipo de algumas colunas\n",
        "* Exemplo: 'Wage', 'Value' e 'Release Clause'. "
      ]
    },
    {
      "cell_type": "code",
      "metadata": {
        "id": "VJSsvOpK71n7"
      },
      "source": [
        "df4 = df2.copy()"
      ],
      "execution_count": null,
      "outputs": []
    },
    {
      "cell_type": "code",
      "metadata": {
        "id": "-XeZ-2KGnKsm"
      },
      "source": [
        "df4"
      ],
      "execution_count": null,
      "outputs": []
    },
    {
      "cell_type": "code",
      "metadata": {
        "id": "xyV-_MY9688C"
      },
      "source": [
        "def transforma_monetarias(coluna):\n",
        "    if 'M' in coluna:\n",
        "        return int(float(coluna.replace('M', '')) * 1000000)\n",
        "\n",
        "    elif 'K' in coluna:\n",
        "        return int(float(coluna.replace('K', '')) * 1000)\n",
        "        \n",
        "    else:\n",
        "        return int(coluna)   "
      ],
      "execution_count": null,
      "outputs": []
    },
    {
      "cell_type": "markdown",
      "metadata": {
        "id": "AJ9-8sVS6MXj"
      },
      "source": [
        "Substituindo o símbolo \"€\" por '':"
      ]
    },
    {
      "cell_type": "code",
      "metadata": {
        "id": "ArgK2NVe6vqz"
      },
      "source": [
        "l_colunas_monetarias = ['Value', 'Wage'] # Não consegui aplicar para o atributo Release Clause ????\n",
        "\n",
        "for coluna in l_colunas_monetarias:\n",
        "    df4[coluna] = df4[coluna].str.replace('€', '')\n",
        "    df4[coluna] = df4[coluna].apply(lambda x: transforma_monetarias(x))"
      ],
      "execution_count": null,
      "outputs": []
    },
    {
      "cell_type": "code",
      "metadata": {
        "id": "1VQFu_LykLuY"
      },
      "source": [
        "# Agora vamos renomear as colunas 'Wage', 'Value' e 'Release Clause'\r\n",
        "\r\n",
        "df4.rename(columns = {'Wage': 'Wage(€)', 'Value': 'Value(€)', 'Release Clause': 'Release Clause(€)'}, inplace = True)\r\n"
      ],
      "execution_count": null,
      "outputs": []
    },
    {
      "cell_type": "code",
      "metadata": {
        "id": "SxCP2THzorTf"
      },
      "source": [
        "df4.head(10)"
      ],
      "execution_count": null,
      "outputs": []
    },
    {
      "cell_type": "markdown",
      "metadata": {
        "id": "c_lznTRHzbV9"
      },
      "source": [
        "## 5. Normalize os nomes das colunas, ou seja, renomeie o nome das colunas para minúsculo;"
      ]
    },
    {
      "cell_type": "code",
      "metadata": {
        "id": "usM674sR8Gv9"
      },
      "source": [
        "df5 = df4.copy()"
      ],
      "execution_count": null,
      "outputs": []
    },
    {
      "cell_type": "markdown",
      "metadata": {
        "id": "N6LCmJ0QUsJo"
      },
      "source": [
        "### Nome das colunas --> Substituir os \" \" por \"_\" nos nomes"
      ]
    },
    {
      "cell_type": "code",
      "metadata": {
        "id": "NWJYqphfUxn1"
      },
      "source": [
        "df5.columns = [c.replace(' ', '_') for c in df5.columns]"
      ],
      "execution_count": null,
      "outputs": []
    },
    {
      "cell_type": "markdown",
      "metadata": {
        "id": "lXUOzLWmVTNZ"
      },
      "source": [
        "### Renomear as colunas usando lower()"
      ]
    },
    {
      "cell_type": "code",
      "metadata": {
        "id": "ZwwLMOYRVXnr"
      },
      "source": [
        "df5.columns = [c.lower() for c in df5.columns]\n",
        "# mostra_tipo(df5)"
      ],
      "execution_count": null,
      "outputs": []
    },
    {
      "cell_type": "code",
      "metadata": {
        "id": "1nhSsLUcpVyY"
      },
      "source": [
        "df5"
      ],
      "execution_count": null,
      "outputs": []
    },
    {
      "cell_type": "markdown",
      "metadata": {
        "id": "Uc12gBThz1nD"
      },
      "source": [
        "## ***6. Há Missing values nos dados? Se sim, o qual sua proposta (proposta do grupo) para tratar estes Missing values?***"
      ]
    },
    {
      "cell_type": "code",
      "metadata": {
        "id": "nYgvxvcT8QIT"
      },
      "source": [
        "df6 = df5.copy()\n",
        "df6.head()"
      ],
      "execution_count": null,
      "outputs": []
    },
    {
      "cell_type": "markdown",
      "metadata": {
        "id": "j6povKKufyNj"
      },
      "source": [
        "### **Fazendo uma cópia permanente do dataframe df6 para uso futuro**"
      ]
    },
    {
      "cell_type": "code",
      "metadata": {
        "id": "9STC9fsWJAHn"
      },
      "source": [
        "df6[['overall', 'potential', 'value(€)', 'wage(€)', 'nationality', 'position', 'age', 'preferred_foot']].to_csv('FIFA_algumas_features.csv')"
      ],
      "execution_count": null,
      "outputs": []
    },
    {
      "cell_type": "code",
      "metadata": {
        "id": "bnqJAelDUjUo"
      },
      "source": [
        "df6[['name', 'age','nationality', 'overall', 'potential', 'club', 'value(€)', 'wage(€)', 'position', 'preferred_foot',\r\n",
        "     'height', 'weight', 'release_clause(€)']].to_csv('FIFA_algumas_features2.csv')"
      ],
      "execution_count": null,
      "outputs": []
    },
    {
      "cell_type": "code",
      "metadata": {
        "id": "iPrqu0FfbS0l"
      },
      "source": [
        "df6[['name', 'age','nationality', 'overall', 'potential', 'club', 'value(€)', 'wage(€)', 'position', 'preferred_foot',\r\n",
        "     'height', 'weight', 'release_clause(€)']].to_excel ('FIFA_algumas_features2.xlsx')"
      ],
      "execution_count": null,
      "outputs": []
    },
    {
      "cell_type": "code",
      "metadata": {
        "id": "9EFn_6NggL_i"
      },
      "source": [
        "# Verificando os arquivos"
      ],
      "execution_count": null,
      "outputs": []
    },
    {
      "cell_type": "code",
      "metadata": {
        "id": "kmfoermJrJnj"
      },
      "source": [
        "cat FIFA_algumas_features.csv"
      ],
      "execution_count": null,
      "outputs": []
    },
    {
      "cell_type": "code",
      "metadata": {
        "id": "YoISjqtrRCIn"
      },
      "source": [
        "%ls  # Alias for !ls -F --color"
      ],
      "execution_count": null,
      "outputs": []
    },
    {
      "cell_type": "code",
      "metadata": {
        "id": "J0w47_yvTFcR"
      },
      "source": [
        "ls -F --color"
      ],
      "execution_count": null,
      "outputs": []
    },
    {
      "cell_type": "code",
      "metadata": {
        "id": "KsgNLzxJS5IK"
      },
      "source": [
        "ls -l"
      ],
      "execution_count": null,
      "outputs": []
    },
    {
      "cell_type": "code",
      "metadata": {
        "id": "4Kma5ztlglQ8"
      },
      "source": [
        "# Verificar Missing Values"
      ],
      "execution_count": null,
      "outputs": []
    },
    {
      "cell_type": "code",
      "metadata": {
        "id": "WDVtYEhstbee"
      },
      "source": [
        "pd.set_option('display.max_rows', 100)\r\n",
        "\r\n",
        "# Função para verificar os MV\r\n",
        "\r\n",
        "def mostra_missing_value(df):\r\n",
        "    total = df.isnull().sum().sort_values(ascending = False)\r\n",
        "    percent = 100*round((df.isnull().sum()/df.isnull().count()).sort_values(ascending = False), 2)\r\n",
        "    missing_data = pd.concat([total, percent], axis = 1, keys=['Total', 'Percentual'])\r\n",
        "    print(missing_data.head(100))"
      ],
      "execution_count": null,
      "outputs": []
    },
    {
      "cell_type": "code",
      "metadata": {
        "id": "KPbhOToyuG1w"
      },
      "source": [
        "mostra_missing_value(df6)"
      ],
      "execution_count": null,
      "outputs": []
    },
    {
      "cell_type": "code",
      "metadata": {
        "id": "LJHnYnBjUeWn"
      },
      "source": [
        "# Procurar missing values apennas para colunas dtype object\r\n"
      ],
      "execution_count": null,
      "outputs": []
    },
    {
      "cell_type": "markdown",
      "metadata": {
        "id": "ESFYFvOy8XOM"
      },
      "source": [
        "Aqui vou substituir os Missing Values pela mediana. Fique à vontade para substituir por outras alternativas como min, max, média, limite superior de outliers e limite inferior para outliers."
      ]
    },
    {
      "cell_type": "code",
      "metadata": {
        "id": "j7zDrRvi8iay"
      },
      "source": [
        "# Verificando quais colunas são numéricas\n",
        "\n",
        "l_colunas_numericas = df6.select_dtypes(np.number).columns.tolist()\n",
        "l_colunas_numericas"
      ],
      "execution_count": null,
      "outputs": []
    },
    {
      "cell_type": "code",
      "metadata": {
        "id": "0jUSz7pQURXJ"
      },
      "source": [
        "# Procurar missing values apenas para colunas numéricas\r\n",
        "\r\n",
        "mostra_missing_value(df6[l_colunas_numericas])"
      ],
      "execution_count": null,
      "outputs": []
    },
    {
      "cell_type": "code",
      "metadata": {
        "id": "eQpCvSqx1j0p"
      },
      "source": [
        "# Exibindo data frame das colunas numéricas\r\n",
        "\r\n",
        "df6.select_dtypes(np.number)"
      ],
      "execution_count": null,
      "outputs": []
    },
    {
      "cell_type": "code",
      "metadata": {
        "id": "zU9zNcnExqet"
      },
      "source": [
        "# Verificar quais colunas são strings\r\n",
        "\r\n",
        "l_colunas_strings = df6.select_dtypes(include='object').columns.tolist()\r\n",
        "# df6.select_dtypes(include='object')\r\n",
        "l_colunas_strings"
      ],
      "execution_count": null,
      "outputs": []
    },
    {
      "cell_type": "code",
      "metadata": {
        "id": "0VOkwmMIXCua"
      },
      "source": [
        "# Exibindo data frame das colunas strings\r\n",
        "\r\n",
        "df6.select_dtypes(include='object')"
      ],
      "execution_count": null,
      "outputs": []
    },
    {
      "cell_type": "code",
      "metadata": {
        "id": "oXehmFY_wZPA"
      },
      "source": [
        "# Procurar missing values apenas para colunas strings\r\n",
        "\r\n",
        "mostra_missing_value(df6[l_colunas_strings])"
      ],
      "execution_count": null,
      "outputs": []
    },
    {
      "cell_type": "code",
      "metadata": {
        "id": "mZEM0N2f9vi7"
      },
      "source": [
        "# Mediana antes da substituição:\n",
        "\n",
        "df6[l_colunas_numericas].median()"
      ],
      "execution_count": null,
      "outputs": []
    },
    {
      "cell_type": "code",
      "metadata": {
        "id": "dzfw0kp69dK2"
      },
      "source": [
        "# Substituição pela mediana, de cada atributo numérico\n",
        "\n",
        "for coluna in l_colunas_numericas:\n",
        "    df6[coluna].fillna(df6[coluna].median())"
      ],
      "execution_count": null,
      "outputs": []
    },
    {
      "cell_type": "code",
      "metadata": {
        "id": "ISxZsoP5h-tm"
      },
      "source": [
        "# Verificar novamente os mising values\r\n",
        "\r\n",
        "df6.head(10)"
      ],
      "execution_count": null,
      "outputs": []
    },
    {
      "cell_type": "code",
      "metadata": {
        "id": "2JHKe7cvh9dQ"
      },
      "source": [
        "# Mediana depois da substituição:\r\n",
        "df6[l_colunas_numericas].median()"
      ],
      "execution_count": null,
      "outputs": []
    },
    {
      "cell_type": "markdown",
      "metadata": {
        "id": "jpQR9zDC-nEj"
      },
      "source": [
        "Abaixo, identifiquei 252 registros com value = 0 --> Nestes casos, vou atribuir a mediana também."
      ]
    },
    {
      "cell_type": "code",
      "metadata": {
        "id": "s1Zj3gBJ-Z5c"
      },
      "source": [
        "# df6[df6['value'] == 0]['value'].value_counts()"
      ],
      "execution_count": null,
      "outputs": []
    },
    {
      "cell_type": "code",
      "metadata": {
        "id": "5F0QCQbHnjDM"
      },
      "source": [
        "# Verificando se existem valores igual a 0\r\n",
        "\r\n",
        "#(df6.loc[ : ] == 0).any()\r\n",
        "\r\n",
        "(df6[ : ] == 0).sum()"
      ],
      "execution_count": null,
      "outputs": []
    },
    {
      "cell_type": "code",
      "metadata": {
        "id": "SomaqsrqwDNJ"
      },
      "source": [
        "# Selecionando as  linhas com value(€) igual a 0\r\n",
        "\r\n",
        "df6[df6['value(€)'] == 0]\r\n"
      ],
      "execution_count": null,
      "outputs": []
    },
    {
      "cell_type": "code",
      "metadata": {
        "id": "ON75cSZTYNvC"
      },
      "source": [
        "\"\"\" Filtrando apenas a coluna value(€)\"\"\"\r\n",
        "\r\n",
        "df6[df6['value(€)'] == 0] ['value(€)']"
      ],
      "execution_count": null,
      "outputs": []
    },
    {
      "cell_type": "code",
      "metadata": {
        "id": "Xp7dPcG20R0f"
      },
      "source": [
        "# Selecionando as  linhas com  wage(€) igual a 0\r\n",
        "\r\n",
        "df6.loc[df6['wage(€)'] == 0]"
      ],
      "execution_count": null,
      "outputs": []
    },
    {
      "cell_type": "code",
      "metadata": {
        "id": "FCT7xEjjZQkC"
      },
      "source": [
        "\"\"\" Filtrando apenas a coluna wage(€)\"\"\"\r\n",
        "\r\n",
        "df6.loc[df6['wage(€)'] == 0]['wage(€)']"
      ],
      "execution_count": null,
      "outputs": []
    },
    {
      "cell_type": "code",
      "metadata": {
        "id": "HjuNw2u6-7i9"
      },
      "source": [
        "# Mediana antes\n",
        "\n",
        "df6['value(€)'].median()"
      ],
      "execution_count": null,
      "outputs": []
    },
    {
      "cell_type": "code",
      "metadata": {
        "id": "mQ6OqeGm1ikh"
      },
      "source": [
        "# Mediana antes\r\n",
        "\r\n",
        "df6['wage(€)'].median()"
      ],
      "execution_count": null,
      "outputs": []
    },
    {
      "cell_type": "code",
      "metadata": {
        "id": "VWEp0Tc_-vLD"
      },
      "source": [
        "# Atribuição da mediana para os valores 0 de 'value(€)'\n",
        "\n",
        "df6.loc[df6['value(€)'] == 0, 'value(€)'] = df6['value(€)'].median()"
      ],
      "execution_count": null,
      "outputs": []
    },
    {
      "cell_type": "code",
      "metadata": {
        "id": "HynCT_Yu_JL-"
      },
      "source": [
        "# Mediana depois\n",
        "\n",
        "df6['value(€)'].median()"
      ],
      "execution_count": null,
      "outputs": []
    },
    {
      "cell_type": "code",
      "metadata": {
        "id": "E1L_KrfV12Dy"
      },
      "source": [
        "# Atribuição da mediana para os valores 0 de 'value(€)'\r\n",
        "\r\n",
        "df6.loc[df6['wage(€)'] == 0, 'value(€)'] = df6['wage(€)'].median()"
      ],
      "execution_count": null,
      "outputs": []
    },
    {
      "cell_type": "code",
      "metadata": {
        "id": "Ko6in0tk18PY"
      },
      "source": [
        "# Mediana depois\r\n",
        "\r\n",
        "df6['wage(€)'].median()"
      ],
      "execution_count": null,
      "outputs": []
    },
    {
      "cell_type": "code",
      "metadata": {
        "id": "Mff-aYdY2EcI"
      },
      "source": [
        "df6[df6['value(€)'] == 675000.0]\r\n"
      ],
      "execution_count": null,
      "outputs": []
    },
    {
      "cell_type": "code",
      "metadata": {
        "id": "ScBQ6gu22owi"
      },
      "source": [
        "df6[df6['wage(€)'] == 3000.0]\r\n"
      ],
      "execution_count": null,
      "outputs": []
    },
    {
      "cell_type": "markdown",
      "metadata": {
        "id": "B4O5kw6h_z3H"
      },
      "source": [
        "E se tivéssemos substituído pela média, ao invés da mediana? Teria mudado alguma coisa?"
      ]
    },
    {
      "cell_type": "markdown",
      "metadata": {
        "id": "eU7ybhA2zbZh"
      },
      "source": [
        "## 7. Qual a distribuição do número de jogadores por países? Apresente uma tabela com a distribuição."
      ]
    },
    {
      "cell_type": "code",
      "metadata": {
        "id": "A34BwvXrXAqU"
      },
      "source": [
        "df7 = df6.copy()\n",
        "df7.head()"
      ],
      "execution_count": null,
      "outputs": []
    },
    {
      "cell_type": "code",
      "metadata": {
        "id": "fu87YSiudcM_"
      },
      "source": [
        "df7.head()"
      ],
      "execution_count": null,
      "outputs": []
    },
    {
      "cell_type": "code",
      "metadata": {
        "id": "IQQ7AvgBYZmx"
      },
      "source": [
        "df_jogadores_por_paises = pd.DataFrame(df7.groupby(by=['nationality']).size())\n",
        "df_jogadores_por_paises.columns = ['numero_jogadores']\n",
        "df_jogadores_por_paises.sort_values(by = ['numero_jogadores'], ascending = False, inplace= True)\n",
        "df_jogadores_por_paises = df_jogadores_por_paises.reset_index()\n",
        "df_jogadores_por_paises\n",
        "\n",
        "# Numa única linha ficaria assim:\n",
        "df_jogadores_por_paises2 = pd.DataFrame(df7.groupby(by=['nationality']).size(), columns= ['numero_jogadores']).sort_values(by = ['numero_jogadores'], ascending = False).reset_index()\n",
        "df_jogadores_por_paises2"
      ],
      "execution_count": null,
      "outputs": []
    },
    {
      "cell_type": "markdown",
      "metadata": {
        "id": "JfyDUEC2zbcv"
      },
      "source": [
        "## 8. Qual a média de idade dos jogadores por países (variável/atributo 'Nacionality');"
      ]
    },
    {
      "cell_type": "code",
      "metadata": {
        "id": "0a9MvyWPcu-C"
      },
      "source": [
        "df_media_idade_por_paises = df7.groupby(by = ['nationality']).agg({'age': ['count', 'mean']}).reset_index()\n",
        "df_media_idade_por_paises.columns = ['nationality', 'numero_joagadores', 'media_idade']\n",
        "df_media_idade_por_paises.sort_values(by = ['media_idade'], ascending = False, inplace = True)\n",
        "df_media_idade_por_paises.head()"
      ],
      "execution_count": null,
      "outputs": []
    },
    {
      "cell_type": "markdown",
      "metadata": {
        "id": "vNmu0xyg0CW4"
      },
      "source": [
        "## 9. Qual a número de jogadores por idade?"
      ]
    },
    {
      "cell_type": "code",
      "metadata": {
        "id": "DRVvPgpRf9vw"
      },
      "source": [
        "df_jogadores_por_idade = df7.groupby(by = ['age']).agg({'age': ['count']}).reset_index()\n",
        "df_jogadores_por_idade.columns = ['age', 'numero_joagadores']\n",
        "df_jogadores_por_idade.sort_values(by = ['numero_joagadores'], ascending = False, inplace = True)\n",
        "df_jogadores_por_idade.head()"
      ],
      "execution_count": null,
      "outputs": []
    },
    {
      "cell_type": "markdown",
      "metadata": {
        "id": "8eChi2NW0CZp"
      },
      "source": [
        "## 10. Quantos jogadores possuem cada clube?"
      ]
    },
    {
      "cell_type": "code",
      "metadata": {
        "id": "JpNI3ZlHgUx1"
      },
      "source": [
        "df_jogadores_por_clube = df7.groupby(by = ['club']).size().reset_index()\n",
        "df_jogadores_por_clube.columns = ['clube', 'numero_joagadores']\n",
        "df_jogadores_por_clube.sort_values(by = ['numero_joagadores'], ascending = False, inplace = True)\n",
        "df_jogadores_por_clube.head()"
      ],
      "execution_count": null,
      "outputs": []
    },
    {
      "cell_type": "markdown",
      "metadata": {
        "id": "gMiibNwW0Cck"
      },
      "source": [
        "## 11. Qual a média de idade por clube?"
      ]
    },
    {
      "cell_type": "code",
      "metadata": {
        "id": "D9rF9frzgqSr"
      },
      "source": [
        "df_media_idade_por_clube = df7.groupby(by = ['club']).agg({'age': ['count', 'mean']}).reset_index()\n",
        "df_media_idade_por_clube.columns = ['clube', 'numero_joagadores', 'media_idade']\n",
        "df_media_idade_por_clube.sort_values(by = ['media_idade'], ascending = False, inplace = True)\n",
        "df_media_idade_por_clube.head()"
      ],
      "execution_count": null,
      "outputs": []
    },
    {
      "cell_type": "markdown",
      "metadata": {
        "id": "uE_o76xH0QU-"
      },
      "source": [
        "## 12. Qual a média de salário por país?"
      ]
    },
    {
      "cell_type": "code",
      "metadata": {
        "id": "keQXqnU7hJy4"
      },
      "source": [
        "df_media_salario_por_pais = df7.groupby(by = ['nationality']).agg({'wage': ['count', 'mean']}).reset_index()\n",
        "df_media_salario_por_pais.columns = ['nationality', 'numero_joagadores', 'media_salario']\n",
        "df_media_salario_por_pais.sort_values(by = ['media_salario'], ascending = False, inplace = True)\n",
        "df_media_salario_por_pais.head()"
      ],
      "execution_count": null,
      "outputs": []
    },
    {
      "cell_type": "markdown",
      "metadata": {
        "id": "vqT1ozNA0Cfd"
      },
      "source": [
        "## 13. Qual a média de salário por clube?"
      ]
    },
    {
      "cell_type": "code",
      "metadata": {
        "id": "54_Q2IGchmN-"
      },
      "source": [
        "df_media_salario_por_clube = df7.groupby(by = ['club']).agg({'wage': ['count', 'mean']}).reset_index()\n",
        "df_media_salario_por_clube.columns = ['clube', 'numero_joagadores', 'media_salario']\n",
        "df_media_salario_por_clube.sort_values(by = ['media_salario'], ascending = False, inplace = True)\n",
        "df_media_salario_por_clube.head()"
      ],
      "execution_count": null,
      "outputs": []
    },
    {
      "cell_type": "markdown",
      "metadata": {
        "id": "4eflozOo0Cif"
      },
      "source": [
        "## 14. Qual a média de salário por idade?"
      ]
    },
    {
      "cell_type": "code",
      "metadata": {
        "id": "Xtq9Am60hwGr"
      },
      "source": [
        "df_media_salario_por_idade = df7.groupby(by = ['age']).agg({'wage': ['count', 'mean']}).reset_index()\n",
        "df_media_salario_por_idade.columns = ['age', 'numero_joagadores', 'media_salario']\n",
        "df_media_salario_por_idade.sort_values(by = ['media_salario'], ascending = False, inplace = True)\n",
        "df_media_salario_por_idade.head()"
      ],
      "execution_count": null,
      "outputs": []
    },
    {
      "cell_type": "markdown",
      "metadata": {
        "id": "L0yRSSIb0WYj"
      },
      "source": [
        "## 15. Quanto cada clube gasta com pagamento de salários?"
      ]
    },
    {
      "cell_type": "code",
      "metadata": {
        "id": "C9N7_pLfh_uq"
      },
      "source": [
        "df_soma_salario_por_clube = df7.groupby(by = ['club']).agg({'wage': ['count', 'mean', 'sum']}).reset_index()\n",
        "df_soma_salario_por_clube.columns = ['clube', 'numero_joagadores', 'media_salario', 'soma_salario']\n",
        "df_soma_salario_por_clube.sort_values(by = ['soma_salario'], ascending = False, inplace = True)\n",
        "df_soma_salario_por_clube.head()"
      ],
      "execution_count": null,
      "outputs": []
    },
    {
      "cell_type": "markdown",
      "metadata": {
        "id": "1c7NGMg90YMi"
      },
      "source": [
        "## 16. Quais são os insight (o que você consegue descobrir) em relação à variável 'Potential' (mede o potencial dos jogadores)?"
      ]
    },
    {
      "cell_type": "code",
      "metadata": {
        "id": "RAU41Iyaihvc"
      },
      "source": [
        "df7.head()"
      ],
      "execution_count": null,
      "outputs": []
    },
    {
      "cell_type": "code",
      "metadata": {
        "id": "bM_ePTWfiTFq"
      },
      "source": [
        "df_potential_por_clube = df7.groupby(by = ['potential', 'club', 'nationality']).agg({'potential': ['count']}).reset_index()\n",
        "df_potential_por_clube.columns = ['potential', 'club', 'nationality', 'numero_joagadores']\n",
        "df_potential_por_clube.sort_values(by = ['potential'], ascending = False, inplace = True)\n",
        "df_potential_por_clube.head(10)"
      ],
      "execution_count": null,
      "outputs": []
    },
    {
      "cell_type": "markdown",
      "metadata": {
        "id": "HytWPvfvjTON"
      },
      "source": [
        "#### Quem é o jogador com potential = 95?"
      ]
    },
    {
      "cell_type": "code",
      "metadata": {
        "id": "Fk2X1q7LjWJE"
      },
      "source": [
        "df7.loc[df7['potential'] == 95]"
      ],
      "execution_count": null,
      "outputs": []
    },
    {
      "cell_type": "markdown",
      "metadata": {
        "id": "W2o4oLzujnHj"
      },
      "source": [
        "#### Quem são os jogadores com potencial = 94?"
      ]
    },
    {
      "cell_type": "code",
      "metadata": {
        "id": "GOCyMr-qjsL7"
      },
      "source": [
        "df7.loc[df7['potential'] == 94]"
      ],
      "execution_count": null,
      "outputs": []
    },
    {
      "cell_type": "markdown",
      "metadata": {
        "id": "LHDJimdw0ClU"
      },
      "source": [
        "## 17. Quais os insights em relação à variável overall (nota média do atleta) por idade, clube e país?"
      ]
    },
    {
      "cell_type": "code",
      "metadata": {
        "id": "FXFp5nxrj9Yc"
      },
      "source": [
        "df_overall = df7.groupby(by = ['overall', 'club', 'nationality']).agg({'overall': ['count']}).reset_index()\n",
        "df_overall.columns = ['overall', 'club', 'nationality', 'numero_joagadores']\n",
        "df_overall.sort_values(by = ['overall'], ascending = False, inplace = True)\n",
        "df_overall.head(10)"
      ],
      "execution_count": null,
      "outputs": []
    },
    {
      "cell_type": "markdown",
      "metadata": {
        "id": "4LTooiIdk1XV"
      },
      "source": [
        "#### Quem é o jogador com overall = 94?"
      ]
    },
    {
      "cell_type": "code",
      "metadata": {
        "id": "QieAKyi7k5Bb"
      },
      "source": [
        "df7.loc[df7['overall'] == 94]"
      ],
      "execution_count": null,
      "outputs": []
    },
    {
      "cell_type": "markdown",
      "metadata": {
        "id": "JFH54d1D0b5B"
      },
      "source": [
        "## 18. Quais são os melhores clubes se levarmos em consideração as variáveis Potential e Overall?\n",
        "* Para responder esta questão, tirei a média de overall e potential."
      ]
    },
    {
      "cell_type": "code",
      "metadata": {
        "id": "0JZ7PTFTle_d"
      },
      "source": [
        "df18 = df7.copy()"
      ],
      "execution_count": null,
      "outputs": []
    },
    {
      "cell_type": "code",
      "metadata": {
        "id": "s25u8RoplMZ8"
      },
      "source": [
        "df18['overall_potential'] = ((df18['potential']+df18['overall'])/2)\n",
        "df18[['name', 'overall', 'potential', 'overall_potential']].head()"
      ],
      "execution_count": null,
      "outputs": []
    },
    {
      "cell_type": "code",
      "metadata": {
        "id": "8gJFzhhIlDCH"
      },
      "source": [
        "df_overall_potential = df18.groupby(by = ['club', 'nationality', 'age']).agg({'overall_potential': ['count', 'mean']}).reset_index()\n",
        "df_overall_potential.columns = ['club', 'nationality', 'age', 'numero_jogadores', 'media_overall_potential']\n",
        "df_overall_potential.sort_values(by = ['media_overall_potential'], ascending = False, inplace = True)\n",
        "df_overall_potential.head(10)"
      ],
      "execution_count": null,
      "outputs": []
    },
    {
      "cell_type": "markdown",
      "metadata": {
        "id": "adpxQpWlmvac"
      },
      "source": [
        "De forma geral:"
      ]
    },
    {
      "cell_type": "code",
      "metadata": {
        "id": "fzn_81eomrj2"
      },
      "source": [
        "df_overall_potential2 = df18.groupby(by = ['club']).agg({'overall_potential': ['count', 'mean']}).reset_index()\n",
        "df_overall_potential2.columns = ['club', 'numero_jogadores', 'media_overall_potential']\n",
        "df_overall_potential2.sort_values(by = ['media_overall_potential'], ascending = False, inplace = True)\n",
        "df_overall_potential2.head(10)"
      ],
      "execution_count": null,
      "outputs": []
    },
    {
      "cell_type": "markdown",
      "metadata": {
        "id": "dM8FehYC0df7"
      },
      "source": [
        "## 19. Apresente o ranking dos goleiros (use a variável/atributo 'Preferred Positions') por Potencial, Overall. Estamos à procura de 'GK'."
      ]
    },
    {
      "cell_type": "code",
      "metadata": {
        "id": "_967BF6MnD4U"
      },
      "source": [
        "df19 = df18.copy()"
      ],
      "execution_count": null,
      "outputs": []
    },
    {
      "cell_type": "code",
      "metadata": {
        "id": "wXPah5zOmkXc"
      },
      "source": [
        "df_goleiros = df19[df19['position'] == 'GK']\n",
        "df_goleiros.head()"
      ],
      "execution_count": null,
      "outputs": []
    },
    {
      "cell_type": "code",
      "metadata": {
        "id": "77ehyNmSnTIB"
      },
      "source": [
        "df_overall_potential_goleiros = df_goleiros.groupby(by = ['club']).agg({'overall_potential': ['count', 'mean']}).reset_index()\n",
        "df_overall_potential_goleiros.columns = ['club', 'numero_jogadores', 'media_overall_potential']\n",
        "df_overall_potential_goleiros.sort_values(by = ['media_overall_potential'], ascending = False, inplace = True)\n",
        "df_overall_potential_goleiros.head(10)"
      ],
      "execution_count": null,
      "outputs": []
    },
    {
      "cell_type": "markdown",
      "metadata": {
        "id": "-dEtuBtF0fiZ"
      },
      "source": [
        "## 20. Quem são os jogadores mais rápidos (variável/atributo 'Sprint speed')?"
      ]
    },
    {
      "cell_type": "code",
      "metadata": {
        "id": "KWMU1hMMnxTI"
      },
      "source": [
        "df20 = df19.copy()"
      ],
      "execution_count": null,
      "outputs": []
    },
    {
      "cell_type": "code",
      "metadata": {
        "id": "sezEQIjqnwCZ"
      },
      "source": [
        "df20.sort_values(by = 'sprintspeed', ascending = False).head(5)"
      ],
      "execution_count": null,
      "outputs": []
    },
    {
      "cell_type": "markdown",
      "metadata": {
        "id": "aEg0eaFO0lF6"
      },
      "source": [
        "## 21. Quem são os 5 melhores jogadores em termos de chute (força para chutar) (use a variável/atributo 'Shot power')?"
      ]
    },
    {
      "cell_type": "code",
      "metadata": {
        "id": "xXuj-dc7oA-0"
      },
      "source": [
        "df21 = df20.copy()"
      ],
      "execution_count": null,
      "outputs": []
    },
    {
      "cell_type": "code",
      "metadata": {
        "id": "8HGT_dM2oEES"
      },
      "source": [
        "df21.sort_values(by = 'shotpower', ascending = False).head(5)"
      ],
      "execution_count": null,
      "outputs": []
    },
    {
      "cell_type": "markdown",
      "metadata": {
        "id": "bRk42JIf0moZ"
      },
      "source": [
        "## 22. Quem são os outliers em termos de salário?"
      ]
    },
    {
      "cell_type": "markdown",
      "metadata": {
        "id": "qRNaog7y0qI4"
      },
      "source": [
        "### Identificação e tratamento dos Outliers\n",
        "* Qual o Overall médio do Barcelona, Juventus e Real Madrid?\n",
        "* E qual o overall médio depois do tratamento dos outliers?\n",
        "* Quem são os atletas que estão influenciando a média?"
      ]
    },
    {
      "cell_type": "markdown",
      "metadata": {
        "id": "_bIxG1Sw9OUB"
      },
      "source": [
        "![BoxPlot](https://github.com/MathMachado/Materials/blob/master/boxplot.png?raw=true)\n",
        "\n",
        "Fonte: [Understanding Boxplots](https://towardsdatascience.com/understanding-boxplots-5e2df7bcbd51)"
      ]
    },
    {
      "cell_type": "code",
      "metadata": {
        "id": "qEiikIxNoZkl"
      },
      "source": [
        "df22 = df21.copy()"
      ],
      "execution_count": null,
      "outputs": []
    },
    {
      "cell_type": "code",
      "metadata": {
        "id": "lGYYvE0BoOoV"
      },
      "source": [
        "q1_salario, q3_salario = df22['wage'].quantile([0.25,0.75]).to_list()\n",
        "iqr_salario = q3_salario - q1_salario\n",
        "print(q1_salario, q3_salario)\n",
        "print(iqr_salario)"
      ],
      "execution_count": null,
      "outputs": []
    },
    {
      "cell_type": "code",
      "metadata": {
        "id": "PB44VV9pogT1"
      },
      "source": [
        "outlier_salario_inferior = q1_salario - 1.5 * iqr_salario\n",
        "outlier_salario_superior = q3_salario + 1.5 * iqr_salario\n",
        "\n",
        "df_outliers_salario = df22[['name', 'club', 'nationality', 'wage', 'overall', 'potential']]\n",
        "\n",
        "# Salários outliers inferiores\n",
        "df_outliers_salario[df_outliers_salario['wage'] < outlier_salario_inferior]"
      ],
      "execution_count": null,
      "outputs": []
    },
    {
      "cell_type": "code",
      "metadata": {
        "id": "9867KNNBqG7Z"
      },
      "source": [
        "# Top 10 Salários outliers superior\n",
        "df_outliers_salario[df_outliers_salario['wage'] > outlier_salario_superior].sort_values(by = ['wage'], ascending = False).head(10)"
      ],
      "execution_count": null,
      "outputs": []
    },
    {
      "cell_type": "markdown",
      "metadata": {
        "id": "gT2zGwq90oQ5"
      },
      "source": [
        "## 23. Quem são os outliers em termos de potência no chute?"
      ]
    },
    {
      "cell_type": "code",
      "metadata": {
        "id": "05uYj7cwqrdW"
      },
      "source": [
        "df23 = df22.copy()"
      ],
      "execution_count": null,
      "outputs": []
    },
    {
      "cell_type": "code",
      "metadata": {
        "id": "GzbVRU9HqrdZ"
      },
      "source": [
        "q1_chute, q3_chute = df23['shotpower'].quantile([0.25,0.75]).to_list()\n",
        "iqr_chute = q3_chute - q1_chute\n",
        "print(q1_chute, q3_chute)\n",
        "print(iqr_chute)"
      ],
      "execution_count": null,
      "outputs": []
    },
    {
      "cell_type": "code",
      "metadata": {
        "id": "V5TQX_yGqrda"
      },
      "source": [
        "outlier_chute_inferior = q1_chute - 1.5 * iqr_chute\n",
        "outlier_chute_superior = q3_chute + 1.5 * iqr_chute\n",
        "\n",
        "df_outliers_chute = df23[['name', 'club', 'nationality', 'shotpower', 'overall', 'potential']]\n",
        "\n",
        "# Salários outliers inferiores\n",
        "df_outliers_chute[df_outliers_chute['shotpower'] < outlier_chute_inferior]"
      ],
      "execution_count": null,
      "outputs": []
    },
    {
      "cell_type": "code",
      "metadata": {
        "id": "URj1SYXxqrdc"
      },
      "source": [
        "# Top 10 outliers superiores - shotpower\n",
        "df_outliers_chute[df_outliers_chute['shotpower'] > outlier_chute_superior].sort_values(by = ['shotpower'], ascending = False).head(10)"
      ],
      "execution_count": null,
      "outputs": []
    },
    {
      "cell_type": "markdown",
      "metadata": {
        "id": "eHm1qeHx0pza"
      },
      "source": [
        "## 24. Qual a correlação e a interpretação entre as variáveis 'value' e as demais variáveis numéricas do dataframe?"
      ]
    },
    {
      "cell_type": "markdown",
      "metadata": {
        "id": "OR6MD2GQ0rNq"
      },
      "source": [
        "## 25. Construa variáveis dummy para as colunas preferred_foot e work_rate. preferred_foot_left;"
      ]
    }
  ]
}