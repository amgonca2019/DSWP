{
  "nbformat": 4,
  "nbformat_minor": 0,
  "metadata": {
    "colab": {
      "name": "NB08__Sets.ipynb",
      "provenance": [],
      "collapsed_sections": [],
      "include_colab_link": true
    },
    "kernelspec": {
      "name": "python3",
      "display_name": "Python 3"
    }
  },
  "cells": [
    {
      "cell_type": "markdown",
      "metadata": {
        "id": "view-in-github",
        "colab_type": "text"
      },
      "source": [
        "<a href=\"https://colab.research.google.com/github/amgonca2019/DSWP/blob/master/NB08__Sets.ipynb\" target=\"_parent\"><img src=\"https://colab.research.google.com/assets/colab-badge.svg\" alt=\"Open In Colab\"/></a>"
      ]
    },
    {
      "cell_type": "markdown",
      "metadata": {
        "id": "S1PPi1u3tyh5"
      },
      "source": [
        "<center><h1><b><i>SETS</i></b></h1></center>\n",
        "\n"
      ]
    },
    {
      "cell_type": "markdown",
      "metadata": {
        "id": "BA1so4bct3y4"
      },
      "source": [
        "# **AGENDA**:\n",
        "\n",
        "> Veja o **índice** dos itens que serão abordados neste capítulo.\n",
        "\n"
      ]
    },
    {
      "cell_type": "markdown",
      "metadata": {
        "id": "NmzmiDz9JpL5"
      },
      "source": [
        "# **SETS**\n",
        "\n",
        "* Um objeto Set é uma coleção **não ordenada** que pode ser **iterável, alterado** e que **não possui duplicatas.**\n",
        "* ***Analogia com conjuntos da Matemática***\n",
        "* Itens entre \"**{ }**\": {item_1, item_2, ..., item_k}.\n",
        "* **Não** se pode **usar índices** para **acessar** os **itens** do objeto Set.\n",
        "\n",
        "* Qual a vantagem de se utilizar objetos Sets ao invés de lists?    \n",
        "    * Usar Sets ao invés de lists é um meio altamente **recomendado** e **otimizado** para se **verificar** **se o item** pertence à lista."
      ]
    },
    {
      "cell_type": "markdown",
      "metadata": {
        "id": "1zmO_0tAJsSg"
      },
      "source": [
        "![PythonDataStructures](https://github.com/MathMachado/Materials/blob/master/PythonDataStructures.png?raw=true)"
      ]
    },
    {
      "cell_type": "markdown",
      "metadata": {
        "id": "aVMai8KcRwF2"
      },
      "source": [
        "Considere o exemplo a seguir:"
      ]
    },
    {
      "cell_type": "code",
      "metadata": {
        "id": "poP9r8crQ3Xf"
      },
      "source": [
        "# Definindo a lista\n",
        "l_frutas = ['Apple','Apple', 'Watermelon', 'Orange', 'Pear', 'Cherry', 'Strawberry', 'Nectarine', 'Grape',\n",
        "'Mango', 'Blueberry', 'Pomegranate', 'Carambola', 'Plum', 'Banana', 'Raspberry', 'Mandarin', 'Jackfruit',\n",
        "'Papaya', 'Kiwi', 'Pineapple', 'Lime', 'Lemon', 'Apricot', 'Grapefruit', 'Melon', 'Coconut', 'Avocado', 'Peach', 'Peach', 'Avocado']"
      ],
      "execution_count": null,
      "outputs": []
    },
    {
      "cell_type": "markdown",
      "metadata": {
        "id": "SIJ2Pp-C5ZMP"
      },
      "source": [
        "Mostrando os itens da lista l_frutas:"
      ]
    },
    {
      "cell_type": "code",
      "metadata": {
        "id": "u9laOclSTZnV",
        "colab": {
          "base_uri": "https://localhost:8080/"
        },
        "outputId": "9cae9f8e-3f78-48cd-9ef5-27712dd5ee0b"
      },
      "source": [
        "l_frutas"
      ],
      "execution_count": null,
      "outputs": [
        {
          "output_type": "execute_result",
          "data": {
            "text/plain": [
              "['Apple',\n",
              " 'Apple',\n",
              " 'Watermelon',\n",
              " 'Orange',\n",
              " 'Pear',\n",
              " 'Cherry',\n",
              " 'Strawberry',\n",
              " 'Nectarine',\n",
              " 'Grape',\n",
              " 'Mango',\n",
              " 'Blueberry',\n",
              " 'Pomegranate',\n",
              " 'Carambola',\n",
              " 'Plum',\n",
              " 'Banana',\n",
              " 'Raspberry',\n",
              " 'Mandarin',\n",
              " 'Jackfruit',\n",
              " 'Papaya',\n",
              " 'Kiwi',\n",
              " 'Pineapple',\n",
              " 'Lime',\n",
              " 'Lemon',\n",
              " 'Apricot',\n",
              " 'Grapefruit',\n",
              " 'Melon',\n",
              " 'Coconut',\n",
              " 'Avocado',\n",
              " 'Peach',\n",
              " 'Peach',\n",
              " 'Avocado']"
            ]
          },
          "metadata": {
            "tags": []
          },
          "execution_count": 15
        }
      ]
    },
    {
      "cell_type": "code",
      "metadata": {
        "id": "gqttQBWrGfys",
        "colab": {
          "base_uri": "https://localhost:8080/"
        },
        "outputId": "637b786f-35e7-43cb-faba-6c12df4c010a"
      },
      "source": [
        "type(l_frutas)"
      ],
      "execution_count": null,
      "outputs": [
        {
          "output_type": "execute_result",
          "data": {
            "text/plain": [
              "list"
            ]
          },
          "metadata": {
            "tags": []
          },
          "execution_count": 11
        }
      ]
    },
    {
      "cell_type": "code",
      "metadata": {
        "id": "lbLWRrjE9etZ",
        "colab": {
          "base_uri": "https://localhost:8080/"
        },
        "outputId": "46963054-51ce-49f8-a8db-abea577ea56b"
      },
      "source": [
        "'Mandarin' in set_frutas"
      ],
      "execution_count": null,
      "outputs": [
        {
          "output_type": "execute_result",
          "data": {
            "text/plain": [
              "True"
            ]
          },
          "metadata": {
            "tags": []
          },
          "execution_count": 12
        }
      ]
    },
    {
      "cell_type": "markdown",
      "metadata": {
        "id": "yOtcxsv8TrH8"
      },
      "source": [
        "Como podemos ver, l_frutas é um objeto do tipo list."
      ]
    },
    {
      "cell_type": "markdown",
      "metadata": {
        "id": "bv_DKDqLFEud"
      },
      "source": [
        "___\n",
        "# **TRANSFORMAR OBJETO LIST EM OBJETO SETS**\n",
        "* ***Função set().***"
      ]
    },
    {
      "cell_type": "code",
      "metadata": {
        "id": "uaom3P_-8ZZp"
      },
      "source": [
        "# help(set())"
      ],
      "execution_count": null,
      "outputs": []
    },
    {
      "cell_type": "code",
      "metadata": {
        "id": "XVQ2sG0Pap4b",
        "colab": {
          "base_uri": "https://localhost:8080/"
        },
        "outputId": "21b9d0aa-4219-4190-a2cf-c8255e21af06"
      },
      "source": [
        "set_frutas = set(l_frutas)\n",
        "print(set_frutas)\n",
        "set_frutas  # Aqui ele ordena o conjunto !!??"
      ],
      "execution_count": null,
      "outputs": [
        {
          "output_type": "stream",
          "text": [
            "{'Peach', 'Pomegranate', 'Orange', 'Cherry', 'Apple', 'Kiwi', 'Melon', 'Apricot', 'Lemon', 'Papaya', 'Watermelon', 'Mango', 'Pineapple', 'Mandarin', 'Grapefruit', 'Lime', 'Carambola', 'Avocado', 'Pear', 'Grape', 'Blueberry', 'Banana', 'Coconut', 'Nectarine', 'Jackfruit', 'Strawberry', 'Raspberry', 'Plum'}\n"
          ],
          "name": "stdout"
        },
        {
          "output_type": "execute_result",
          "data": {
            "text/plain": [
              "{'Apple',\n",
              " 'Apricot',\n",
              " 'Avocado',\n",
              " 'Banana',\n",
              " 'Blueberry',\n",
              " 'Carambola',\n",
              " 'Cherry',\n",
              " 'Coconut',\n",
              " 'Grape',\n",
              " 'Grapefruit',\n",
              " 'Jackfruit',\n",
              " 'Kiwi',\n",
              " 'Lemon',\n",
              " 'Lime',\n",
              " 'Mandarin',\n",
              " 'Mango',\n",
              " 'Melon',\n",
              " 'Nectarine',\n",
              " 'Orange',\n",
              " 'Papaya',\n",
              " 'Peach',\n",
              " 'Pear',\n",
              " 'Pineapple',\n",
              " 'Plum',\n",
              " 'Pomegranate',\n",
              " 'Raspberry',\n",
              " 'Strawberry',\n",
              " 'Watermelon'}"
            ]
          },
          "metadata": {
            "tags": []
          },
          "execution_count": 16
        }
      ]
    },
    {
      "cell_type": "markdown",
      "metadata": {
        "id": "2cI9beMn5-UK"
      },
      "source": [
        "Observe que o objeto set acima ***não possui itens duplicados***."
      ]
    },
    {
      "cell_type": "code",
      "metadata": {
        "id": "aH5hc2-DFbA_",
        "colab": {
          "base_uri": "https://localhost:8080/"
        },
        "outputId": "519ac042-f1b2-4dc2-aa30-e4432ea36526"
      },
      "source": [
        "# Verificando o tipo do objeto set_frutas...\n",
        "\n",
        "type(set_frutas)"
      ],
      "execution_count": null,
      "outputs": [
        {
          "output_type": "execute_result",
          "data": {
            "text/plain": [
              "set"
            ]
          },
          "metadata": {
            "tags": []
          },
          "execution_count": 17
        }
      ]
    },
    {
      "cell_type": "markdown",
      "metadata": {
        "id": "OVlha00pH3gZ"
      },
      "source": [
        "Ok, set_frutas é um objeto do tipo set."
      ]
    },
    {
      "cell_type": "markdown",
      "metadata": {
        "id": "4mXfPWYc6Ek5"
      },
      "source": [
        "Você notou que os itens do set set_frutas estão entre \"{}\"?"
      ]
    },
    {
      "cell_type": "markdown",
      "metadata": {
        "id": "zNea67m1IMCK"
      },
      "source": [
        "Verificando se o item 'Mandarin' pertence ao set set_frutas..."
      ]
    },
    {
      "cell_type": "code",
      "metadata": {
        "id": "xPvKOOugbDMN",
        "colab": {
          "base_uri": "https://localhost:8080/"
        },
        "outputId": "80fdaa92-51fb-4a59-881a-a441f3baa6c8"
      },
      "source": [
        "'Mandarin' in set_frutas"
      ],
      "execution_count": null,
      "outputs": [
        {
          "output_type": "execute_result",
          "data": {
            "text/plain": [
              "True"
            ]
          },
          "metadata": {
            "tags": []
          },
          "execution_count": 18
        }
      ]
    },
    {
      "cell_type": "markdown",
      "metadata": {
        "id": "y7UuizNcbVMU"
      },
      "source": [
        "___\n",
        "# **PRINCIPAIS MÉTODOS**\n",
        "> Alinhado com a teoria dos conjuntos da Matemática.\n",
        "\n"
      ]
    },
    {
      "cell_type": "markdown",
      "metadata": {
        "id": "9fE_ZTIXcQyh"
      },
      "source": [
        "## União de conjuntos (sets) - Todos elementos, não repetidos, de A e B\n",
        "* Retorna a união/junção de dois objetos sets;\n",
        "* O operador ‘|’ produz o mesmo resultado que set1.union(set2);\n",
        "\n",
        "![Union](https://github.com/MathMachado/Materials/blob/master/set_Union.PNG?raw=true)\n",
        "\n",
        "Fonte: [Python Set](https://www.learnbyexample.org/python-set/)"
      ]
    },
    {
      "cell_type": "markdown",
      "metadata": {
        "id": "RBqab5gR7v2c"
      },
      "source": [
        "### set.union()\n",
        "> Retorna os valores únicos dos dois conjuntos. Na teoria dos conjuntos, escrevemos:\n",
        "\n",
        "$$A \\cup B$$"
      ]
    },
    {
      "cell_type": "code",
      "metadata": {
        "id": "qAbAJg94b_Qh"
      },
      "source": [
        "# definindo a lista de itens. Lembre-se de usar \"{}\" ao invés de \"[]\"\n",
        "set_frutas1 = {'Apple', 'Watermelon', 'Orange', 'Apple', 'Orange', 'Cherry'}\n",
        "set_frutas2 = {'Pear', 'Cherry', 'Strawberry', 'Nectarine'}"
      ],
      "execution_count": null,
      "outputs": []
    },
    {
      "cell_type": "code",
      "metadata": {
        "id": "Xycc2zBh-DFK",
        "colab": {
          "base_uri": "https://localhost:8080/"
        },
        "outputId": "15477f1f-952a-4427-8d0f-7748df7a63f7"
      },
      "source": [
        "set_frutas1"
      ],
      "execution_count": null,
      "outputs": [
        {
          "output_type": "execute_result",
          "data": {
            "text/plain": [
              "{'Apple', 'Cherry', 'Orange', 'Watermelon'}"
            ]
          },
          "metadata": {
            "tags": []
          },
          "execution_count": 20
        }
      ]
    },
    {
      "cell_type": "code",
      "metadata": {
        "id": "o043cP62-Fdi",
        "colab": {
          "base_uri": "https://localhost:8080/"
        },
        "outputId": "9104a04e-9fe9-48ba-86a4-afbaae55f9ad"
      },
      "source": [
        "set_frutas2"
      ],
      "execution_count": null,
      "outputs": [
        {
          "output_type": "execute_result",
          "data": {
            "text/plain": [
              "{'Cherry', 'Nectarine', 'Pear', 'Strawberry'}"
            ]
          },
          "metadata": {
            "tags": []
          },
          "execution_count": 21
        }
      ]
    },
    {
      "cell_type": "markdown",
      "metadata": {
        "id": "Ipfhr4XM9J7i"
      },
      "source": [
        "**Atenção**: Observe que o objeto lista set_frutas1 possui 'Apple' e 'Orange' duplicados. Observe, também, que o item 'Cherry' é o item comum entre estas duas listas."
      ]
    },
    {
      "cell_type": "code",
      "metadata": {
        "id": "SOqXa6ikdBpw",
        "colab": {
          "base_uri": "https://localhost:8080/"
        },
        "outputId": "ff457c88-1f8f-4cf2-9ca3-c830e7266285"
      },
      "source": [
        "# Juntando as duas listas:\n",
        "set_frutas = set_frutas1.union(set_frutas2)\n",
        "set_frutas"
      ],
      "execution_count": null,
      "outputs": [
        {
          "output_type": "execute_result",
          "data": {
            "text/plain": [
              "{'Apple', 'Cherry', 'Nectarine', 'Orange', 'Pear', 'Strawberry', 'Watermelon'}"
            ]
          },
          "metadata": {
            "tags": []
          },
          "execution_count": 22
        }
      ]
    },
    {
      "cell_type": "markdown",
      "metadata": {
        "id": "hPGXjs_Z7LHp"
      },
      "source": [
        "Note que cada elemento da lista aparece uma única vez."
      ]
    },
    {
      "cell_type": "markdown",
      "metadata": {
        "id": "FC1pk8gyCwRI"
      },
      "source": [
        "Observe também que o objeto set_frutas1 é do tipo set."
      ]
    },
    {
      "cell_type": "code",
      "metadata": {
        "id": "hVJjyDFoCrPD",
        "colab": {
          "base_uri": "https://localhost:8080/"
        },
        "outputId": "31fd83b0-d6fc-4c8e-e625-9d26d2364a7f"
      },
      "source": [
        "type(set_frutas)"
      ],
      "execution_count": null,
      "outputs": [
        {
          "output_type": "execute_result",
          "data": {
            "text/plain": [
              "set"
            ]
          },
          "metadata": {
            "tags": []
          },
          "execution_count": 24
        }
      ]
    },
    {
      "cell_type": "markdown",
      "metadata": {
        "id": "GKSxZcdE7smv"
      },
      "source": [
        "### Operador \"|\"\n",
        "* vamos repetir o exemplo anterior, mas desta vez vamos demonstrar o uso do operador \"|\"."
      ]
    },
    {
      "cell_type": "code",
      "metadata": {
        "id": "joNgYYtD78Dz"
      },
      "source": [
        "# definindo a lista de itens. Lembre-se de usar \"{}\" ao invés de \"[]\"\n",
        "set_frutas1 = {'Apple', 'Watermelon', 'Orange', 'Apple', 'Orange', 'Cherry'}\n",
        "set_frutas2 = {'Pear', 'Cherry', 'Strawberry', 'Nectarine'}"
      ],
      "execution_count": null,
      "outputs": []
    },
    {
      "cell_type": "code",
      "metadata": {
        "id": "uExwK4z-8ADr",
        "colab": {
          "base_uri": "https://localhost:8080/"
        },
        "outputId": "c7542d52-bbed-4d60-b750-523e986bcc58"
      },
      "source": [
        "# Juntando as duas listas:\n",
        "set_frutas = set_frutas1 | set_frutas1\n",
        "set_frutas"
      ],
      "execution_count": null,
      "outputs": [
        {
          "output_type": "execute_result",
          "data": {
            "text/plain": [
              "{'Apple', 'Cherry', 'Orange', 'Watermelon'}"
            ]
          },
          "metadata": {
            "tags": []
          },
          "execution_count": 26
        }
      ]
    },
    {
      "cell_type": "markdown",
      "metadata": {
        "id": "FJ11hu6-8EzS"
      },
      "source": [
        "Mesmo resultado, certo? Particularmente, eu prefiro usar o operador \"|\"."
      ]
    },
    {
      "cell_type": "markdown",
      "metadata": {
        "id": "xLO-u0kS8UV5"
      },
      "source": [
        "## Intersecção de dois conjuntos - Esta contido em A e B\n",
        "* Retorna a intersecção de dois objetos set;\n",
        "* O operador ‘&’ produz o mesmo resultado que set1.intersection(set2).\n",
        "* Teoria dos conjuntos: $X \\cap Y$.\n",
        "\n",
        "![Interseccion](https://github.com/MathMachado/Materials/blob/master/set_Intersection.PNG?raw=true)\n",
        "\n",
        "Fonte: [Python Set](https://www.learnbyexample.org/python-set/)"
      ]
    },
    {
      "cell_type": "code",
      "metadata": {
        "id": "F9ae2SAW8Tar"
      },
      "source": [
        "# definindo a lista de itens. Lembre-se de usar \"{}\" ao invés de \"[]\"\n",
        "set_frutas1= {'Apple', 'Watermelon', 'Orange', 'Apple', 'Orange', 'Cherry','Banana'}\n",
        "set_frutas2= {'Pear', 'Cherry', 'Strawberry', 'Nectarine', 'Banana'}"
      ],
      "execution_count": null,
      "outputs": []
    },
    {
      "cell_type": "code",
      "metadata": {
        "id": "TDqwIfqn94kx",
        "colab": {
          "base_uri": "https://localhost:8080/"
        },
        "outputId": "0e39dbf7-dc4b-4c3b-d2f8-eb5591268906"
      },
      "source": [
        "set_frutas = set_frutas1.intersection(set_frutas2)\n",
        "set_frutas"
      ],
      "execution_count": null,
      "outputs": [
        {
          "output_type": "execute_result",
          "data": {
            "text/plain": [
              "{'Banana', 'Cherry'}"
            ]
          },
          "metadata": {
            "tags": []
          },
          "execution_count": 32
        }
      ]
    },
    {
      "cell_type": "markdown",
      "metadata": {
        "id": "WTJiBRqZ-DnV"
      },
      "source": [
        "### Operador \"&\""
      ]
    },
    {
      "cell_type": "code",
      "metadata": {
        "id": "Zt3DwQDs-IVi"
      },
      "source": [
        "# definindo a lista de itens. Lembre-se de usar \"{}\" ao invés de \"[]\"\n",
        "set_frutas1 = {'Apple', 'Watermelon', 'Orange', 'Apple', 'Orange', 'Cherry', 'Banana'}\n",
        "set_frutas2 = {'Pear', 'Cherry', 'Strawberry', 'Nectarine', 'Banana'}"
      ],
      "execution_count": null,
      "outputs": []
    },
    {
      "cell_type": "code",
      "metadata": {
        "id": "FEMRpfH6-P8R",
        "colab": {
          "base_uri": "https://localhost:8080/"
        },
        "outputId": "6e2fe4ab-08b1-4795-e94b-46da93f042da"
      },
      "source": [
        "set_frutas = set_frutas1 & set_frutas2\n",
        "set_frutas"
      ],
      "execution_count": null,
      "outputs": [
        {
          "output_type": "execute_result",
          "data": {
            "text/plain": [
              "{'Banana', 'Cherry'}"
            ]
          },
          "metadata": {
            "tags": []
          },
          "execution_count": 34
        }
      ]
    },
    {
      "cell_type": "markdown",
      "metadata": {
        "id": "N445biyX-krt"
      },
      "source": [
        "## Diferença entre conjuntos - Esta contido apenas em A\n",
        "* Retorna um objeto/conjunto set contendo todos os elementos do conjunto set1 que não pertençam ao conjunto set2;\n",
        "* O operador \"-\" produz o mesmo resultado que set.difference(set2).\n",
        "* Na teoria de conjuntos escrevemos: $A - B = A - A \\cap B$\n",
        "\n",
        "![Difference](https://github.com/MathMachado/Materials/blob/master/set_Difference.PNG?raw=true)\n",
        "\n",
        "Fonte: [Python Set](https://www.learnbyexample.org/python-set/)"
      ]
    },
    {
      "cell_type": "code",
      "metadata": {
        "id": "1E3xd6oh-jt9"
      },
      "source": [
        "# definindo a lista de itens. Lembre-se de usar \"{}\" ao invés de \"[]\"\n",
        "set_frutas1= {'Apple', 'Watermelon', 'Orange', 'Apple', 'Orange', 'Cherry', 'Banana'}\n",
        "set_frutas2= {'Pear', 'Cherry', 'Strawberry', 'Nectarine','Banana'}"
      ],
      "execution_count": null,
      "outputs": []
    },
    {
      "cell_type": "code",
      "metadata": {
        "id": "1ibPFZwA_iKF",
        "colab": {
          "base_uri": "https://localhost:8080/"
        },
        "outputId": "b0454814-e32a-4130-8b3c-6658c599f7f5"
      },
      "source": [
        "set_frutas = set_frutas1.difference(set_frutas2)\n",
        "set_frutas"
      ],
      "execution_count": null,
      "outputs": [
        {
          "output_type": "execute_result",
          "data": {
            "text/plain": [
              "{'Apple', 'Orange', 'Watermelon'}"
            ]
          },
          "metadata": {
            "tags": []
          },
          "execution_count": 38
        }
      ]
    },
    {
      "cell_type": "markdown",
      "metadata": {
        "id": "h9V-k8Fj_uAT"
      },
      "source": [
        "Confira se o resultado são os elementos que pertençam ao objeto set 1 que NÃO PERTENÇAM ao set2."
      ]
    },
    {
      "cell_type": "markdown",
      "metadata": {
        "id": "_4DhSxXt_W1W"
      },
      "source": [
        "### **Operador \" - \"**"
      ]
    },
    {
      "cell_type": "code",
      "metadata": {
        "id": "9E7YiPue_qDl"
      },
      "source": [
        "# definindo a lista de itens. Lembre-se de usar \"{}\" ao invés de \"[]\"\n",
        "set_frutas1 = {'Apple', 'Watermelon', 'Orange', 'Apple', 'Orange', 'Cherry','Banana'}\n",
        "set_frutas2 = {'Pear', 'Cherry', 'Strawberry', 'Nectarine','Banana'}"
      ],
      "execution_count": null,
      "outputs": []
    },
    {
      "cell_type": "code",
      "metadata": {
        "id": "zxJrZlJK_ryG",
        "colab": {
          "base_uri": "https://localhost:8080/"
        },
        "outputId": "94ddb8c5-1d6a-4587-9d90-9e2b6f651d09"
      },
      "source": [
        "set_frutas = set_frutas1 - set_frutas2\n",
        "set_frutas"
      ],
      "execution_count": null,
      "outputs": [
        {
          "output_type": "execute_result",
          "data": {
            "text/plain": [
              "{'Apple', 'Orange', 'Watermelon'}"
            ]
          },
          "metadata": {
            "tags": []
          },
          "execution_count": 40
        }
      ]
    },
    {
      "cell_type": "markdown",
      "metadata": {
        "id": "jx1KeO8kd6DG"
      },
      "source": [
        "## **Diferença Simétrica - Estão contidos apenas em A e apenas em B**\n",
        "* Retorna um objeto/conjunto set contendo itens de set1 e set2 menos a intersecção de set1 e set2.\n",
        "* Na teoria de conjuntos escrevemos: $A \\cup B - A \\cap B$.\n",
        "\n",
        "![DifferenceSymmetric](https://github.com/MathMachado/Materials/blob/master/set_DifferenceSymetric.PNG?raw=true)\n",
        "\n",
        "Fonte: [Python Set](https://www.learnbyexample.org/python-set/)"
      ]
    },
    {
      "cell_type": "code",
      "metadata": {
        "id": "1HOonLLXeEXJ"
      },
      "source": [
        "import numpy as np\n",
        "# definindo a lista de itens. Lembre-se de usar \"{}\" ao invés de \"[]\"\n",
        "set_frutas1 = {'Apple', 'Watermelon', 'Orange', 'Apple', 'Orange', 'Cherry','Banana'}\n",
        "set_frutas2 = {'Pear', 'Cherry', 'Strawberry', 'Nectarine','Banana'}"
      ],
      "execution_count": 1,
      "outputs": []
    },
    {
      "cell_type": "code",
      "metadata": {
        "id": "j-lsvUcWeHRR",
        "colab": {
          "base_uri": "https://localhost:8080/"
        },
        "outputId": "01b26c43-95d7-41d3-ebc2-5f51bd814721"
      },
      "source": [
        "set_frutas1 ^= set_frutas2\n",
        "set_frutas1"
      ],
      "execution_count": null,
      "outputs": [
        {
          "output_type": "execute_result",
          "data": {
            "text/plain": [
              "{'Apple', 'Nectarine', 'Orange', 'Pear', 'Strawberry', 'Watermelon'}"
            ]
          },
          "metadata": {
            "tags": []
          },
          "execution_count": 43
        }
      ]
    },
    {
      "cell_type": "code",
      "metadata": {
        "id": "KDcS70rFBMkA",
        "colab": {
          "base_uri": "https://localhost:8080/"
        },
        "outputId": "c41121e7-1f08-48a6-bfd9-22cee76c9e7a"
      },
      "source": [
        "set_frutas1.symmetric_difference(set_frutas2)"
      ],
      "execution_count": null,
      "outputs": [
        {
          "output_type": "execute_result",
          "data": {
            "text/plain": [
              "{'Apple', 'Nectarine', 'Orange', 'Pear', 'Strawberry', 'Watermelon'}"
            ]
          },
          "metadata": {
            "tags": []
          },
          "execution_count": 46
        }
      ]
    },
    {
      "cell_type": "markdown",
      "metadata": {
        "id": "H2CCI3WtebAi"
      },
      "source": [
        "Vimos que o item 'Cherry' é o elemento comum entre as duas listas. Portanto, 'Cherry' é a intersecção das duas listas. Certo?\n",
        "\n",
        "Então, o resultado acima não pode conter o item 'Cherry'. Certo?"
      ]
    },
    {
      "cell_type": "markdown",
      "metadata": {
        "id": "B7fT-QGiFREs"
      },
      "source": [
        "___\n",
        "# **OUTROS MÉTODOS IMPORTANTES**"
      ]
    },
    {
      "cell_type": "markdown",
      "metadata": {
        "id": "hWNUIGpIE6z9"
      },
      "source": [
        "## Método clear()\n",
        "* deleta todos os itens do objeto set."
      ]
    },
    {
      "cell_type": "code",
      "metadata": {
        "id": "48OzIs0fE-yD"
      },
      "source": [
        "# definindo a lista de itens. Lembre-se de usar \"{}\" ao invés de \"[]\"\n",
        "set_frutas1 = {'Apple','Watermelon','Orange', 'Apple', 'Orange', 'Cherry'}\n",
        "set_frutas2 = {'Pear', 'Cherry', 'Strawberry', 'Nectarine'}"
      ],
      "execution_count": null,
      "outputs": []
    },
    {
      "cell_type": "code",
      "metadata": {
        "id": "VJjNlY8ZCwd1",
        "colab": {
          "base_uri": "https://localhost:8080/"
        },
        "outputId": "0586e10f-bed3-4a8b-9386-721cba297e42"
      },
      "source": [
        "set_frutas1.clear()\r\n",
        "set_frutas1"
      ],
      "execution_count": null,
      "outputs": [
        {
          "output_type": "execute_result",
          "data": {
            "text/plain": [
              "set()"
            ]
          },
          "metadata": {
            "tags": []
          },
          "execution_count": 55
        }
      ]
    },
    {
      "cell_type": "code",
      "metadata": {
        "id": "aWoMDNI9DBSU"
      },
      "source": [
        "# Deleta elementos do set"
      ],
      "execution_count": null,
      "outputs": []
    },
    {
      "cell_type": "code",
      "metadata": {
        "id": "SanSB3dlALSC",
        "colab": {
          "base_uri": "https://localhost:8080/"
        },
        "outputId": "c8e6d7f4-f2fb-453c-b02b-07dbc3567920"
      },
      "source": [
        "set_frutas1.discard('Apple') \n",
        "set_frutas1"
      ],
      "execution_count": null,
      "outputs": [
        {
          "output_type": "execute_result",
          "data": {
            "text/plain": [
              "{'Cherry', 'Orange', 'Watermelon'}"
            ]
          },
          "metadata": {
            "tags": []
          },
          "execution_count": 61
        }
      ]
    },
    {
      "cell_type": "markdown",
      "metadata": {
        "id": "yP_uvIwJT9QV"
      },
      "source": [
        "## Número de itens num objeto set - Tamanho(comprimento) do set"
      ]
    },
    {
      "cell_type": "code",
      "metadata": {
        "id": "_RWrhL6PUEpi"
      },
      "source": [
        "# definindo a lista de itens. Lembre-se de usar \"{}\" ao invés de \"[]\"\n",
        "\n",
        "set_frutas = {'Apple','Watermelon','Orange', 'Apple', 'Orange', 'Cherry'}"
      ],
      "execution_count": null,
      "outputs": []
    },
    {
      "cell_type": "code",
      "metadata": {
        "id": "Iq2OKyCBDs9M",
        "colab": {
          "base_uri": "https://localhost:8080/"
        },
        "outputId": "b4a6e877-a8df-4d3f-c09d-f608c4bc313a"
      },
      "source": [
        "set_frutas"
      ],
      "execution_count": null,
      "outputs": [
        {
          "output_type": "execute_result",
          "data": {
            "text/plain": [
              "{'Apple', 'Cherry', 'Orange', 'Watermelon'}"
            ]
          },
          "metadata": {
            "tags": []
          },
          "execution_count": 65
        }
      ]
    },
    {
      "cell_type": "code",
      "metadata": {
        "id": "J4MjZHJSUHfF",
        "colab": {
          "base_uri": "https://localhost:8080/"
        },
        "outputId": "075a194b-4d32-44b5-8d42-dcbd243223a7"
      },
      "source": [
        "len(set_frutas)"
      ],
      "execution_count": null,
      "outputs": [
        {
          "output_type": "execute_result",
          "data": {
            "text/plain": [
              "4"
            ]
          },
          "metadata": {
            "tags": []
          },
          "execution_count": 66
        }
      ]
    },
    {
      "cell_type": "markdown",
      "metadata": {
        "id": "GoI7V7tCF5it"
      },
      "source": [
        "Por acaso alguém estava à espera de outro númerco, como um 6, por exemplo?"
      ]
    },
    {
      "cell_type": "markdown",
      "metadata": {
        "id": "oggPxr5HFXur"
      },
      "source": [
        "## Membership"
      ]
    },
    {
      "cell_type": "code",
      "metadata": {
        "id": "lVRfn8xwFchc"
      },
      "source": [
        "# definindo a lista de itens. Lembre-se de usar \"{}\" ao invés de \"[]\"\n",
        "\n",
        "set_frutas = {'Apple','Watermelon','Orange', 'Apple', 'Orange', 'Cherry'}"
      ],
      "execution_count": null,
      "outputs": []
    },
    {
      "cell_type": "code",
      "metadata": {
        "id": "4elw5NJhFWQW",
        "colab": {
          "base_uri": "https://localhost:8080/"
        },
        "outputId": "057ac6bb-2256-44fd-bea1-a61669d9e808"
      },
      "source": [
        "'Apple' in set_frutas"
      ],
      "execution_count": null,
      "outputs": [
        {
          "output_type": "execute_result",
          "data": {
            "text/plain": [
              "True"
            ]
          },
          "metadata": {
            "tags": []
          },
          "execution_count": 68
        }
      ]
    },
    {
      "cell_type": "markdown",
      "metadata": {
        "id": "7XZKfZ15FrEt"
      },
      "source": [
        "## Non-Membership"
      ]
    },
    {
      "cell_type": "code",
      "metadata": {
        "id": "2hbOQfTgFvw7"
      },
      "source": [
        "# definindo a lista de itens. Lembre-se de usar \"{}\" ao invés de \"[]\"\n",
        "\n",
        "set_frutas = {'Apple','Watermelon','Orange', 'Apple', 'Orange', 'Cherry'}"
      ],
      "execution_count": null,
      "outputs": []
    },
    {
      "cell_type": "code",
      "metadata": {
        "id": "cNAXJt1cFy3z",
        "colab": {
          "base_uri": "https://localhost:8080/"
        },
        "outputId": "1fc8016d-23c1-448c-9aea-bc9c63d03b2d"
      },
      "source": [
        "'Apple' not in set_frutas"
      ],
      "execution_count": null,
      "outputs": [
        {
          "output_type": "execute_result",
          "data": {
            "text/plain": [
              "False"
            ]
          },
          "metadata": {
            "tags": []
          },
          "execution_count": 70
        }
      ]
    },
    {
      "cell_type": "markdown",
      "metadata": {
        "id": "nZY6vT45Pl63"
      },
      "source": [
        "## Copiar um objeto set"
      ]
    },
    {
      "cell_type": "code",
      "metadata": {
        "id": "qtwgwjlgPqYP",
        "colab": {
          "base_uri": "https://localhost:8080/"
        },
        "outputId": "3b98b5d9-4c8a-45db-894e-af89ed77d596"
      },
      "source": [
        "# definindo a lista de itens. Lembre-se de usar \"{}\" ao invés de \"[]\"\n",
        "\n",
        "set_frutas = {'Apple','Watermelon','Orange', 'Apple', 'Orange', 'Cherry'}\n",
        "set_frutas"
      ],
      "execution_count": null,
      "outputs": [
        {
          "output_type": "execute_result",
          "data": {
            "text/plain": [
              "{'Apple', 'Cherry', 'Orange', 'Watermelon'}"
            ]
          },
          "metadata": {
            "tags": []
          },
          "execution_count": 74
        }
      ]
    },
    {
      "cell_type": "code",
      "metadata": {
        "id": "CW3dXoO0PsYl",
        "colab": {
          "base_uri": "https://localhost:8080/"
        },
        "outputId": "c658846b-a082-4f0f-bdb7-cca09384871c"
      },
      "source": [
        "set_frutas2 = set_frutas.copy()\n",
        "set_frutas2"
      ],
      "execution_count": null,
      "outputs": [
        {
          "output_type": "execute_result",
          "data": {
            "text/plain": [
              "{'Apple', 'Cherry', 'Orange', 'Watermelon'}"
            ]
          },
          "metadata": {
            "tags": []
          },
          "execution_count": 75
        }
      ]
    },
    {
      "cell_type": "markdown",
      "metadata": {
        "id": "Qua-_coqTtjV"
      },
      "source": [
        "## Testar se cada elemento de set_frutas1 pertence à set_frutas2"
      ]
    },
    {
      "cell_type": "code",
      "metadata": {
        "id": "fg_bHYVoUh0w"
      },
      "source": [
        "set_frutas1 = {'Apple', 'Orange', 'Cherry'}\n",
        "set_frutas2 = {'Apple', 'Orange','Cherry', 'Nectarine', 'Avocado'}"
      ],
      "execution_count": null,
      "outputs": []
    },
    {
      "cell_type": "code",
      "metadata": {
        "id": "BH0duIgVU6n0",
        "colab": {
          "base_uri": "https://localhost:8080/"
        },
        "outputId": "a9a39e40-3f69-43d7-8ecf-2f58f62e6d57"
      },
      "source": [
        "set_frutas1.issubset(set_frutas2)"
      ],
      "execution_count": null,
      "outputs": [
        {
          "output_type": "execute_result",
          "data": {
            "text/plain": [
              "True"
            ]
          },
          "metadata": {
            "tags": []
          },
          "execution_count": 77
        }
      ]
    },
    {
      "cell_type": "markdown",
      "metadata": {
        "id": "LBdo25CoGkwc"
      },
      "source": [
        "A interpretação disso é que set_frutas1 é subconjunto de set_frutas2. Lembra-se destes conceitos quando estudou Matemática ou Estatística?"
      ]
    },
    {
      "cell_type": "markdown",
      "metadata": {
        "id": "1PIjNvQuVKbx"
      },
      "source": [
        "### Operador \"<=\""
      ]
    },
    {
      "cell_type": "code",
      "metadata": {
        "id": "-qrurs3mVSBj"
      },
      "source": [
        "set_frutas1 = {'Apple', 'Orange', 'Cherry'}\n",
        "set_frutas2 = {'Apple', 'Orange', 'Cherry', 'Nectarine', 'Avocado'}"
      ],
      "execution_count": null,
      "outputs": []
    },
    {
      "cell_type": "code",
      "metadata": {
        "id": "MZGE23nEVUfn",
        "colab": {
          "base_uri": "https://localhost:8080/"
        },
        "outputId": "5b46384c-1cdc-4978-fe57-b5fb00a1689e"
      },
      "source": [
        "set_frutas1 <= set_frutas2"
      ],
      "execution_count": null,
      "outputs": [
        {
          "output_type": "execute_result",
          "data": {
            "text/plain": [
              "True"
            ]
          },
          "metadata": {
            "tags": []
          },
          "execution_count": 81
        }
      ]
    },
    {
      "cell_type": "code",
      "metadata": {
        "id": "L6p-blZ2EXn2",
        "colab": {
          "base_uri": "https://localhost:8080/"
        },
        "outputId": "beb77d36-52d3-4c75-e0df-75557afaf0f4"
      },
      "source": [
        "set_frutas1 == set_frutas2"
      ],
      "execution_count": null,
      "outputs": [
        {
          "output_type": "execute_result",
          "data": {
            "text/plain": [
              "False"
            ]
          },
          "metadata": {
            "tags": []
          },
          "execution_count": 82
        }
      ]
    },
    {
      "cell_type": "markdown",
      "metadata": {
        "id": "IukNRPkVGZhh"
      },
      "source": [
        "___\n",
        "# **EXERCÍCIOS**"
      ]
    },
    {
      "cell_type": "markdown",
      "metadata": {
        "id": "UmO-h59hGgcz"
      },
      "source": [
        "## Exercício 1\n",
        "* Qual o output do code abaixo:"
      ]
    },
    {
      "cell_type": "code",
      "metadata": {
        "id": "01qeqOSxRPC1",
        "colab": {
          "base_uri": "https://localhost:8080/"
        },
        "outputId": "df26d7e5-01d8-448c-ff9d-39b2cd4005fe"
      },
      "source": [
        "set_numeros = {0, 1, 2, 2, 3, 3, 3, 4, 4, 4, 4, 5, 5, 5, 5, 5, 6, 6, 6, 6, 6, 6, 7, 7, 7, 7, 7, 7, 7, 8, 8, 8, 8, 8, 8, 8, 8, 9, 9, 9, 9, 9, 9, 9, 9, 9}\n",
        "print(set_numeros)"
      ],
      "execution_count": null,
      "outputs": [
        {
          "output_type": "stream",
          "text": [
            "{0, 1, 2, 3, 4, 5, 6, 7, 8, 9}\n"
          ],
          "name": "stdout"
        }
      ]
    },
    {
      "cell_type": "markdown",
      "metadata": {
        "id": "eSNtDeQfHdil"
      },
      "source": [
        "## Exercícios 2\n",
        "* Qual o output do code abaixo:"
      ]
    },
    {
      "cell_type": "code",
      "metadata": {
        "id": "VNg2T-sDRV9a",
        "colab": {
          "base_uri": "https://localhost:8080/"
        },
        "outputId": "db758f0b-5dbe-48c4-df8b-7c74df1d4d5f"
      },
      "source": [
        "set_numeros = {0 ,1, 2, 3, 4}\n",
        "set_numeros.update([3, 4, 5, 6])\n",
        "set_numeros"
      ],
      "execution_count": null,
      "outputs": [
        {
          "output_type": "execute_result",
          "data": {
            "text/plain": [
              "{0, 1, 2, 3, 4, 5, 6}"
            ]
          },
          "metadata": {
            "tags": []
          },
          "execution_count": 84
        }
      ]
    },
    {
      "cell_type": "markdown",
      "metadata": {
        "id": "GPgj2ZrePEAn"
      },
      "source": [
        "### Explicação\n",
        "O método update() adiciona/acrescenta itens/lementos não repetidos ao objeto set."
      ]
    },
    {
      "cell_type": "markdown",
      "metadata": {
        "id": "kJK2zXYvQIzu"
      },
      "source": [
        "## Exercício 3\n",
        "* Qual o output do code abaixo:"
      ]
    },
    {
      "cell_type": "markdown",
      "metadata": {
        "id": "14kwGxGLQ4c3"
      },
      "source": [
        "### Exercício 3.1.\n"
      ]
    },
    {
      "cell_type": "code",
      "metadata": {
        "id": "GsYLjSrkQ0Zj"
      },
      "source": [
        "set_numeros = {0, 1 ,2, 3, 4, 5}\n",
        "set_numeros2 = set_numeros.add(4)\n",
        "set_numeros2"
      ],
      "execution_count": null,
      "outputs": []
    },
    {
      "cell_type": "markdown",
      "metadata": {
        "id": "DkZke4WARwQC"
      },
      "source": [
        "### Exercício 3.2."
      ]
    },
    {
      "cell_type": "code",
      "metadata": {
        "id": "_O_MWJYPRxyM"
      },
      "source": [
        "set_engenheiros = {'A', 'B', 'C', 'D'}\n",
        "set_programadores = {'C', 'E', 'F', 'D'}\n",
        "set_gerentes = {'B', 'C', 'F', 'G'}\n",
        "set_empregados = {'D', 'E', 'F', 'G'}"
      ],
      "execution_count": null,
      "outputs": []
    },
    {
      "cell_type": "code",
      "metadata": {
        "id": "kkzsEWmWTOKs",
        "colab": {
          "base_uri": "https://localhost:8080/",
          "height": 34
        },
        "outputId": "8a7bb54f-70bf-43ed-b11b-dcbdbdde4b74"
      },
      "source": [
        "set_empregados = set_engenheiros | set_programadores | set_gerentes  # | união de conjuntos\n",
        "set_empregados"
      ],
      "execution_count": null,
      "outputs": [
        {
          "output_type": "execute_result",
          "data": {
            "text/plain": [
              "{'A', 'B', 'C', 'D', 'E', 'F', 'G'}"
            ]
          },
          "metadata": {
            "tags": []
          },
          "execution_count": 52
        }
      ]
    },
    {
      "cell_type": "markdown",
      "metadata": {
        "id": "HlUDcqfZhquc"
      },
      "source": [
        "### Exercício 3.3."
      ]
    },
    {
      "cell_type": "code",
      "metadata": {
        "id": "IDCvrGBChsIu",
        "colab": {
          "base_uri": "https://localhost:8080/"
        },
        "outputId": "f19f4b83-feca-4231-fa8c-93f655f3635b"
      },
      "source": [
        "set_engenheiros_gerentes = set_engenheiros & set_gerentes # & Intersecção\n",
        "set_engenheiros_gerentes"
      ],
      "execution_count": null,
      "outputs": [
        {
          "output_type": "execute_result",
          "data": {
            "text/plain": [
              "{'B', 'C'}"
            ]
          },
          "metadata": {
            "tags": []
          },
          "execution_count": 89
        }
      ]
    },
    {
      "cell_type": "markdown",
      "metadata": {
        "id": "DBBjOSFlh_6x"
      },
      "source": [
        "### Exercício 3.4."
      ]
    },
    {
      "cell_type": "code",
      "metadata": {
        "id": "N8gBFIb-TKM1",
        "colab": {
          "base_uri": "https://localhost:8080/"
        },
        "outputId": "2a0b48ea-c6e2-42fb-cf16-a07a6401f2fa"
      },
      "source": [
        "set_so_gerentes = set_gerentes - set_engenheiros - set_programadores # - Diferença entre conjuntos - esta contido apenas em um conjunto\n",
        "set_so_gerentes"
      ],
      "execution_count": null,
      "outputs": [
        {
          "output_type": "execute_result",
          "data": {
            "text/plain": [
              "{'G'}"
            ]
          },
          "metadata": {
            "tags": []
          },
          "execution_count": 90
        }
      ]
    },
    {
      "cell_type": "markdown",
      "metadata": {
        "id": "N2EAoffaiGdd"
      },
      "source": [
        "### Exercício 3.5."
      ]
    },
    {
      "cell_type": "code",
      "metadata": {
        "id": "91zIe8jNiHBm",
        "colab": {
          "base_uri": "https://localhost:8080/"
        },
        "outputId": "6af3348b-1763-4340-9dca-1c0353040a7c"
      },
      "source": [
        "set_engenheiros.add('H')\n",
        "set_engenheiros"
      ],
      "execution_count": null,
      "outputs": [
        {
          "output_type": "execute_result",
          "data": {
            "text/plain": [
              "{'A', 'B', 'C', 'D', 'H'}"
            ]
          },
          "metadata": {
            "tags": []
          },
          "execution_count": 91
        }
      ]
    },
    {
      "cell_type": "markdown",
      "metadata": {
        "id": "YTqebb3WiKDP"
      },
      "source": [
        "### Exercício 3.6."
      ]
    },
    {
      "cell_type": "code",
      "metadata": {
        "id": "og-yknYuiKe2",
        "colab": {
          "base_uri": "https://localhost:8080/"
        },
        "outputId": "69f82688-b944-4a20-93d2-051ad98f1177"
      },
      "source": [
        "set_empregados.update(set_engenheiros)\n",
        "set_empregados"
      ],
      "execution_count": null,
      "outputs": [
        {
          "output_type": "execute_result",
          "data": {
            "text/plain": [
              "{'A', 'B', 'C', 'D', 'E', 'F', 'G'}"
            ]
          },
          "metadata": {
            "tags": []
          },
          "execution_count": 94
        }
      ]
    },
    {
      "cell_type": "markdown",
      "metadata": {
        "id": "9b-YOjfCiNFQ"
      },
      "source": [
        "### Exercício 3.7."
      ]
    },
    {
      "cell_type": "code",
      "metadata": {
        "id": "mv_AqKeZHOWr",
        "colab": {
          "base_uri": "https://localhost:8080/"
        },
        "outputId": "90da0994-6a4b-44ed-e57d-78b6eec4d4b3"
      },
      "source": [
        "set_engenheiros "
      ],
      "execution_count": null,
      "outputs": [
        {
          "output_type": "execute_result",
          "data": {
            "text/plain": [
              "{'A', 'B', 'C', 'D'}"
            ]
          },
          "metadata": {
            "tags": []
          },
          "execution_count": 97
        }
      ]
    },
    {
      "cell_type": "code",
      "metadata": {
        "id": "tr12zXT2H0Fb",
        "colab": {
          "base_uri": "https://localhost:8080/"
        },
        "outputId": "f5dddb45-2601-4669-9e5b-3f3878046d05"
      },
      "source": [
        "set_programadores"
      ],
      "execution_count": null,
      "outputs": [
        {
          "output_type": "execute_result",
          "data": {
            "text/plain": [
              "{'C', 'D', 'E', 'F'}"
            ]
          },
          "metadata": {
            "tags": []
          },
          "execution_count": 98
        }
      ]
    },
    {
      "cell_type": "code",
      "metadata": {
        "id": "eip5LjqdH0vi",
        "colab": {
          "base_uri": "https://localhost:8080/"
        },
        "outputId": "6b7e1bff-3438-4394-9fe5-911a6fc106c3"
      },
      "source": [
        "set_gerentes"
      ],
      "execution_count": null,
      "outputs": [
        {
          "output_type": "execute_result",
          "data": {
            "text/plain": [
              "{'B', 'C', 'F', 'G'}"
            ]
          },
          "metadata": {
            "tags": []
          },
          "execution_count": 99
        }
      ]
    },
    {
      "cell_type": "code",
      "metadata": {
        "id": "41q5q4vYH1L6",
        "colab": {
          "base_uri": "https://localhost:8080/"
        },
        "outputId": "595cea37-8b8e-41df-e0ea-48c4faa80daa"
      },
      "source": [
        "set_empregados"
      ],
      "execution_count": null,
      "outputs": [
        {
          "output_type": "execute_result",
          "data": {
            "text/plain": [
              "{'A', 'B', 'C', 'D', 'E', 'F', 'G'}"
            ]
          },
          "metadata": {
            "tags": []
          },
          "execution_count": 100
        }
      ]
    },
    {
      "cell_type": "code",
      "metadata": {
        "id": "JzgC07WZiNeu",
        "colab": {
          "base_uri": "https://localhost:8080/"
        },
        "outputId": "3c16c2c9-ac67-4abe-c848-396246e88123"
      },
      "source": [
        "for item in [set_engenheiros, set_programadores, set_gerentes, set_empregados]:\n",
        "    item.discard('F')\n",
        "    print(item)"
      ],
      "execution_count": null,
      "outputs": [
        {
          "output_type": "stream",
          "text": [
            "{'D', 'C', 'B', 'A'}\n",
            "{'D', 'C', 'E'}\n",
            "{'C', 'B', 'G'}\n",
            "{'B', 'A', 'D', 'C', 'E', 'G'}\n"
          ],
          "name": "stdout"
        }
      ]
    },
    {
      "cell_type": "markdown",
      "metadata": {
        "id": "aBgeAOt-hb_d"
      },
      "source": [
        "## Exercício 4\n",
        "* É possível sortear os itens de um set? Explique sua resposta."
      ]
    },
    {
      "cell_type": "markdown",
      "metadata": {
        "id": "cuZfHXvRwCry"
      },
      "source": [
        "## Exercício 5\n",
        "Consulte a página [Python Data Types: Sets - Exercises, Practice, Solution](https://www.w3resource.com/python-exercises/sets/) para mais exercícios relacionados à sets."
      ]
    },
    {
      "cell_type": "code",
      "metadata": {
        "id": "q3ImGyClhgkK"
      },
      "source": [
        ""
      ],
      "execution_count": null,
      "outputs": []
    }
  ]
}