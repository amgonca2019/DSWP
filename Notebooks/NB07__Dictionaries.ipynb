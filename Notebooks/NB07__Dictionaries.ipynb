{
  "nbformat": 4,
  "nbformat_minor": 0,
  "metadata": {
    "colab": {
      "name": "NB07__Dictionaries.ipynb",
      "provenance": [],
      "collapsed_sections": [
        "n8BIbzQbNWUo",
        "7eS94uQ4NhVR",
        "SYOgJpGYVLUu",
        "CaHFxk98W5if",
        "ReWUyWiHXCnc",
        "CqszHxaKHr2h",
        "tXgF1Wl9gHKY",
        "Fotx7XUquAo8",
        "36kmLUYDvsUI",
        "SWO2GdNovxAp",
        "vpN54l4vxze5",
        "u4HOf9SNytSq",
        "6BQ9oZiD9hg5",
        "tz5-QdrX9vct",
        "p1muBgMX8NK4",
        "FxTC2-U88ajk",
        "z8EYn0pP25Rh"
      ],
      "include_colab_link": true
    },
    "kernelspec": {
      "name": "python3",
      "display_name": "Python 3"
    }
  },
  "cells": [
    {
      "cell_type": "markdown",
      "metadata": {
        "id": "view-in-github",
        "colab_type": "text"
      },
      "source": [
        "<a href=\"https://colab.research.google.com/github/amgonca2019/DSWP/blob/master/Notebooks/NB07__Dictionaries.ipynb\" target=\"_parent\"><img src=\"https://colab.research.google.com/assets/colab-badge.svg\" alt=\"Open In Colab\"/></a>"
      ]
    },
    {
      "cell_type": "markdown",
      "metadata": {
        "id": "iBW6agsvqqAm"
      },
      "source": [
        "<center><h1><b><i>DICIONÁRIOS</i></b></h1></center>\n",
        "\n",
        "* Coleção desordenada, mutável e indexada (estrutura do tipo {key: value}) de itens;\n",
        "* Não permite itens duplicados;\n",
        "* Usamos {key: value} para representar os itens do dicionário;\n",
        "\n"
      ]
    },
    {
      "cell_type": "markdown",
      "metadata": {
        "id": "LFcr_2Xnq2ho"
      },
      "source": [
        "# **AGENDA**:\n",
        "\n",
        "> Veja o **índice** dos itens que serão abordados neste capítulo.\n",
        "\n"
      ]
    },
    {
      "cell_type": "markdown",
      "metadata": {
        "id": "r8vR-lHJIhgM"
      },
      "source": [
        "# **NOTAS E OBSERVAÇÕES**\n",
        "* Levar os exemplos de lambda function daqui para o capítulo de Lambda Function.\n"
      ]
    },
    {
      "cell_type": "markdown",
      "metadata": {
        "id": "DkxCxjsbE5fL"
      },
      "source": [
        "# **CHEETSHEET**"
      ]
    },
    {
      "cell_type": "markdown",
      "metadata": {
        "id": "cGUWTualFCOk"
      },
      "source": [
        "![DataSctructures](https://github.com/MathMachado/Materials/blob/master/PythonDataStructures.png?raw=true)"
      ]
    },
    {
      "cell_type": "markdown",
      "metadata": {
        "id": "ublDMf3R_qMn"
      },
      "source": [
        "A seguir, os principais métodos associados aos dicionários. Para isso, considere as listas l_frutas e l_precos_frutas que darão origem ao dicionário d_frutas a seguir:"
      ]
    },
    {
      "cell_type": "code",
      "metadata": {
        "id": "FxuJ7Awd8f5a",
        "colab": {
          "base_uri": "https://localhost:8080/"
        },
        "outputId": "e4eb2215-01e2-4e89-a9ee-eb72ffba5a95"
      },
      "source": [
        "# Definição da lista l_frutas:\n",
        "l_frutas = ['Avocado', 'Apple', 'Apricot', 'Banana', 'Blackcurrant', 'Blackberry', 'Blueberry', 'Cherry', 'Coconut', 'Fig', 'Grape', 'Kiwi', 'Lemon', 'Mango', 'Nectarine', \n",
        "          'Orange', 'Papaya', 'Passion Fruit', 'Peach', 'Pineapple', 'Plum', 'Raspberry', 'Strawberry', 'Watermelon']\n",
        "\n",
        "print(l_frutas)"
      ],
      "execution_count": null,
      "outputs": [
        {
          "output_type": "stream",
          "text": [
            "['Avocado', 'Apple', 'Apricot', 'Banana', 'Blackcurrant', 'Blackberry', 'Blueberry', 'Cherry', 'Coconut', 'Fig', 'Grape', 'Kiwi', 'Lemon', 'Mango', 'Nectarine', 'Orange', 'Papaya', 'Passion Fruit', 'Peach', 'Pineapple', 'Plum', 'Raspberry', 'Strawberry', 'Watermelon']\n"
          ],
          "name": "stdout"
        }
      ]
    },
    {
      "cell_type": "code",
      "metadata": {
        "id": "jJyxuMQc9Ewy",
        "colab": {
          "base_uri": "https://localhost:8080/"
        },
        "outputId": "84ab148b-045d-4062-a6c6-a8661272cf01"
      },
      "source": [
        "# Definição da lista l_precos_frutas:\n",
        "l_precos_frutas = [0.35, 0.40, 0.25, 0.30, 0.70, 0.55, 0.45, 0.50, 0.75, 0.60, 0.65, 0.20, 0.15, 0.80, 0.75, 0.25, 0.30,0.45,0.55,0.55,0.60,0.40,0.50,0.45]\n",
        "l_precos_frutas"
      ],
      "execution_count": null,
      "outputs": [
        {
          "output_type": "execute_result",
          "data": {
            "text/plain": [
              "[0.35,\n",
              " 0.4,\n",
              " 0.25,\n",
              " 0.3,\n",
              " 0.7,\n",
              " 0.55,\n",
              " 0.45,\n",
              " 0.5,\n",
              " 0.75,\n",
              " 0.6,\n",
              " 0.65,\n",
              " 0.2,\n",
              " 0.15,\n",
              " 0.8,\n",
              " 0.75,\n",
              " 0.25,\n",
              " 0.3,\n",
              " 0.45,\n",
              " 0.55,\n",
              " 0.55,\n",
              " 0.6,\n",
              " 0.4,\n",
              " 0.5,\n",
              " 0.45]"
            ]
          },
          "metadata": {
            "tags": []
          },
          "execution_count": 4
        }
      ]
    },
    {
      "cell_type": "markdown",
      "metadata": {
        "id": "hXP3kxW4-AI1"
      },
      "source": [
        "Observe abaixo o uso das funções dict() e zip() para criarmos o dicionário d_frutas:\r\n",
        "\r\n",
        "> **OBSERVAÇÕES:**\r\n",
        "\r\n",
        "> O Método zip é bastante util para trabalharmos com dicionários\r\n",
        "\r\n",
        "> Dicionários são bastante utilizados quando trabalhamos com dados e seu uso é importante quando vamos fazer tunning(otimização/afinação) de hiperparâmetros(ou seja, podemos colocar os parâmetros que queremos testar, dentro de um dicionário)\r\n",
        "\r\n",
        "> Dicionários são semelhantes a estrutura de dados JSON(arquivos JSON)"
      ]
    },
    {
      "cell_type": "code",
      "metadata": {
        "id": "qT_4sYxA9dyn",
        "colab": {
          "base_uri": "https://localhost:8080/"
        },
        "outputId": "f58eb322-4f2b-4d69-dbc8-463e29409727"
      },
      "source": [
        "# Definir o dicionário d_frutas: estrutura do tipo {chave1: valor1, chave2: valor2, ..., chaveN: valorN} --> JSON\n",
        "d_frutas = dict(zip(l_frutas, l_precos_frutas))\n",
        "d_frutas"
      ],
      "execution_count": null,
      "outputs": [
        {
          "output_type": "execute_result",
          "data": {
            "text/plain": [
              "{'Apple': 0.4,\n",
              " 'Apricot': 0.25,\n",
              " 'Avocado': 0.35,\n",
              " 'Banana': 0.3,\n",
              " 'Blackberry': 0.55,\n",
              " 'Blackcurrant': 0.7,\n",
              " 'Blueberry': 0.45,\n",
              " 'Cherry': 0.5,\n",
              " 'Coconut': 0.75,\n",
              " 'Fig': 0.6,\n",
              " 'Grape': 0.65,\n",
              " 'Kiwi': 0.2,\n",
              " 'Lemon': 0.15,\n",
              " 'Mango': 0.8,\n",
              " 'Nectarine': 0.75,\n",
              " 'Orange': 0.25,\n",
              " 'Papaya': 0.3,\n",
              " 'Passion Fruit': 0.45,\n",
              " 'Peach': 0.55,\n",
              " 'Pineapple': 0.55,\n",
              " 'Plum': 0.6,\n",
              " 'Raspberry': 0.4,\n",
              " 'Strawberry': 0.5,\n",
              " 'Watermelon': 0.45}"
            ]
          },
          "metadata": {
            "tags": []
          },
          "execution_count": 5
        }
      ]
    },
    {
      "cell_type": "markdown",
      "metadata": {
        "id": "iHKUaGNT_IDt"
      },
      "source": [
        "A seguir, resumo dos principais métodos relacionados à dicionários:"
      ]
    },
    {
      "cell_type": "markdown",
      "metadata": {
        "id": "MQLZ1mwW_yiU"
      },
      "source": [
        "| Método                  | Descrição                                                                                          | Exemplo                                  | Resultado                                                                      |\n",
        "|-------------------------|----------------------------------------------------------------------------------------------------|------------------------------------------|--------------------------------------------------------------------------------|\n",
        "| d_dicionario.clear()               | Remove todos os itens de d_dicionario                                                                         | d_frutas.clear()                          | {}                                                                             |\n",
        "| d_dicionario.copy()                | Retorna uma cópia de d_dicionario                                                                             | d_frutas2= d_frutas.copy()                 | d_frutas2 é uma cópia de d_frutas                                                |\n",
        "| d_dicionario.get(key)              | Retorna o valor para key, se key estiver em d_dicionario                                                      | d_frutas.get('Passion Fruit')             | 0.45                                                                           |\n",
        "|                         |                                                                                                    | d_frutas.get('XPTO')                      | O Python não apresenta nenhum retorno                                          |\n",
        "| d_dicionario.items()               | Retorna um objeto com as tuplas (key, valor) de d_dicionario                                                  | d_frutas.items()                          | dict_items([('Avocado', 0.35), ..., ('Watermelon', 0.45)])                     |\n",
        "| d_dicionario.keys()                | Retorna um objeto com as keys de d_dicionario                                                                 | d_frutas.keys()                           | dict_keys(['Avocado', 'Apple', ..., 'Watermelon'])                             |\n",
        "| d_dicionario.values()              | Retorna um objeto com os valores de d_dicionario                                                              | d_frutas.values()                         | dict_values([0.35, 0.4, ..., 0.45])                                            |\n",
        "| d_dicionario.popitem()             | Retorna e remove um item de d_dicionario                                                                      | d_frutas.popitem()                        | ('Watermelon', 0.45)                                                           |\n",
        "|                         |                                                                                                    | 'Watermelon' in d_frutas                  | False                                                                          |\n",
        "| d_dicionario.pop(key[, default])   | Retorna e remove o item de d_dicionario correspondente à key                                                  | d_frutas.pop('Orange')                    | 0.25                                                                           |\n",
        "|                         |                                                                                                    | 'Orange' in d_frutas                      | False                                                                          |\n",
        "| d_dicionario.update(d2)            | Adiciona item(s) à d_dicionario se key não estiver em d_dicionario. Se key estiver em d_dicionario, atualizará key com o novo valor | d_frutas.update({'Cherimoya': 1.3})       | Adicionará o item {'Cherimoya': 1.3} à d_frutas, pois key= 'Cherimoya' não está em d_frutas. |\n",
        "|                         |                                                                                                    | d_frutas.update({'Orange': 0.55})         | Atualiza o valor de key= 'Orange' para 0.55. O valor anterior era 0.25         |\n",
        "| d_dicionario.fromkeys(keys, value) | Retorna um dicionário com keys especificadas e valores                                             | tFruits= ('Avocado', 'Apple', 'Apricot') |                                                                                |\n",
        "|                         |                                                                                                    | d_frutas.fromkeys(tFruits, 0)             | {'Apple': 0, 'Apricot': 0, 'Avocado': 0}                                       |"
      ]
    },
    {
      "cell_type": "markdown",
      "metadata": {
        "id": "uH6cHnctDu2l"
      },
      "source": [
        "A seguir, vamos apresentar **mais alguns exemplos** de dicionários e seus métodos associados:"
      ]
    },
    {
      "cell_type": "markdown",
      "metadata": {
        "id": "YeCPxCab4e4k"
      },
      "source": [
        "___\n",
        "# **EXEMPLO**\n",
        "* Os dias da semana como dicionário."
      ]
    },
    {
      "cell_type": "code",
      "metadata": {
        "id": "N_2J839X4lps",
        "colab": {
          "base_uri": "https://localhost:8080/"
        },
        "outputId": "572c88ce-a849-41f8-8aeb-3d545b599d10"
      },
      "source": [
        "d_dia_semana = {'Seg': 'Segunda', 'Ter': 'Terça', 'Qua': 'Quarta', 'Qui': 'Quinta', 'Sex': 'Sexta', 'Sab': 'Sabado', 'Dom': 'Domingo'}\n",
        "d_dia_semana"
      ],
      "execution_count": null,
      "outputs": [
        {
          "output_type": "execute_result",
          "data": {
            "text/plain": [
              "{'Dom': 'Domingo',\n",
              " 'Qua': 'Quarta',\n",
              " 'Qui': 'Quinta',\n",
              " 'Sab': 'Sabado',\n",
              " 'Seg': 'Segunda',\n",
              " 'Sex': 'Sexta',\n",
              " 'Ter': 'Terça'}"
            ]
          },
          "metadata": {
            "tags": []
          },
          "execution_count": 5
        }
      ]
    },
    {
      "cell_type": "markdown",
      "metadata": {
        "id": "CnZLR-VX6FV4"
      },
      "source": [
        "Observe que:\n",
        "* os itens do dicionário d_dia_semana seguem a estrutura {key: value}.\n"
      ]
    },
    {
      "cell_type": "code",
      "metadata": {
        "id": "eHuvY7BWQKhQ",
        "colab": {
          "base_uri": "https://localhost:8080/",
          "height": 35
        },
        "outputId": "77e003c2-f043-4b5d-97f1-2ef11618783c"
      },
      "source": [
        "d_dia_semana['Seg'] # A chave aqui é 'Seg'   e o valor será 'Segunda'"
      ],
      "execution_count": null,
      "outputs": [
        {
          "output_type": "execute_result",
          "data": {
            "application/vnd.google.colaboratory.intrinsic+json": {
              "type": "string"
            },
            "text/plain": [
              "'Segunda'"
            ]
          },
          "metadata": {
            "tags": []
          },
          "execution_count": 6
        }
      ]
    },
    {
      "cell_type": "markdown",
      "metadata": {
        "id": "j65BxhzGG0NA"
      },
      "source": [
        "___\n",
        "# **DECLARAR OU INICIALIZAR UM DICIONÁRIO VAZIO**"
      ]
    },
    {
      "cell_type": "markdown",
      "metadata": {
        "id": "LEGwQ0U-fKtL"
      },
      "source": [
        "Por exemplo, o comando abaixo declara um dicionário vazio chamado d_paises:"
      ]
    },
    {
      "cell_type": "code",
      "metadata": {
        "id": "2iPWXPBLfOlr",
        "colab": {
          "base_uri": "https://localhost:8080/"
        },
        "outputId": "a2dcacfa-cd7e-4501-c39a-276272e97c60"
      },
      "source": [
        "d_paises = {} # Também podemos usar a função dict() para criar o dicionário vazio da seguinte forma: d_paises= dict()\n",
        "d_paises"
      ],
      "execution_count": null,
      "outputs": [
        {
          "output_type": "execute_result",
          "data": {
            "text/plain": [
              "{}"
            ]
          },
          "metadata": {
            "tags": []
          },
          "execution_count": 7
        }
      ]
    },
    {
      "cell_type": "markdown",
      "metadata": {
        "id": "vCxZv-jmG5y0"
      },
      "source": [
        "___\n",
        "# **OBTER O TIPO DO OBJETO**\n",
        "> type(d_dicionario)"
      ]
    },
    {
      "cell_type": "code",
      "metadata": {
        "id": "voPYpGIGff3o",
        "colab": {
          "base_uri": "https://localhost:8080/"
        },
        "outputId": "01ae1db9-008b-4610-abf4-834f63fc821c"
      },
      "source": [
        "type(d_paises)"
      ],
      "execution_count": null,
      "outputs": [
        {
          "output_type": "execute_result",
          "data": {
            "text/plain": [
              "dict"
            ]
          },
          "metadata": {
            "tags": []
          },
          "execution_count": 8
        }
      ]
    },
    {
      "cell_type": "markdown",
      "metadata": {
        "id": "X3MvCkFiG-UO"
      },
      "source": [
        "___\n",
        "# **ADICIONAR ITENS AO DICIONÁRIO**"
      ]
    },
    {
      "cell_type": "markdown",
      "metadata": {
        "id": "fzP8iG5xfi0H"
      },
      "source": [
        "Adicionar o valor 'Italy' à key = 1. Em outras palavras, estamos a adicionar o item {1: 'Italy'}"
      ]
    },
    {
      "cell_type": "code",
      "metadata": {
        "id": "EXZ7eEZofnza",
        "colab": {
          "base_uri": "https://localhost:8080/"
        },
        "outputId": "1a8076d0-8884-4383-d2aa-7e0056f8accd"
      },
      "source": [
        "d_paises[1] = 'Italy'\n",
        "d_paises"
      ],
      "execution_count": null,
      "outputs": [
        {
          "output_type": "execute_result",
          "data": {
            "text/plain": [
              "{1: 'Italy'}"
            ]
          },
          "metadata": {
            "tags": []
          },
          "execution_count": 9
        }
      ]
    },
    {
      "cell_type": "markdown",
      "metadata": {
        "id": "rH51ORGHHREE"
      },
      "source": [
        "Adicionar o valor 'Denmark' à key= 2. Em outras palavras, estamos a adicionar o item {2: 'Denmark'}"
      ]
    },
    {
      "cell_type": "code",
      "metadata": {
        "id": "GAXSzSiufv1u",
        "colab": {
          "base_uri": "https://localhost:8080/"
        },
        "outputId": "a0f07ada-adcb-4618-ed87-9de8380e1afd"
      },
      "source": [
        "d_paises[2] = 'Denmark'\n",
        "d_paises"
      ],
      "execution_count": null,
      "outputs": [
        {
          "output_type": "execute_result",
          "data": {
            "text/plain": [
              "{1: 'Italy', 2: 'Denmark'}"
            ]
          },
          "metadata": {
            "tags": []
          },
          "execution_count": 10
        }
      ]
    },
    {
      "cell_type": "markdown",
      "metadata": {
        "id": "Xqdc_IYoHVVQ"
      },
      "source": [
        "Adicionar o valor 'Brazil' à key= 3. Em outras palavras, estamos a adicionar o item {3: 'Brazil'}"
      ]
    },
    {
      "cell_type": "code",
      "metadata": {
        "id": "FN7km8C9gAjM",
        "colab": {
          "base_uri": "https://localhost:8080/"
        },
        "outputId": "15fb4f35-6530-4454-ae92-75d072b13d0a"
      },
      "source": [
        "d_paises[3]= 'Brazil'\n",
        "d_paises"
      ],
      "execution_count": null,
      "outputs": [
        {
          "output_type": "execute_result",
          "data": {
            "text/plain": [
              "{1: 'Italy', 2: 'Denmark', 3: 'Brazil'}"
            ]
          },
          "metadata": {
            "tags": []
          },
          "execution_count": 11
        }
      ]
    },
    {
      "cell_type": "markdown",
      "metadata": {
        "id": "iwU8pJKRHapD"
      },
      "source": [
        "___\n",
        "# **ATUALIZAR VALORES DO DICIONÁRIO**"
      ]
    },
    {
      "cell_type": "markdown",
      "metadata": {
        "id": "CxXUV7TugLXn"
      },
      "source": [
        "O que acontece quando eu atribuo à key 3 outro valor, por exemplo, 'France'. Vamos conferir abaixo:"
      ]
    },
    {
      "cell_type": "code",
      "metadata": {
        "id": "Rr6DtJnDgU5I",
        "colab": {
          "base_uri": "https://localhost:8080/"
        },
        "outputId": "aa894a28-5baf-4fd1-ee05-9236d090da8c"
      },
      "source": [
        "# Adicionar o valor 'France' à key= 3\n",
        "d_paises[3]= 'France'\n",
        "d_paises"
      ],
      "execution_count": null,
      "outputs": [
        {
          "output_type": "execute_result",
          "data": {
            "text/plain": [
              "{1: 'Italy', 2: 'Denmark', 3: 'France'}"
            ]
          },
          "metadata": {
            "tags": []
          },
          "execution_count": 12
        }
      ]
    },
    {
      "cell_type": "markdown",
      "metadata": {
        "id": "xB9G1l3_ggo-"
      },
      "source": [
        "Como a key= 3 existe no dicionário d_paises, então o Python substitui o valor anterior 'Brazil' pelo novo valor, 'France'. \n",
        "\n",
        "* Lembre-se, os dicionários são mutáveis!"
      ]
    },
    {
      "cell_type": "markdown",
      "metadata": {
        "id": "T8JBxySZHiOJ"
      },
      "source": [
        "___\n",
        "# **OBTER KEYS DO DICIONÁRIO**"
      ]
    },
    {
      "cell_type": "code",
      "metadata": {
        "id": "FQtAHjJdb0xK",
        "colab": {
          "base_uri": "https://localhost:8080/"
        },
        "outputId": "f7c308d3-eb39-48d2-c570-b22db83cdc9c"
      },
      "source": [
        "d_paises"
      ],
      "execution_count": null,
      "outputs": [
        {
          "output_type": "execute_result",
          "data": {
            "text/plain": [
              "{1: 'Italy', 2: 'Denmark', 3: 'France'}"
            ]
          },
          "metadata": {
            "tags": []
          },
          "execution_count": 13
        }
      ]
    },
    {
      "cell_type": "code",
      "metadata": {
        "id": "ALwbHwi4iwky",
        "colab": {
          "base_uri": "https://localhost:8080/"
        },
        "outputId": "a3cd6c4d-06fa-438b-e7f6-c5d31f429f0b"
      },
      "source": [
        "d_paises.keys()"
      ],
      "execution_count": null,
      "outputs": [
        {
          "output_type": "execute_result",
          "data": {
            "text/plain": [
              "dict_keys([1, 2, 3])"
            ]
          },
          "metadata": {
            "tags": []
          },
          "execution_count": 14
        }
      ]
    },
    {
      "cell_type": "markdown",
      "metadata": {
        "id": "FIvi0Li1Hng5"
      },
      "source": [
        "___\n",
        "# **OBTER VALORES DO DICIONÁRIO**"
      ]
    },
    {
      "cell_type": "code",
      "metadata": {
        "id": "cp0PPtl3jEKo",
        "colab": {
          "base_uri": "https://localhost:8080/"
        },
        "outputId": "fed236ee-0962-4bd8-f6be-b0fbcbc25f86"
      },
      "source": [
        "d_paises.values()"
      ],
      "execution_count": null,
      "outputs": [
        {
          "output_type": "execute_result",
          "data": {
            "text/plain": [
              "dict_values(['Italy', 'Denmark', 'France'])"
            ]
          },
          "metadata": {
            "tags": []
          },
          "execution_count": 15
        }
      ]
    },
    {
      "cell_type": "markdown",
      "metadata": {
        "id": "JUblZBMjHrwl"
      },
      "source": [
        "___\n",
        "# **OBTER ITENS (key, value) DO DICIONÁRIO**"
      ]
    },
    {
      "cell_type": "code",
      "metadata": {
        "id": "LraTwXjdjG3m",
        "colab": {
          "base_uri": "https://localhost:8080/"
        },
        "outputId": "699a21b3-84b0-4e7f-a16b-e886aba0aafa"
      },
      "source": [
        "d_paises.items()"
      ],
      "execution_count": null,
      "outputs": [
        {
          "output_type": "execute_result",
          "data": {
            "text/plain": [
              "dict_items([(1, 'Italy'), (2, 'Denmark'), (3, 'France')])"
            ]
          },
          "metadata": {
            "tags": []
          },
          "execution_count": 16
        }
      ]
    },
    {
      "cell_type": "markdown",
      "metadata": {
        "id": "IJEMg2LKHyGa"
      },
      "source": [
        "___\n",
        "# **OBTER VALOR PARA UMA KEY ESPECÍFICA**\n",
        "* d_dicionario.get(key)"
      ]
    },
    {
      "cell_type": "markdown",
      "metadata": {
        "id": "dzgBhsphjSQm"
      },
      "source": [
        "Qual o valor para key= 1?"
      ]
    },
    {
      "cell_type": "code",
      "metadata": {
        "id": "FUfTjqktjW60",
        "colab": {
          "base_uri": "https://localhost:8080/",
          "height": 35
        },
        "outputId": "7c70c1ee-62e9-44bf-edbe-cac7bfd04629"
      },
      "source": [
        "d_paises.get(1)"
      ],
      "execution_count": null,
      "outputs": [
        {
          "output_type": "execute_result",
          "data": {
            "application/vnd.google.colaboratory.intrinsic+json": {
              "type": "string"
            },
            "text/plain": [
              "'Italy'"
            ]
          },
          "metadata": {
            "tags": []
          },
          "execution_count": 17
        }
      ]
    },
    {
      "cell_type": "markdown",
      "metadata": {
        "id": "tyJ0KsloIBoD"
      },
      "source": [
        "___\n",
        "# **COPIAR DICIONÁRIO**\n",
        "* d_dicionario.copy()"
      ]
    },
    {
      "cell_type": "code",
      "metadata": {
        "id": "XL17EmvMkkky",
        "colab": {
          "base_uri": "https://localhost:8080/"
        },
        "outputId": "3c1c0cd4-e6c4-488b-b7f0-96c893d1d34e"
      },
      "source": [
        "d_paises2 = d_paises.copy()\n",
        "d_paises2"
      ],
      "execution_count": null,
      "outputs": [
        {
          "output_type": "execute_result",
          "data": {
            "text/plain": [
              "{1: 'Italy', 2: 'Denmark', 3: 'France'}"
            ]
          },
          "metadata": {
            "tags": []
          },
          "execution_count": 18
        }
      ]
    },
    {
      "cell_type": "markdown",
      "metadata": {
        "id": "8V25l2ZoIG4B"
      },
      "source": [
        "___\n",
        "# **REMOVER TODOS OS ITENS DO DICIONÁRIO**\n",
        "* d_dicionario.clear()"
      ]
    },
    {
      "cell_type": "code",
      "metadata": {
        "id": "r-8Gs1gYjqLN"
      },
      "source": [
        "d_paises.clear()"
      ],
      "execution_count": null,
      "outputs": []
    },
    {
      "cell_type": "code",
      "metadata": {
        "id": "ro_42gzDjsdV",
        "colab": {
          "base_uri": "https://localhost:8080/"
        },
        "outputId": "39b0bbce-62eb-450d-b854-7c18d67ed368"
      },
      "source": [
        "d_paises"
      ],
      "execution_count": null,
      "outputs": [
        {
          "output_type": "execute_result",
          "data": {
            "text/plain": [
              "{}"
            ]
          },
          "metadata": {
            "tags": []
          },
          "execution_count": 20
        }
      ]
    },
    {
      "cell_type": "markdown",
      "metadata": {
        "id": "pCzKkKoujv7G"
      },
      "source": [
        "Como esperado, removemos todos os itens do dicionário d_paises. Entretanto, o dicionário d_paises continua a existir!"
      ]
    },
    {
      "cell_type": "markdown",
      "metadata": {
        "id": "MKtPwGVsIaLQ"
      },
      "source": [
        "___\n",
        "# **DELETAR O DICIONÁRIO**\n",
        "* del d_dicionario"
      ]
    },
    {
      "cell_type": "code",
      "metadata": {
        "id": "8wvM-o7Lj7A0"
      },
      "source": [
        "del d_paises"
      ],
      "execution_count": null,
      "outputs": []
    },
    {
      "cell_type": "code",
      "metadata": {
        "id": "wK83ZURYkD_T",
        "colab": {
          "base_uri": "https://localhost:8080/",
          "height": 171
        },
        "outputId": "6d1e99d3-866b-43a4-9fda-3ad86d5950f7"
      },
      "source": [
        "d_paises"
      ],
      "execution_count": null,
      "outputs": [
        {
          "output_type": "error",
          "ename": "NameError",
          "evalue": "ignored",
          "traceback": [
            "\u001b[0;31m---------------------------------------------------------------------------\u001b[0m",
            "\u001b[0;31mNameError\u001b[0m                                 Traceback (most recent call last)",
            "\u001b[0;32m<ipython-input-22-e17de82892a8>\u001b[0m in \u001b[0;36m<module>\u001b[0;34m()\u001b[0m\n\u001b[0;32m----> 1\u001b[0;31m \u001b[0md_paises\u001b[0m\u001b[0;34m\u001b[0m\u001b[0;34m\u001b[0m\u001b[0m\n\u001b[0m",
            "\u001b[0;31mNameError\u001b[0m: name 'd_paises' is not defined"
          ]
        }
      ]
    },
    {
      "cell_type": "markdown",
      "metadata": {
        "id": "aSe3veUB1lo_"
      },
      "source": [
        "Como esperado, pois agora o dicionário já não existe mais. Ok?"
      ]
    },
    {
      "cell_type": "markdown",
      "metadata": {
        "id": "STtkGUvEg7d1"
      },
      "source": [
        "___\n",
        "# **ITERAR PELO DICIONÁRIO**\n",
        "* Considere o dicionário d_frutas a seguir:"
      ]
    },
    {
      "cell_type": "code",
      "metadata": {
        "id": "IG8hKSvcfalZ"
      },
      "source": [
        "# Definindo os valores iniciais do dicionário d_frutas:\n",
        "d_frutas = {'Avocado': 0.35, \n",
        "         'Apple': 0.40, \n",
        "         'Apricot': 0.25, \n",
        "         'Banana': 0.30, \n",
        "         'Blackcurrant': 0.70, \n",
        "         'Blackberry': 0.55, \n",
        "         'Blueberry': 0.45, \n",
        "         'Cherry': 0.50, \n",
        "         'Coconut': 0.75, \n",
        "         'Fig': 0.60, \n",
        "         'Grape': 0.65, \n",
        "         'Kiwi': 0.20, \n",
        "         'Lemon': 0.15, \n",
        "         'Mango': 0.80, \n",
        "         'Nectarine': 0.75, \n",
        "         'Orange': 0.25, \n",
        "         'Papaya': 0.30,\n",
        "         'Passion Fruit': 0.45,\n",
        "         'Peach': 0.55,\n",
        "         'Pineapple': 0.55,\n",
        "         'Plum': 0.60,\n",
        "         'Raspberry': 0.40,\n",
        "         'Strawberry': 0.50,\n",
        "         'Watermelon': 0.45}"
      ],
      "execution_count": null,
      "outputs": []
    },
    {
      "cell_type": "markdown",
      "metadata": {
        "id": "ppRkK_jJJG6W"
      },
      "source": [
        "Mostrando os itens do dicionário d_frutas:"
      ]
    },
    {
      "cell_type": "code",
      "metadata": {
        "id": "bI7Ctf0ohyz8",
        "colab": {
          "base_uri": "https://localhost:8080/"
        },
        "outputId": "1c62965d-f8f4-485f-b139-5815d9283eb1"
      },
      "source": [
        "d_frutas"
      ],
      "execution_count": null,
      "outputs": [
        {
          "output_type": "execute_result",
          "data": {
            "text/plain": [
              "{'Apple': 0.4,\n",
              " 'Apricot': 0.25,\n",
              " 'Avocado': 0.35,\n",
              " 'Banana': 0.3,\n",
              " 'Blackberry': 0.55,\n",
              " 'Blackcurrant': 0.7,\n",
              " 'Blueberry': 0.45,\n",
              " 'Cherry': 0.5,\n",
              " 'Coconut': 0.75,\n",
              " 'Fig': 0.6,\n",
              " 'Grape': 0.65,\n",
              " 'Kiwi': 0.2,\n",
              " 'Lemon': 0.15,\n",
              " 'Mango': 0.8,\n",
              " 'Nectarine': 0.75,\n",
              " 'Orange': 0.25,\n",
              " 'Papaya': 0.3,\n",
              " 'Passion Fruit': 0.45,\n",
              " 'Peach': 0.55,\n",
              " 'Pineapple': 0.55,\n",
              " 'Plum': 0.6,\n",
              " 'Raspberry': 0.4,\n",
              " 'Strawberry': 0.5,\n",
              " 'Watermelon': 0.45}"
            ]
          },
          "metadata": {
            "tags": []
          },
          "execution_count": 24
        }
      ]
    },
    {
      "cell_type": "markdown",
      "metadata": {
        "id": "wXFfyiyPtD35"
      },
      "source": [
        "Qual o valor para a fruta 'Apple'? Para responder à esta pergunta, basta lembrar que 'Apple' é uma key do dicionário d_frutas. Certo?"
      ]
    },
    {
      "cell_type": "code",
      "metadata": {
        "id": "JpreyE_LtCcU",
        "colab": {
          "base_uri": "https://localhost:8080/"
        },
        "outputId": "9341541c-3ab0-4be0-96a5-ca3174a944e1"
      },
      "source": [
        "d_frutas['Apple']"
      ],
      "execution_count": null,
      "outputs": [
        {
          "output_type": "execute_result",
          "data": {
            "text/plain": [
              "0.4"
            ]
          },
          "metadata": {
            "tags": []
          },
          "execution_count": 25
        }
      ]
    },
    {
      "cell_type": "code",
      "metadata": {
        "id": "RMWau2TOclHr",
        "colab": {
          "base_uri": "https://localhost:8080/",
          "height": 171
        },
        "outputId": "06a2411a-07fe-4773-9122-690d8056fa22"
      },
      "source": [
        "d_frutas['blablabla'] # Isso significa que 'blablabla' não faz parte do dicionário!"
      ],
      "execution_count": null,
      "outputs": [
        {
          "output_type": "error",
          "ename": "KeyError",
          "evalue": "ignored",
          "traceback": [
            "\u001b[0;31m---------------------------------------------------------------------------\u001b[0m",
            "\u001b[0;31mKeyError\u001b[0m                                  Traceback (most recent call last)",
            "\u001b[0;32m<ipython-input-26-5a80a61687f8>\u001b[0m in \u001b[0;36m<module>\u001b[0;34m()\u001b[0m\n\u001b[0;32m----> 1\u001b[0;31m \u001b[0md_frutas\u001b[0m\u001b[0;34m[\u001b[0m\u001b[0;34m'blablabla'\u001b[0m\u001b[0;34m]\u001b[0m \u001b[0;31m# Isso significa que 'blablabla' não faz parte do dicionário!\u001b[0m\u001b[0;34m\u001b[0m\u001b[0;34m\u001b[0m\u001b[0m\n\u001b[0m",
            "\u001b[0;31mKeyError\u001b[0m: 'blablabla'"
          ]
        }
      ]
    },
    {
      "cell_type": "markdown",
      "metadata": {
        "id": "JBMf8SbAJmiq"
      },
      "source": [
        "## Iterar pelas keys do dicionário:"
      ]
    },
    {
      "cell_type": "code",
      "metadata": {
        "id": "i-6-pNQCcyXY",
        "colab": {
          "base_uri": "https://localhost:8080/"
        },
        "outputId": "ebcbe240-0775-4818-eabb-790be89c049d"
      },
      "source": [
        "for chave in d_frutas.keys():\n",
        "    print(chave)"
      ],
      "execution_count": null,
      "outputs": [
        {
          "output_type": "stream",
          "text": [
            "Avocado\n",
            "Apple\n",
            "Apricot\n",
            "Banana\n",
            "Blackcurrant\n",
            "Blackberry\n",
            "Blueberry\n",
            "Cherry\n",
            "Coconut\n",
            "Fig\n",
            "Grape\n",
            "Kiwi\n",
            "Lemon\n",
            "Mango\n",
            "Nectarine\n",
            "Orange\n",
            "Papaya\n",
            "Passion Fruit\n",
            "Peach\n",
            "Pineapple\n",
            "Plum\n",
            "Raspberry\n",
            "Strawberry\n",
            "Watermelon\n"
          ],
          "name": "stdout"
        }
      ]
    },
    {
      "cell_type": "markdown",
      "metadata": {
        "id": "9u4xJ0FfdCxm"
      },
      "source": [
        "## Iterar pelos valores do dicionário:"
      ]
    },
    {
      "cell_type": "code",
      "metadata": {
        "id": "vrFPwQPDdFP3",
        "colab": {
          "base_uri": "https://localhost:8080/"
        },
        "outputId": "e971028a-28b5-4c2a-e98c-15dc45f85051"
      },
      "source": [
        "for i_valor in d_frutas.values():\n",
        "    print(i_valor)"
      ],
      "execution_count": null,
      "outputs": [
        {
          "output_type": "stream",
          "text": [
            "0.35\n",
            "0.4\n",
            "0.25\n",
            "0.3\n",
            "0.7\n",
            "0.55\n",
            "0.45\n",
            "0.5\n",
            "0.75\n",
            "0.6\n",
            "0.65\n",
            "0.2\n",
            "0.15\n",
            "0.8\n",
            "0.75\n",
            "0.25\n",
            "0.3\n",
            "0.45\n",
            "0.55\n",
            "0.55\n",
            "0.6\n",
            "0.4\n",
            "0.5\n",
            "0.45\n"
          ],
          "name": "stdout"
        }
      ]
    },
    {
      "cell_type": "markdown",
      "metadata": {
        "id": "yDkOLvRFJxco"
      },
      "source": [
        "## Iterar pelos itens (chave, valor) do dicionário"
      ]
    },
    {
      "cell_type": "code",
      "metadata": {
        "id": "H8BCC6qodU6o",
        "colab": {
          "base_uri": "https://localhost:8080/"
        },
        "outputId": "9744058d-976e-4309-d878-679af58013aa"
      },
      "source": [
        "d_frutas.items()"
      ],
      "execution_count": null,
      "outputs": [
        {
          "output_type": "execute_result",
          "data": {
            "text/plain": [
              "dict_items([('Avocado', 0.35), ('Apple', 0.4), ('Apricot', 0.25), ('Banana', 0.3), ('Blackcurrant', 0.7), ('Blackberry', 0.55), ('Blueberry', 0.45), ('Cherry', 0.5), ('Coconut', 0.75), ('Fig', 0.6), ('Grape', 0.65), ('Kiwi', 0.2), ('Lemon', 0.15), ('Mango', 0.8), ('Nectarine', 0.75), ('Orange', 0.25), ('Papaya', 0.3), ('Passion Fruit', 0.45), ('Peach', 0.55), ('Pineapple', 0.55), ('Plum', 0.6), ('Raspberry', 0.4), ('Strawberry', 0.5), ('Watermelon', 0.45)])"
            ]
          },
          "metadata": {
            "tags": []
          },
          "execution_count": 24
        }
      ]
    },
    {
      "cell_type": "code",
      "metadata": {
        "colab": {
          "base_uri": "https://localhost:8080/"
        },
        "id": "2bkno0K8WyJH",
        "outputId": "344e522c-039d-4588-a2c4-8a6449596e61"
      },
      "source": [
        "type(d_frutas.items())"
      ],
      "execution_count": null,
      "outputs": [
        {
          "output_type": "execute_result",
          "data": {
            "text/plain": [
              "dict_items"
            ]
          },
          "metadata": {
            "tags": []
          },
          "execution_count": 29
        }
      ]
    },
    {
      "cell_type": "code",
      "metadata": {
        "id": "DpFB1g-3kDSt",
        "colab": {
          "base_uri": "https://localhost:8080/"
        },
        "outputId": "c49c96b2-b1b0-4a6f-860f-1814da50b833"
      },
      "source": [
        "for item in d_frutas.items():\n",
        "    print(item)    "
      ],
      "execution_count": null,
      "outputs": [
        {
          "output_type": "stream",
          "text": [
            "('Avocado', 0.35)\n",
            "('Apple', 0.4)\n",
            "('Apricot', 0.25)\n",
            "('Banana', 0.3)\n",
            "('Blackcurrant', 0.7)\n",
            "('Blackberry', 0.55)\n",
            "('Blueberry', 0.45)\n",
            "('Cherry', 0.5)\n",
            "('Coconut', 0.75)\n",
            "('Fig', 0.6)\n",
            "('Grape', 0.65)\n",
            "('Kiwi', 0.2)\n",
            "('Lemon', 0.15)\n",
            "('Mango', 0.8)\n",
            "('Nectarine', 0.75)\n",
            "('Orange', 0.25)\n",
            "('Papaya', 0.3)\n",
            "('Passion Fruit', 0.45)\n",
            "('Peach', 0.55)\n",
            "('Pineapple', 0.55)\n",
            "('Plum', 0.6)\n",
            "('Raspberry', 0.4)\n",
            "('Strawberry', 0.5)\n",
            "('Watermelon', 0.45)\n"
          ],
          "name": "stdout"
        }
      ]
    },
    {
      "cell_type": "markdown",
      "metadata": {
        "id": "-LmEUroVKDUA"
      },
      "source": [
        "## Iterar pela key e valor do dicionário"
      ]
    },
    {
      "cell_type": "code",
      "metadata": {
        "id": "oRhZ_Zq9oQIg",
        "colab": {
          "base_uri": "https://localhost:8080/"
        },
        "outputId": "fdf41724-5e5b-4165-e41c-02aacdc4e681"
      },
      "source": [
        "for key, value in d_frutas.items():\n",
        "    print(\"%s --> %s\" %(key, value))"
      ],
      "execution_count": null,
      "outputs": [
        {
          "output_type": "stream",
          "text": [
            "Avocado --> 0.35\n",
            "Apple --> 0.4\n",
            "Apricot --> 0.25\n",
            "Banana --> 0.3\n",
            "Blackcurrant --> 0.7\n",
            "Blackberry --> 0.55\n",
            "Blueberry --> 0.45\n",
            "Cherry --> 0.5\n",
            "Coconut --> 0.75\n",
            "Fig --> 0.6\n",
            "Grape --> 0.65\n",
            "Kiwi --> 0.2\n",
            "Lemon --> 0.15\n",
            "Mango --> 0.8\n",
            "Nectarine --> 0.75\n",
            "Orange --> 0.25\n",
            "Papaya --> 0.3\n",
            "Passion Fruit --> 0.45\n",
            "Peach --> 0.55\n",
            "Pineapple --> 0.55\n",
            "Plum --> 0.6\n",
            "Raspberry --> 0.4\n",
            "Strawberry --> 0.5\n",
            "Watermelon --> 0.45\n"
          ],
          "name": "stdout"
        }
      ]
    },
    {
      "cell_type": "markdown",
      "metadata": {
        "id": "Fotx7XUquAo8"
      },
      "source": [
        "___\n",
        "# **VERIFICAR SE UMA KEY ESPECÍFICA PERTENCE AO DICIONÁRIO**"
      ]
    },
    {
      "cell_type": "markdown",
      "metadata": {
        "id": "ju__WsSoKXtk"
      },
      "source": [
        "A fruta 'Apple' (que em nosso caso, é uma key) existe no dicionário?"
      ]
    },
    {
      "cell_type": "code",
      "metadata": {
        "id": "-gkEKNZPTeMp",
        "colab": {
          "base_uri": "https://localhost:8080/"
        },
        "outputId": "5e4c698b-0a25-4a5b-f1e6-5f3171f2db0d"
      },
      "source": [
        "'Apple' in d_frutas.keys()"
      ],
      "execution_count": null,
      "outputs": [
        {
          "output_type": "execute_result",
          "data": {
            "text/plain": [
              "True"
            ]
          },
          "metadata": {
            "tags": []
          },
          "execution_count": 36
        }
      ]
    },
    {
      "cell_type": "markdown",
      "metadata": {
        "id": "fMzBeFMIusv7"
      },
      "source": [
        "A fruta 'Coconut' pertence ao dicionário d_frutas?"
      ]
    },
    {
      "cell_type": "code",
      "metadata": {
        "id": "SKtEwmBCuxyi",
        "colab": {
          "base_uri": "https://localhost:8080/"
        },
        "outputId": "2b663978-62e6-4fa2-d86a-8ae6a0fcd815"
      },
      "source": [
        "'Coconut' in d_frutas.keys()"
      ],
      "execution_count": null,
      "outputs": [
        {
          "output_type": "execute_result",
          "data": {
            "text/plain": [
              "True"
            ]
          },
          "metadata": {
            "tags": []
          },
          "execution_count": 37
        }
      ]
    },
    {
      "cell_type": "markdown",
      "metadata": {
        "id": "rrH8ArqsK6Bd"
      },
      "source": [
        "___\n",
        "# **VERIFICAR SE VALOR PERTENCE AO DICIONÁRIO**"
      ]
    },
    {
      "cell_type": "code",
      "metadata": {
        "id": "DbWpbuLTK9sn",
        "colab": {
          "base_uri": "https://localhost:8080/"
        },
        "outputId": "e213db9a-c13c-4e8d-87e0-edd0260a3c74"
      },
      "source": [
        "0.4 in d_frutas.values()"
      ],
      "execution_count": null,
      "outputs": [
        {
          "output_type": "execute_result",
          "data": {
            "text/plain": [
              "True"
            ]
          },
          "metadata": {
            "tags": []
          },
          "execution_count": 38
        }
      ]
    },
    {
      "cell_type": "markdown",
      "metadata": {
        "id": "36kmLUYDvsUI"
      },
      "source": [
        "## Adicionar novos itens ao dicionário\n",
        "* Considere o dicionário d_frutas2 abaixo:"
      ]
    },
    {
      "cell_type": "code",
      "metadata": {
        "id": "5Rwq4-UG4--u",
        "colab": {
          "base_uri": "https://localhost:8080/"
        },
        "outputId": "c0a487f7-43fe-4137-ffe4-6fd0bd688fb2"
      },
      "source": [
        "d_frutas2 = {'Grapefruit': 1.0}\n",
        "d_frutas2"
      ],
      "execution_count": null,
      "outputs": [
        {
          "output_type": "execute_result",
          "data": {
            "text/plain": [
              "{'Grapefruit': 1.0}"
            ]
          },
          "metadata": {
            "tags": []
          },
          "execution_count": 39
        }
      ]
    },
    {
      "cell_type": "markdown",
      "metadata": {
        "id": "vljceM6_5H9o"
      },
      "source": [
        "O comando abaixo adiciona o dicionário d_frutas2 ao dicionário d_frutas."
      ]
    },
    {
      "cell_type": "code",
      "metadata": {
        "id": "7BD_mYMM5O5o",
        "colab": {
          "base_uri": "https://localhost:8080/"
        },
        "outputId": "eac57a80-d2cb-4a8c-d028-1b830fe1373d"
      },
      "source": [
        "d_frutas.update(d_frutas2)\n",
        "d_frutas"
      ],
      "execution_count": null,
      "outputs": [
        {
          "output_type": "execute_result",
          "data": {
            "text/plain": [
              "{'Apple': 0.4,\n",
              " 'Apricot': 0.25,\n",
              " 'Avocado': 0.35,\n",
              " 'Banana': 0.3,\n",
              " 'Blackberry': 0.55,\n",
              " 'Blackcurrant': 0.7,\n",
              " 'Blueberry': 0.45,\n",
              " 'Cherry': 0.5,\n",
              " 'Coconut': 0.75,\n",
              " 'Fig': 0.6,\n",
              " 'Grape': 0.65,\n",
              " 'Grapefruit': 1.0,\n",
              " 'Kiwi': 0.2,\n",
              " 'Lemon': 0.15,\n",
              " 'Mango': 0.8,\n",
              " 'Nectarine': 0.75,\n",
              " 'Orange': 0.25,\n",
              " 'Papaya': 0.3,\n",
              " 'Passion Fruit': 0.45,\n",
              " 'Peach': 0.55,\n",
              " 'Pineapple': 0.55,\n",
              " 'Plum': 0.6,\n",
              " 'Raspberry': 0.4,\n",
              " 'Strawberry': 0.5,\n",
              " 'Watermelon': 0.45}"
            ]
          },
          "metadata": {
            "tags": []
          },
          "execution_count": 40
        }
      ]
    },
    {
      "cell_type": "markdown",
      "metadata": {
        "id": "ffh-94lo55n4"
      },
      "source": [
        "Agora, considere o dicionário d_frutas3 abaixo:"
      ]
    },
    {
      "cell_type": "code",
      "metadata": {
        "id": "JMAq_jbP5---"
      },
      "source": [
        "d_frutas3 = {'Apple': 0.70}"
      ],
      "execution_count": null,
      "outputs": []
    },
    {
      "cell_type": "markdown",
      "metadata": {
        "id": "Jd6B2cy-6KmY"
      },
      "source": [
        "Qual o resultado do comando abaixo?\n",
        "\n",
        "* Atenção: A fruta 'Apple' (é uma key do dicionário d_frutas) tem valor 0.40. E no dicionário d_frutas3 a fruta 'Apple' tem valor 0.70."
      ]
    },
    {
      "cell_type": "code",
      "metadata": {
        "id": "E4GKdTw76PXI",
        "colab": {
          "base_uri": "https://localhost:8080/"
        },
        "outputId": "de4cac77-5468-40e5-81b4-8fcbf8a960fe"
      },
      "source": [
        "d_frutas.update(d_frutas3)\n",
        "d_frutas"
      ],
      "execution_count": null,
      "outputs": [
        {
          "output_type": "execute_result",
          "data": {
            "text/plain": [
              "{'Apple': 0.7,\n",
              " 'Apricot': 0.25,\n",
              " 'Avocado': 0.35,\n",
              " 'Banana': 0.3,\n",
              " 'Blackberry': 0.55,\n",
              " 'Blackcurrant': 0.7,\n",
              " 'Blueberry': 0.45,\n",
              " 'Cherry': 0.5,\n",
              " 'Coconut': 0.75,\n",
              " 'Fig': 0.6,\n",
              " 'Grape': 0.65,\n",
              " 'Grapefruit': 1.0,\n",
              " 'Kiwi': 0.2,\n",
              " 'Lemon': 0.15,\n",
              " 'Mango': 0.8,\n",
              " 'Nectarine': 0.75,\n",
              " 'Orange': 0.25,\n",
              " 'Papaya': 0.3,\n",
              " 'Passion Fruit': 0.45,\n",
              " 'Peach': 0.55,\n",
              " 'Pineapple': 0.55,\n",
              " 'Plum': 0.6,\n",
              " 'Raspberry': 0.4,\n",
              " 'Strawberry': 0.5,\n",
              " 'Watermelon': 0.45}"
            ]
          },
          "metadata": {
            "tags": []
          },
          "execution_count": 42
        }
      ]
    },
    {
      "cell_type": "markdown",
      "metadata": {
        "id": "HMmDfrln6o0c"
      },
      "source": [
        "Como esperado, como key= 'Apple' existe no dicionário d_frutas, então o Python atualizou o valor de key= 'Apple' para 0.70."
      ]
    },
    {
      "cell_type": "markdown",
      "metadata": {
        "id": "SWO2GdNovxAp"
      },
      "source": [
        "## Modificar keys e valores"
      ]
    },
    {
      "cell_type": "markdown",
      "metadata": {
        "id": "DX9UTy4TwlAw"
      },
      "source": [
        "Suponha que queremos aplicar um desconto de 10% para cada fruta do nosso dicionário.\n",
        "\n",
        "* Como fazemos isso?"
      ]
    },
    {
      "cell_type": "code",
      "metadata": {
        "id": "RV-YOkrffa3h",
        "colab": {
          "base_uri": "https://localhost:8080/"
        },
        "outputId": "add01927-a43e-4fc3-d72a-c128b2a4f82c"
      },
      "source": [
        "d_frutas.keys()"
      ],
      "execution_count": null,
      "outputs": [
        {
          "output_type": "execute_result",
          "data": {
            "text/plain": [
              "dict_keys(['Avocado', 'Apple', 'Apricot', 'Banana', 'Blackcurrant', 'Blackberry', 'Blueberry', 'Cherry', 'Coconut', 'Fig', 'Grape', 'Kiwi', 'Lemon', 'Mango', 'Nectarine', 'Orange', 'Papaya', 'Passion Fruit', 'Peach', 'Pineapple', 'Plum', 'Raspberry', 'Strawberry', 'Watermelon', 'Grapefruit'])"
            ]
          },
          "metadata": {
            "tags": []
          },
          "execution_count": 43
        }
      ]
    },
    {
      "cell_type": "code",
      "metadata": {
        "id": "tV8k5w2Bf1Oq",
        "colab": {
          "base_uri": "https://localhost:8080/"
        },
        "outputId": "68d17fcb-e37e-49a6-d2aa-9fa3ff59bd78"
      },
      "source": [
        "d_frutas.items()"
      ],
      "execution_count": null,
      "outputs": [
        {
          "output_type": "execute_result",
          "data": {
            "text/plain": [
              "dict_items([('Avocado', 0.35), ('Apple', 0.7), ('Apricot', 0.25), ('Banana', 0.3), ('Blackcurrant', 0.7), ('Blackberry', 0.55), ('Blueberry', 0.45), ('Cherry', 0.5), ('Coconut', 0.75), ('Fig', 0.6), ('Grape', 0.65), ('Kiwi', 0.2), ('Lemon', 0.15), ('Mango', 0.8), ('Nectarine', 0.75), ('Orange', 0.25), ('Papaya', 0.3), ('Passion Fruit', 0.45), ('Peach', 0.55), ('Pineapple', 0.55), ('Plum', 0.6), ('Raspberry', 0.4), ('Strawberry', 0.5), ('Watermelon', 0.45), ('Grapefruit', 1.0)])"
            ]
          },
          "metadata": {
            "tags": []
          },
          "execution_count": 44
        }
      ]
    },
    {
      "cell_type": "code",
      "metadata": {
        "id": "ZziGmKGmwqwn",
        "colab": {
          "base_uri": "https://localhost:8080/"
        },
        "outputId": "91065f18-2ebf-4f82-fdfd-7d5ee6470740"
      },
      "source": [
        "for key, value in d_frutas.items():\n",
        "    d_frutas[key] = round((value * 0.9), 2) # Isso representa um desconto de 10% no valor das frutas\n",
        "\n",
        "d_frutas"
      ],
      "execution_count": null,
      "outputs": [
        {
          "output_type": "execute_result",
          "data": {
            "text/plain": [
              "{'Apple': 0.57,\n",
              " 'Apricot': 0.21,\n",
              " 'Avocado': 0.29,\n",
              " 'Banana': 0.24,\n",
              " 'Blackberry': 0.45,\n",
              " 'Blackcurrant': 0.57,\n",
              " 'Blueberry': 0.37,\n",
              " 'Cherry': 0.41,\n",
              " 'Coconut': 0.61,\n",
              " 'Fig': 0.49,\n",
              " 'Grape': 0.53,\n",
              " 'Grapefruit': 0.81,\n",
              " 'Kiwi': 0.16,\n",
              " 'Lemon': 0.13,\n",
              " 'Mango': 0.65,\n",
              " 'Nectarine': 0.61,\n",
              " 'Orange': 0.21,\n",
              " 'Papaya': 0.24,\n",
              " 'Passion Fruit': 0.37,\n",
              " 'Peach': 0.45,\n",
              " 'Pineapple': 0.45,\n",
              " 'Plum': 0.49,\n",
              " 'Raspberry': 0.32,\n",
              " 'Strawberry': 0.41,\n",
              " 'Watermelon': 0.37}"
            ]
          },
          "metadata": {
            "tags": []
          },
          "execution_count": 47
        }
      ]
    },
    {
      "cell_type": "markdown",
      "metadata": {
        "id": "s1B-yN8lM-C1"
      },
      "source": [
        "Mostra d_frutas com os valores atualizados:"
      ]
    },
    {
      "cell_type": "code",
      "metadata": {
        "id": "zZLa85knxBtY",
        "colab": {
          "base_uri": "https://localhost:8080/"
        },
        "outputId": "5f907299-0a99-4c55-a114-e46fe14bd35d"
      },
      "source": [
        "d_frutas"
      ],
      "execution_count": null,
      "outputs": [
        {
          "output_type": "execute_result",
          "data": {
            "text/plain": [
              "{'Apple': 0.63,\n",
              " 'Apricot': 0.23,\n",
              " 'Avocado': 0.32,\n",
              " 'Banana': 0.27,\n",
              " 'Blackberry': 0.5,\n",
              " 'Blackcurrant': 0.63,\n",
              " 'Blueberry': 0.41,\n",
              " 'Cherry': 0.45,\n",
              " 'Coconut': 0.68,\n",
              " 'Fig': 0.54,\n",
              " 'Grape': 0.59,\n",
              " 'Grapefruit': 0.9,\n",
              " 'Kiwi': 0.18,\n",
              " 'Lemon': 0.14,\n",
              " 'Mango': 0.72,\n",
              " 'Nectarine': 0.68,\n",
              " 'Orange': 0.23,\n",
              " 'Papaya': 0.27,\n",
              " 'Passion Fruit': 0.41,\n",
              " 'Peach': 0.5,\n",
              " 'Pineapple': 0.5,\n",
              " 'Plum': 0.54,\n",
              " 'Raspberry': 0.36,\n",
              " 'Strawberry': 0.45,\n",
              " 'Watermelon': 0.41}"
            ]
          },
          "metadata": {
            "tags": []
          },
          "execution_count": 46
        }
      ]
    },
    {
      "cell_type": "markdown",
      "metadata": {
        "id": "vpN54l4vxze5"
      },
      "source": [
        "## Deletar keys do dicionário\n",
        "* Deletar uma key significa deletar todo o item {key: value}, ok?"
      ]
    },
    {
      "cell_type": "markdown",
      "metadata": {
        "id": "eDlthLStNIwR"
      },
      "source": [
        "Suponha que queremos deletar a fruta 'Avocado' do dicionário d_frutas.\n",
        "\n",
        "* Como fazer isso?"
      ]
    },
    {
      "cell_type": "code",
      "metadata": {
        "id": "fnpzHZU_x5Y1"
      },
      "source": [
        "for key in list(d_frutas.keys()):  # Dica: use a função list para melhorar a performance computacional\n",
        "    if key == 'Avocado':\n",
        "        del d_frutas[key]  # Deleta key = 'Avocado'"
      ],
      "execution_count": null,
      "outputs": []
    },
    {
      "cell_type": "markdown",
      "metadata": {
        "id": "VyPUrobONqvI"
      },
      "source": [
        "Mostra o dicionário d_frutas atualizado:"
      ]
    },
    {
      "cell_type": "code",
      "metadata": {
        "id": "IwnsHejhyT4l",
        "colab": {
          "base_uri": "https://localhost:8080/"
        },
        "outputId": "cc259b74-df1c-4d94-e904-b8f7d0c23fc5"
      },
      "source": [
        "d_frutas"
      ],
      "execution_count": null,
      "outputs": [
        {
          "output_type": "execute_result",
          "data": {
            "text/plain": [
              "{'Apple': 0.57,\n",
              " 'Apricot': 0.21,\n",
              " 'Banana': 0.24,\n",
              " 'Blackberry': 0.45,\n",
              " 'Blackcurrant': 0.57,\n",
              " 'Blueberry': 0.37,\n",
              " 'Cherry': 0.41,\n",
              " 'Coconut': 0.61,\n",
              " 'Fig': 0.49,\n",
              " 'Grape': 0.53,\n",
              " 'Grapefruit': 0.81,\n",
              " 'Kiwi': 0.16,\n",
              " 'Lemon': 0.13,\n",
              " 'Mango': 0.65,\n",
              " 'Nectarine': 0.61,\n",
              " 'Orange': 0.21,\n",
              " 'Papaya': 0.24,\n",
              " 'Passion Fruit': 0.37,\n",
              " 'Peach': 0.45,\n",
              " 'Pineapple': 0.45,\n",
              " 'Plum': 0.49,\n",
              " 'Raspberry': 0.32,\n",
              " 'Strawberry': 0.41,\n",
              " 'Watermelon': 0.37}"
            ]
          },
          "metadata": {
            "tags": []
          },
          "execution_count": 49
        }
      ]
    },
    {
      "cell_type": "markdown",
      "metadata": {
        "id": "u4HOf9SNytSq"
      },
      "source": [
        "## Filtrar/Selecionar itens baseado em condições\n",
        "Em algumas situações você vai querer filtrar os itens do dicionário que satisfaçam alguma(s) condições.\n",
        "\n",
        "* Considere o exemplo a seguir: queremos selecionar/filtrar somente as frutas com preços maiores que 0.5."
      ]
    },
    {
      "cell_type": "code",
      "metadata": {
        "id": "EwqxWiVlyvgH"
      },
      "source": [
        "d_frutas_filtro = {}\n",
        "\n",
        "for key, value in d_frutas.items():\n",
        "    if value > 0.5:\n",
        "        d_frutas_filtro.update({key: value})"
      ],
      "execution_count": null,
      "outputs": []
    },
    {
      "cell_type": "markdown",
      "metadata": {
        "id": "eb0jmAKWOtYt"
      },
      "source": [
        "Mostrar o conteúdo do dicionário d_frutas_filtro:"
      ]
    },
    {
      "cell_type": "code",
      "metadata": {
        "id": "SsStWM5k1s-Q",
        "colab": {
          "base_uri": "https://localhost:8080/"
        },
        "outputId": "bed26f47-d519-4b69-cd90-b1b6cdc0b83f"
      },
      "source": [
        "d_frutas_filtro"
      ],
      "execution_count": null,
      "outputs": [
        {
          "output_type": "execute_result",
          "data": {
            "text/plain": [
              "{'Apple': 0.57,\n",
              " 'Blackcurrant': 0.57,\n",
              " 'Coconut': 0.61,\n",
              " 'Grape': 0.53,\n",
              " 'Grapefruit': 0.81,\n",
              " 'Mango': 0.65,\n",
              " 'Nectarine': 0.61}"
            ]
          },
          "metadata": {
            "tags": []
          },
          "execution_count": 51
        }
      ]
    },
    {
      "cell_type": "markdown",
      "metadata": {
        "id": "u1ve6xIGOjrE"
      },
      "source": [
        " Como se pode ver, temos várias frutas com preços acima de 0.5 (satisfaz a condição)."
      ]
    },
    {
      "cell_type": "markdown",
      "metadata": {
        "id": "KJqpPrfkCk9L"
      },
      "source": [
        "## Cálculos com os itens do dicionário"
      ]
    },
    {
      "cell_type": "code",
      "metadata": {
        "id": "exD8HXodCqg6"
      },
      "source": [
        "from collections import Counter"
      ],
      "execution_count": null,
      "outputs": []
    },
    {
      "cell_type": "markdown",
      "metadata": {
        "id": "llCLTysdCuwB"
      },
      "source": [
        "Somando os valores de todas as frutas"
      ]
    },
    {
      "cell_type": "code",
      "metadata": {
        "id": "uG0VP1MNCroX",
        "colab": {
          "base_uri": "https://localhost:8080/"
        },
        "outputId": "abefc43c-9e96-430e-f1a7-8021fee92758"
      },
      "source": [
        "sum(d_frutas.values())"
      ],
      "execution_count": null,
      "outputs": [
        {
          "output_type": "execute_result",
          "data": {
            "text/plain": [
              "10.120000000000001"
            ]
          },
          "metadata": {
            "tags": []
          },
          "execution_count": 53
        }
      ]
    },
    {
      "cell_type": "markdown",
      "metadata": {
        "id": "a5MBNCF-C5-4"
      },
      "source": [
        "Quantos itens existem no dicionário:"
      ]
    },
    {
      "cell_type": "code",
      "metadata": {
        "id": "AkvygR0PC9bT",
        "colab": {
          "base_uri": "https://localhost:8080/"
        },
        "outputId": "baf3eb58-1574-4742-e3bc-ec3cc6a25be4"
      },
      "source": [
        "len(list(d_frutas))"
      ],
      "execution_count": null,
      "outputs": [
        {
          "output_type": "execute_result",
          "data": {
            "text/plain": [
              "24"
            ]
          },
          "metadata": {
            "tags": []
          },
          "execution_count": 54
        }
      ]
    },
    {
      "cell_type": "markdown",
      "metadata": {
        "id": "xBNFaklq8OC9"
      },
      "source": [
        "## Sortear itens do dicionário - sorted(d_dicionario.items(), reverse= True/False)"
      ]
    },
    {
      "cell_type": "markdown",
      "metadata": {
        "id": "WULJMjHA-mal"
      },
      "source": [
        "Ordem alfabética (por key):"
      ]
    },
    {
      "cell_type": "code",
      "metadata": {
        "id": "SH0WIKZ8-Ylr",
        "colab": {
          "base_uri": "https://localhost:8080/"
        },
        "outputId": "5b107095-8def-4952-a8e2-6279f7535293"
      },
      "source": [
        "d_frutas_ordenadas = sorted(d_frutas.items(), reverse = False)\n",
        "d_frutas_ordenadas"
      ],
      "execution_count": null,
      "outputs": [
        {
          "output_type": "execute_result",
          "data": {
            "text/plain": [
              "[('Apple', 0.57),\n",
              " ('Apricot', 0.21),\n",
              " ('Banana', 0.24),\n",
              " ('Blackberry', 0.45),\n",
              " ('Blackcurrant', 0.57),\n",
              " ('Blueberry', 0.37),\n",
              " ('Cherry', 0.41),\n",
              " ('Coconut', 0.61),\n",
              " ('Fig', 0.49),\n",
              " ('Grape', 0.53),\n",
              " ('Grapefruit', 0.81),\n",
              " ('Kiwi', 0.16),\n",
              " ('Lemon', 0.13),\n",
              " ('Mango', 0.65),\n",
              " ('Nectarine', 0.61),\n",
              " ('Orange', 0.21),\n",
              " ('Papaya', 0.24),\n",
              " ('Passion Fruit', 0.37),\n",
              " ('Peach', 0.45),\n",
              " ('Pineapple', 0.45),\n",
              " ('Plum', 0.49),\n",
              " ('Raspberry', 0.32),\n",
              " ('Strawberry', 0.41),\n",
              " ('Watermelon', 0.37)]"
            ]
          },
          "metadata": {
            "tags": []
          },
          "execution_count": 55
        }
      ]
    },
    {
      "cell_type": "markdown",
      "metadata": {
        "id": "T4Li1Q2d-pnZ"
      },
      "source": [
        "Ordem reversa (por key):"
      ]
    },
    {
      "cell_type": "code",
      "metadata": {
        "id": "PoBOmfpM_A_a",
        "colab": {
          "base_uri": "https://localhost:8080/"
        },
        "outputId": "b0030a8d-07ca-4922-e74d-2f9b855c1e7a"
      },
      "source": [
        "d_frutas_ordenadas_reverse = sorted(d_frutas.items(), reverse = True)\n",
        "d_frutas_ordenadas_reverse"
      ],
      "execution_count": null,
      "outputs": [
        {
          "output_type": "execute_result",
          "data": {
            "text/plain": [
              "[('Watermelon', 0.37),\n",
              " ('Strawberry', 0.41),\n",
              " ('Raspberry', 0.32),\n",
              " ('Plum', 0.49),\n",
              " ('Pineapple', 0.45),\n",
              " ('Peach', 0.45),\n",
              " ('Passion Fruit', 0.37),\n",
              " ('Papaya', 0.24),\n",
              " ('Orange', 0.21),\n",
              " ('Nectarine', 0.61),\n",
              " ('Mango', 0.65),\n",
              " ('Lemon', 0.13),\n",
              " ('Kiwi', 0.16),\n",
              " ('Grapefruit', 0.81),\n",
              " ('Grape', 0.53),\n",
              " ('Fig', 0.49),\n",
              " ('Coconut', 0.61),\n",
              " ('Cherry', 0.41),\n",
              " ('Blueberry', 0.37),\n",
              " ('Blackcurrant', 0.57),\n",
              " ('Blackberry', 0.45),\n",
              " ('Banana', 0.24),\n",
              " ('Apricot', 0.21),\n",
              " ('Apple', 0.57)]"
            ]
          },
          "metadata": {
            "tags": []
          },
          "execution_count": 56
        }
      ]
    },
    {
      "cell_type": "markdown",
      "metadata": {
        "id": "FxTC2-U88ajk"
      },
      "source": [
        "## Função filter()\n",
        "* A função filter() aplica um filtro no dicionário, retornando apenas os itens que satisfaz as condições do filtro."
      ]
    },
    {
      "cell_type": "code",
      "metadata": {
        "id": "iJq1clvOHVG2",
        "colab": {
          "base_uri": "https://localhost:8080/",
          "height": 171
        },
        "outputId": "d10ba563-8c78-46d6-a87f-9ad698cfcff7"
      },
      "source": [
        "d_frutas"
      ],
      "execution_count": null,
      "outputs": [
        {
          "output_type": "error",
          "ename": "NameError",
          "evalue": "ignored",
          "traceback": [
            "\u001b[0;31m---------------------------------------------------------------------------\u001b[0m",
            "\u001b[0;31mNameError\u001b[0m                                 Traceback (most recent call last)",
            "\u001b[0;32m<ipython-input-2-d9a838f89225>\u001b[0m in \u001b[0;36m<module>\u001b[0;34m()\u001b[0m\n\u001b[0;32m----> 1\u001b[0;31m \u001b[0md_frutas\u001b[0m\u001b[0;34m\u001b[0m\u001b[0;34m\u001b[0m\u001b[0m\n\u001b[0m",
            "\u001b[0;31mNameError\u001b[0m: name 'd_frutas' is not defined"
          ]
        }
      ]
    },
    {
      "cell_type": "markdown",
      "metadata": {
        "id": "qtTKvNeJNycl"
      },
      "source": [
        "### Filtrando por key:"
      ]
    },
    {
      "cell_type": "markdown",
      "metadata": {
        "id": "wfnhQoqMdA5Q"
      },
      "source": [
        "> Utilizando um **for implicito**,  a **função filter** e a **função implicita Lambda**."
      ]
    },
    {
      "cell_type": "code",
      "metadata": {
        "id": "uIDW5FhwAiSs",
        "colab": {
          "base_uri": "https://localhost:8080/"
        },
        "outputId": "f9c05de2-65fa-4b94-a93f-e1645514a8db"
      },
      "source": [
        "d_frutas2 = {chave: valor for chave, valor in filter(lambda t: t[0] == 'Apple', d_frutas.items())}\n",
        "d_frutas2"
      ],
      "execution_count": null,
      "outputs": [
        {
          "output_type": "execute_result",
          "data": {
            "text/plain": [
              "{'Apple': 0.57}"
            ]
          },
          "metadata": {
            "tags": []
          },
          "execution_count": 58
        }
      ]
    },
    {
      "cell_type": "markdown",
      "metadata": {
        "id": "JtbUrtyaTl-H"
      },
      "source": [
        "####**Versões mais Pythonic** -- Utilizando apenas  filter e a  função lambda !!"
      ]
    },
    {
      "cell_type": "code",
      "metadata": {
        "id": "l4etRMMEToau",
        "colab": {
          "base_uri": "https://localhost:8080/"
        },
        "outputId": "cbe26cd6-ea40-48c4-fbcd-15e4d36db122"
      },
      "source": [
        "# Opção 1:\n",
        "\n",
        "d_frutas2 = dict(filter(lambda t: t[0] == 'Apple', d_frutas.items()))\n",
        "d_frutas2"
      ],
      "execution_count": null,
      "outputs": [
        {
          "output_type": "execute_result",
          "data": {
            "text/plain": [
              "{'Apple': 0.57}"
            ]
          },
          "metadata": {
            "tags": []
          },
          "execution_count": 59
        }
      ]
    },
    {
      "cell_type": "markdown",
      "metadata": {
        "id": "PNdklSdof9oi"
      },
      "source": [
        "Utilizando for implicito com if"
      ]
    },
    {
      "cell_type": "code",
      "metadata": {
        "id": "0y0cfS61Vbgw",
        "colab": {
          "base_uri": "https://localhost:8080/"
        },
        "outputId": "665c0a14-1106-4e3a-ce8e-9ca5ebb8a647"
      },
      "source": [
        "# Opção 2:\n",
        "d_frutas2 = {chave: valor for chave, valor in d_frutas.items() if chave == 'Apple'}\n",
        "d_frutas2"
      ],
      "execution_count": null,
      "outputs": [
        {
          "output_type": "execute_result",
          "data": {
            "text/plain": [
              "{'Apple': 0.57}"
            ]
          },
          "metadata": {
            "tags": []
          },
          "execution_count": 63
        }
      ]
    },
    {
      "cell_type": "markdown",
      "metadata": {
        "id": "3XmPlpNqBVMl"
      },
      "source": [
        "### A expressão acima é equivalente à expressão abaixo: Utilizando o loop for"
      ]
    },
    {
      "cell_type": "code",
      "metadata": {
        "id": "_5j19I7tiHgp",
        "colab": {
          "base_uri": "https://localhost:8080/"
        },
        "outputId": "5630e468-302f-4781-c349-a51e9c5a7671"
      },
      "source": [
        "d_filtro = {}\n",
        "\n",
        "for chave, valor in d_frutas.items():\n",
        "    if chave == 'Apple':\n",
        "        d_filtro.update({chave: valor})\n",
        "\n",
        "d_filtro"
      ],
      "execution_count": null,
      "outputs": [
        {
          "output_type": "execute_result",
          "data": {
            "text/plain": [
              "{'Apple': 0.57}"
            ]
          },
          "metadata": {
            "tags": []
          },
          "execution_count": 62
        }
      ]
    },
    {
      "cell_type": "markdown",
      "metadata": {
        "id": "b3TrU733iGZ8"
      },
      "source": [
        "### Filtrando por valor"
      ]
    },
    {
      "cell_type": "code",
      "metadata": {
        "id": "tvHcQatANltL",
        "colab": {
          "base_uri": "https://localhost:8080/"
        },
        "outputId": "1a4141fc-471a-438c-b01c-f47f037751c6"
      },
      "source": [
        "d_frutas3 = {k: v for k, v in filter(lambda t: t[1] > 0.5, d_frutas.items())}\n",
        "d_frutas3"
      ],
      "execution_count": null,
      "outputs": [
        {
          "output_type": "execute_result",
          "data": {
            "text/plain": [
              "{'Apple': 0.57,\n",
              " 'Blackcurrant': 0.57,\n",
              " 'Coconut': 0.61,\n",
              " 'Grape': 0.53,\n",
              " 'Grapefruit': 0.81,\n",
              " 'Mango': 0.65,\n",
              " 'Nectarine': 0.61}"
            ]
          },
          "metadata": {
            "tags": []
          },
          "execution_count": 66
        }
      ]
    },
    {
      "cell_type": "markdown",
      "metadata": {
        "id": "nUMGIzxeNt_U"
      },
      "source": [
        "\n",
        "> ### Equivalente a:\n"
      ]
    },
    {
      "cell_type": "code",
      "metadata": {
        "colab": {
          "base_uri": "https://localhost:8080/"
        },
        "id": "yAgRXQIjidoT",
        "outputId": "847aefcc-a7b1-4c68-8c28-c5a4ecc92826"
      },
      "source": [
        "d_frutas3 = {}\r\n",
        "\r\n",
        "for key, value in d_frutas.items():\r\n",
        "    if value > 0.5:\r\n",
        "        d_frutas3.update({key: value})\r\n",
        "        \r\n",
        "d_frutas3"
      ],
      "execution_count": null,
      "outputs": [
        {
          "output_type": "execute_result",
          "data": {
            "text/plain": [
              "{'Apple': 0.57,\n",
              " 'Blackcurrant': 0.57,\n",
              " 'Coconut': 0.61,\n",
              " 'Grape': 0.53,\n",
              " 'Grapefruit': 0.81,\n",
              " 'Mango': 0.65,\n",
              " 'Nectarine': 0.61}"
            ]
          },
          "metadata": {
            "tags": []
          },
          "execution_count": 67
        }
      ]
    },
    {
      "cell_type": "markdown",
      "metadata": {
        "id": "mqOFuiG1WEMG"
      },
      "source": [
        "#### **Versões mais Pythonic!**"
      ]
    },
    {
      "cell_type": "code",
      "metadata": {
        "id": "n0QV7jEfWEMH",
        "colab": {
          "base_uri": "https://localhost:8080/"
        },
        "outputId": "381a1e2e-506c-45cf-d175-49e534fe334e"
      },
      "source": [
        "# Opção 1:\n",
        "\n",
        "d_frutas3 = dict(filter(lambda t: t[1] > 0.5, d_frutas.items()))\n",
        "d_frutas3"
      ],
      "execution_count": null,
      "outputs": [
        {
          "output_type": "execute_result",
          "data": {
            "text/plain": [
              "{'Blackberry': 0.55,\n",
              " 'Blackcurrant': 0.7,\n",
              " 'Coconut': 0.75,\n",
              " 'Fig': 0.6,\n",
              " 'Grape': 0.65,\n",
              " 'Mango': 0.8,\n",
              " 'Nectarine': 0.75,\n",
              " 'Peach': 0.55,\n",
              " 'Pineapple': 0.55,\n",
              " 'Plum': 0.6}"
            ]
          },
          "metadata": {
            "tags": []
          },
          "execution_count": 6
        }
      ]
    },
    {
      "cell_type": "code",
      "metadata": {
        "id": "5BhyxoDvWEMK",
        "colab": {
          "base_uri": "https://localhost:8080/"
        },
        "outputId": "1b4e2645-9206-4dce-ca03-e59d1fb32e0d"
      },
      "source": [
        "# Opção 2:\n",
        "d_frutas3 = {chave: valor for chave, valor in d_frutas.items() if valor > 0.5}\n",
        "d_frutas3"
      ],
      "execution_count": null,
      "outputs": [
        {
          "output_type": "execute_result",
          "data": {
            "text/plain": [
              "{'Blackberry': 0.55,\n",
              " 'Blackcurrant': 0.7,\n",
              " 'Coconut': 0.75,\n",
              " 'Fig': 0.6,\n",
              " 'Grape': 0.65,\n",
              " 'Mango': 0.8,\n",
              " 'Nectarine': 0.75,\n",
              " 'Peach': 0.55,\n",
              " 'Pineapple': 0.55,\n",
              " 'Plum': 0.6}"
            ]
          },
          "metadata": {
            "tags": []
          },
          "execution_count": 8
        }
      ]
    },
    {
      "cell_type": "markdown",
      "metadata": {
        "id": "qA_XhCdmA6Gn"
      },
      "source": [
        "___\n",
        "# **EXERCÍCIOS**"
      ]
    },
    {
      "cell_type": "markdown",
      "metadata": {
        "id": "RSpyl_URgNyE"
      },
      "source": [
        "## Exercício 1\n",
        "* É possível sortear os itens de um dicionário? Explique sua resposta."
      ]
    },
    {
      "cell_type": "markdown",
      "metadata": {
        "id": "CXqc9kHch6Mm"
      },
      "source": [
        "## Exercício 2\n",
        "* É possível termos um dicionário do tipo abaixo?"
      ]
    },
    {
      "cell_type": "code",
      "metadata": {
        "id": "0BBWO9Zth_mc",
        "colab": {
          "base_uri": "https://localhost:8080/"
        },
        "outputId": "83f218d5-4c28-48b7-dc02-58053e1cc06a"
      },
      "source": [
        "\n",
        "# Resposta\n",
        "d_colaboradores = {'Gerentes': ['A', 'B', 'C'], 'Programadores': ['B', 'D', 'E', 'F', 'G'], 'Gerentes_Projeto': ['A', 'E']}\n",
        "d_colaboradores"
      ],
      "execution_count": null,
      "outputs": [
        {
          "output_type": "execute_result",
          "data": {
            "text/plain": [
              "{'Gerentes': ['A', 'B', 'C'],\n",
              " 'Gerentes_Projeto': ['A', 'E'],\n",
              " 'Programadores': ['B', 'D', 'E', 'F', 'G']}"
            ]
          },
          "metadata": {
            "tags": []
          },
          "execution_count": 9
        }
      ]
    },
    {
      "cell_type": "markdown",
      "metadata": {
        "id": "TNiJSG_uiePb"
      },
      "source": [
        "Como acessar o Gerente 'A'?"
      ]
    },
    {
      "cell_type": "code",
      "metadata": {
        "id": "rGvVgyz7jxwn",
        "colab": {
          "base_uri": "https://localhost:8080/"
        },
        "outputId": "74036a43-6b07-49af-ed14-e1d8b4af86c2"
      },
      "source": [
        "d_colaboradores['Gerentes']"
      ],
      "execution_count": null,
      "outputs": [
        {
          "output_type": "execute_result",
          "data": {
            "text/plain": [
              "['A', 'B', 'C']"
            ]
          },
          "metadata": {
            "tags": []
          },
          "execution_count": 10
        }
      ]
    },
    {
      "cell_type": "code",
      "metadata": {
        "colab": {
          "base_uri": "https://localhost:8080/",
          "height": 35
        },
        "id": "gFr1Iieglrul",
        "outputId": "2ada92e6-c64b-4320-ff7b-15cccbafa345"
      },
      "source": [
        "d_colaboradores['Gerentes'][0]"
      ],
      "execution_count": null,
      "outputs": [
        {
          "output_type": "execute_result",
          "data": {
            "application/vnd.google.colaboratory.intrinsic+json": {
              "type": "string"
            },
            "text/plain": [
              "'A'"
            ]
          },
          "metadata": {
            "tags": []
          },
          "execution_count": 13
        }
      ]
    },
    {
      "cell_type": "code",
      "metadata": {
        "id": "WV0WaGB4kCiP",
        "colab": {
          "base_uri": "https://localhost:8080/",
          "height": 35
        },
        "outputId": "80ec2730-c4ff-474c-969b-7b81733b35f5"
      },
      "source": [
        "# Sintaxe do instrutor \n",
        "s_gerentes = d_colaboradores['Gerentes']\n",
        "s_gerentes[0]"
      ],
      "execution_count": null,
      "outputs": [
        {
          "output_type": "execute_result",
          "data": {
            "application/vnd.google.colaboratory.intrinsic+json": {
              "type": "string"
            },
            "text/plain": [
              "'A'"
            ]
          },
          "metadata": {
            "tags": []
          },
          "execution_count": 14
        }
      ]
    },
    {
      "cell_type": "code",
      "metadata": {
        "id": "BZTbPGy2C6YV"
      },
      "source": [
        ""
      ],
      "execution_count": null,
      "outputs": []
    },
    {
      "cell_type": "markdown",
      "metadata": {
        "id": "rj_1lDjjnv9_"
      },
      "source": [
        "> ### -------------------------------------------------------------------------------------------------"
      ]
    },
    {
      "cell_type": "code",
      "metadata": {
        "id": "c-VwXvdij3QQ",
        "colab": {
          "base_uri": "https://localhost:8080/"
        },
        "outputId": "8141a971-e430-46d3-e696-91847016ab5d"
      },
      "source": [
        "d_colaboradores['Programadores']"
      ],
      "execution_count": null,
      "outputs": [
        {
          "output_type": "execute_result",
          "data": {
            "text/plain": [
              "['B', 'D', 'E', 'F', 'G']"
            ]
          },
          "metadata": {
            "tags": []
          },
          "execution_count": 15
        }
      ]
    },
    {
      "cell_type": "code",
      "metadata": {
        "colab": {
          "base_uri": "https://localhost:8080/",
          "height": 35
        },
        "id": "dIkPR3tJm_JY",
        "outputId": "7eb75344-db0e-4eb1-cb3f-5ce90f3845af"
      },
      "source": [
        "d_colaboradores['Programadores'][4]"
      ],
      "execution_count": null,
      "outputs": [
        {
          "output_type": "execute_result",
          "data": {
            "application/vnd.google.colaboratory.intrinsic+json": {
              "type": "string"
            },
            "text/plain": [
              "'G'"
            ]
          },
          "metadata": {
            "tags": []
          },
          "execution_count": 16
        }
      ]
    },
    {
      "cell_type": "code",
      "metadata": {
        "colab": {
          "base_uri": "https://localhost:8080/"
        },
        "id": "8tz1E1FgnNnm",
        "outputId": "8ea4be7b-dabe-4b4b-c6bc-708c2ab4c2b6"
      },
      "source": [
        "d_colaboradores.keys()"
      ],
      "execution_count": null,
      "outputs": [
        {
          "output_type": "execute_result",
          "data": {
            "text/plain": [
              "dict_keys(['Gerentes', 'Programadores', 'Gerentes_Projeto'])"
            ]
          },
          "metadata": {
            "tags": []
          },
          "execution_count": 17
        }
      ]
    },
    {
      "cell_type": "code",
      "metadata": {
        "id": "yRrG7wUgkf6K",
        "colab": {
          "base_uri": "https://localhost:8080/"
        },
        "outputId": "122c0ff9-47af-4a50-874e-42779aa3c068"
      },
      "source": [
        "s_gerente_A = d_colaboradores.values()\n",
        "s_gerente_A"
      ],
      "execution_count": null,
      "outputs": [
        {
          "output_type": "execute_result",
          "data": {
            "text/plain": [
              "dict_values([['A', 'B', 'C'], ['B', 'D', 'E', 'F', 'G'], ['A', 'E']])"
            ]
          },
          "metadata": {
            "tags": []
          },
          "execution_count": 55
        }
      ]
    },
    {
      "cell_type": "markdown",
      "metadata": {
        "id": "jH-KUQVZn9DV"
      },
      "source": [
        "> ### ----------------------------------------------------------------------------"
      ]
    },
    {
      "cell_type": "markdown",
      "metadata": {
        "id": "ntVcr_3XwaQ-"
      },
      "source": [
        "## Exercício 3\n",
        "Consulte a página [Python Data Types: Dictionary - Exercises, Practice, Solution](https://www.w3resource.com/python-exercises/dictionary/) para mais exercícios relacionados à dicionários."
      ]
    },
    {
      "cell_type": "markdown",
      "metadata": {
        "id": "7u5-o8dzlryA"
      },
      "source": [
        "## **Exercício 4**\n",
        "\n",
        "Retornar do dicionário d_colaboradores somente o Programador cujo nome seja 'E'. -- Utilizar filtros"
      ]
    },
    {
      "cell_type": "markdown",
      "metadata": {
        "id": "zfnP-CArmPb4"
      },
      "source": [
        "## **Exercício 5**\n",
        "\n",
        "Retornar qual é o cargo do funcionário (todas as pessoas da organização) que se chama 'A'. -- Utilizar filtros"
      ]
    },
    {
      "cell_type": "markdown",
      "metadata": {
        "id": "VzjLVeFvmnjk"
      },
      "source": [
        "## **Exercício 6**\n",
        "\n",
        "* Quais são os colabores que são ao mesmo tempo:\n",
        "    * Gerente de Projeto e Gerente (funcional)?\n",
        "    * Gerentes de Projeto e Programadores?"
      ]
    },
    {
      "cell_type": "code",
      "metadata": {
        "id": "wnCi3kWcl8Sb"
      },
      "source": [
        ""
      ],
      "execution_count": null,
      "outputs": []
    }
  ]
}